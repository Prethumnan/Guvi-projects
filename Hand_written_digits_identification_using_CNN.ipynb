{
  "nbformat": 4,
  "nbformat_minor": 0,
  "metadata": {
    "colab": {
      "name": "Hand written digits classification using CNN",
      "provenance": [],
      "collapsed_sections": [],
      "authorship_tag": "ABX9TyMY6MqINmGnzT+Czl1Pheq6",
      "include_colab_link": true
    },
    "kernelspec": {
      "name": "python3",
      "display_name": "Python 3"
    },
    "language_info": {
      "name": "python"
    }
  },
  "cells": [
    {
      "cell_type": "markdown",
      "metadata": {
        "id": "view-in-github",
        "colab_type": "text"
      },
      "source": [
        "<a href=\"https://colab.research.google.com/github/Prethumnan/guvi-project/blob/main/Hand_written_digits_identification_using_CNN.ipynb\" target=\"_parent\"><img src=\"https://colab.research.google.com/assets/colab-badge.svg\" alt=\"Open In Colab\"/></a>"
      ]
    },
    {
      "cell_type": "code",
      "metadata": {
        "id": "9wMBOvQmw4n5"
      },
      "source": [
        "#Importing required libraries\n",
        "\n",
        "import tensorflow\n",
        "from tensorflow.keras.layers import Dense,Flatten,Conv2D,MaxPooling2D,Activation\n",
        "import matplotlib.pyplot as plt\n",
        "%matplotlib inline\n",
        "from tensorflow.keras.models import Sequential\n",
        "import numpy as np"
      ],
      "execution_count": 1,
      "outputs": []
    },
    {
      "cell_type": "code",
      "metadata": {
        "colab": {
          "base_uri": "https://localhost:8080/"
        },
        "id": "bceZpKBlw6no",
        "outputId": "11439cfe-6757-4e65-9381-7955e21de5b9"
      },
      "source": [
        "#Loading data\n",
        "\n",
        "(x_train,y_train),(x_test,y_test)=tensorflow.keras.datasets.mnist.load_data()\n",
        "\n",
        "#scaling data\n",
        "\n",
        "x_train=x_train/255\n",
        "x_test=x_test/255\n",
        "\n",
        "#Reshaping the dimension\n",
        "\n",
        "xtrain=x_train.reshape(60000,28,28,1)\n",
        "xtest=x_test.reshape(10000,28,28,1)\n"
      ],
      "execution_count": 2,
      "outputs": [
        {
          "output_type": "stream",
          "name": "stdout",
          "text": [
            "Downloading data from https://storage.googleapis.com/tensorflow/tf-keras-datasets/mnist.npz\n",
            "11493376/11490434 [==============================] - 0s 0us/step\n",
            "11501568/11490434 [==============================] - 0s 0us/step\n"
          ]
        }
      ]
    },
    {
      "cell_type": "code",
      "metadata": {
        "id": "DlheNsNzxH3F"
      },
      "source": [
        "#First convolutional layer\n",
        "\n",
        "model=Sequential()\n",
        "model.add(Conv2D(64,(3,3),input_shape=(xtrain[0].shape)))\n",
        "model.add(Activation(\"relu\"))\n",
        "model.add(MaxPooling2D(pool_size=(2,2)))\n",
        "\n",
        "#second convolutional layer\n",
        "\n",
        "model.add(Conv2D(64,(3,3)))\n",
        "model.add(Activation(\"relu\"))\n",
        "model.add(MaxPooling2D(pool_size=(2,2)))\n",
        "\n",
        "#Third convolutional layer\n",
        "          \n",
        "model.add(Conv2D(64,(3,3)))\n",
        "model.add(Activation(\"relu\"))\n",
        "model.add(MaxPooling2D(pool_size=(2,2)))\n",
        "          \n",
        "model.add(Flatten())\n",
        "          \n",
        "#First dense layer\n",
        "          \n",
        "model.add(Dense(64))\n",
        "model.add(Activation(\"relu\"))\n",
        "\n",
        "#Second dense layer\n",
        "          \n",
        "model.add(Dense(32))\n",
        "model.add(Activation(\"relu\"))\n",
        "          \n",
        "#Output layer\n",
        "\n",
        "model.add(Dense(10))\n",
        "model.add(Activation(\"softmax\"))"
      ],
      "execution_count": 3,
      "outputs": []
    },
    {
      "cell_type": "code",
      "metadata": {
        "id": "YnhsM6mBw9Wr"
      },
      "source": [
        "#Compling the model\n",
        "\n",
        "model.compile(loss=\"sparse_categorical_crossentropy\",optimizer=\"adam\",metrics=[\"accuracy\"])"
      ],
      "execution_count": 4,
      "outputs": []
    },
    {
      "cell_type": "code",
      "metadata": {
        "colab": {
          "base_uri": "https://localhost:8080/"
        },
        "id": "0vinDAIyxODL",
        "outputId": "b0c6baa1-4937-407f-f11d-8f38bdeecf52"
      },
      "source": [
        "#Training the model\n",
        "\n",
        "model.fit(xtrain,y_train,epochs=15)"
      ],
      "execution_count": 5,
      "outputs": [
        {
          "output_type": "stream",
          "name": "stdout",
          "text": [
            "Epoch 1/15\n",
            "1875/1875 [==============================] - 80s 42ms/step - loss: 0.2466 - accuracy: 0.9228\n",
            "Epoch 2/15\n",
            "1875/1875 [==============================] - 79s 42ms/step - loss: 0.0783 - accuracy: 0.9761\n",
            "Epoch 3/15\n",
            "1875/1875 [==============================] - 79s 42ms/step - loss: 0.0574 - accuracy: 0.9825\n",
            "Epoch 4/15\n",
            "1875/1875 [==============================] - 79s 42ms/step - loss: 0.0444 - accuracy: 0.9863\n",
            "Epoch 5/15\n",
            "1875/1875 [==============================] - 79s 42ms/step - loss: 0.0359 - accuracy: 0.9889\n",
            "Epoch 6/15\n",
            "1875/1875 [==============================] - 79s 42ms/step - loss: 0.0292 - accuracy: 0.9908\n",
            "Epoch 7/15\n",
            "1875/1875 [==============================] - 79s 42ms/step - loss: 0.0246 - accuracy: 0.9919\n",
            "Epoch 8/15\n",
            "1875/1875 [==============================] - 78s 41ms/step - loss: 0.0211 - accuracy: 0.9933\n",
            "Epoch 9/15\n",
            "1875/1875 [==============================] - 79s 42ms/step - loss: 0.0194 - accuracy: 0.9937\n",
            "Epoch 10/15\n",
            "1875/1875 [==============================] - 79s 42ms/step - loss: 0.0169 - accuracy: 0.9946\n",
            "Epoch 11/15\n",
            "1875/1875 [==============================] - 79s 42ms/step - loss: 0.0154 - accuracy: 0.9951\n",
            "Epoch 12/15\n",
            "1875/1875 [==============================] - 79s 42ms/step - loss: 0.0133 - accuracy: 0.9956\n",
            "Epoch 13/15\n",
            "1875/1875 [==============================] - 79s 42ms/step - loss: 0.0133 - accuracy: 0.9957\n",
            "Epoch 14/15\n",
            "1875/1875 [==============================] - 79s 42ms/step - loss: 0.0126 - accuracy: 0.9962\n",
            "Epoch 15/15\n",
            "1875/1875 [==============================] - 79s 42ms/step - loss: 0.0119 - accuracy: 0.9962\n"
          ]
        },
        {
          "output_type": "execute_result",
          "data": {
            "text/plain": [
              "<keras.callbacks.History at 0x7f47d49da6d0>"
            ]
          },
          "metadata": {},
          "execution_count": 5
        }
      ]
    },
    {
      "cell_type": "code",
      "source": [
        "model.summary()"
      ],
      "metadata": {
        "colab": {
          "base_uri": "https://localhost:8080/"
        },
        "id": "lasQec_JY7VE",
        "outputId": "aa4db8bb-805e-46ad-bb5f-ded04101047b"
      },
      "execution_count": 6,
      "outputs": [
        {
          "output_type": "stream",
          "name": "stdout",
          "text": [
            "Model: \"sequential\"\n",
            "_________________________________________________________________\n",
            " Layer (type)                Output Shape              Param #   \n",
            "=================================================================\n",
            " conv2d (Conv2D)             (None, 26, 26, 64)        640       \n",
            "                                                                 \n",
            " activation (Activation)     (None, 26, 26, 64)        0         \n",
            "                                                                 \n",
            " max_pooling2d (MaxPooling2D  (None, 13, 13, 64)       0         \n",
            " )                                                               \n",
            "                                                                 \n",
            " conv2d_1 (Conv2D)           (None, 11, 11, 64)        36928     \n",
            "                                                                 \n",
            " activation_1 (Activation)   (None, 11, 11, 64)        0         \n",
            "                                                                 \n",
            " max_pooling2d_1 (MaxPooling  (None, 5, 5, 64)         0         \n",
            " 2D)                                                             \n",
            "                                                                 \n",
            " conv2d_2 (Conv2D)           (None, 3, 3, 64)          36928     \n",
            "                                                                 \n",
            " activation_2 (Activation)   (None, 3, 3, 64)          0         \n",
            "                                                                 \n",
            " max_pooling2d_2 (MaxPooling  (None, 1, 1, 64)         0         \n",
            " 2D)                                                             \n",
            "                                                                 \n",
            " flatten (Flatten)           (None, 64)                0         \n",
            "                                                                 \n",
            " dense (Dense)               (None, 64)                4160      \n",
            "                                                                 \n",
            " activation_3 (Activation)   (None, 64)                0         \n",
            "                                                                 \n",
            " dense_1 (Dense)             (None, 32)                2080      \n",
            "                                                                 \n",
            " activation_4 (Activation)   (None, 32)                0         \n",
            "                                                                 \n",
            " dense_2 (Dense)             (None, 10)                330       \n",
            "                                                                 \n",
            " activation_5 (Activation)   (None, 10)                0         \n",
            "                                                                 \n",
            "=================================================================\n",
            "Total params: 81,066\n",
            "Trainable params: 81,066\n",
            "Non-trainable params: 0\n",
            "_________________________________________________________________\n"
          ]
        }
      ]
    },
    {
      "cell_type": "code",
      "metadata": {
        "colab": {
          "base_uri": "https://localhost:8080/"
        },
        "id": "uokPLzE91yB2",
        "outputId": "7e94b6d8-ca2f-4f61-afca-34493ef9d5ec"
      },
      "source": [
        "#Evaluvating the model\n",
        "model.evaluate(xtest,y_test)"
      ],
      "execution_count": 7,
      "outputs": [
        {
          "output_type": "stream",
          "name": "stdout",
          "text": [
            "313/313 [==============================] - 4s 12ms/step - loss: 0.0570 - accuracy: 0.9874\n"
          ]
        },
        {
          "output_type": "execute_result",
          "data": {
            "text/plain": [
              "[0.05702284723520279, 0.9873999953269958]"
            ]
          },
          "metadata": {},
          "execution_count": 7
        }
      ]
    },
    {
      "cell_type": "code",
      "metadata": {
        "id": "T0zlo7jL17Fi"
      },
      "source": [
        "import cv2"
      ],
      "execution_count": 8,
      "outputs": []
    },
    {
      "cell_type": "code",
      "metadata": {
        "id": "cQffP_5R1-K6"
      },
      "source": [
        "image=cv2.imread(\"t.png\")"
      ],
      "execution_count": 9,
      "outputs": []
    },
    {
      "cell_type": "code",
      "metadata": {
        "colab": {
          "base_uri": "https://localhost:8080/",
          "height": 286
        },
        "id": "cV6LEH-d2SZH",
        "outputId": "a7d11bd1-b814-40cb-ed48-a4cc0ea9ece8"
      },
      "source": [
        "plt.imshow(image)"
      ],
      "execution_count": 10,
      "outputs": [
        {
          "output_type": "execute_result",
          "data": {
            "text/plain": [
              "<matplotlib.image.AxesImage at 0x7f47d17cd190>"
            ]
          },
          "metadata": {},
          "execution_count": 10
        },
        {
          "output_type": "display_data",
          "data": {
            "image/png": "[encoded data removed]",
            "text/plain": [
              "<Figure size 432x288 with 1 Axes>"
            ]
          },
          "metadata": {
            "needs_background": "light"
          }
        }
      ]
    },
    {
      "cell_type": "code",
      "metadata": {
        "colab": {
          "base_uri": "https://localhost:8080/"
        },
        "id": "3oH7xIuw2XiS",
        "outputId": "900b8d3f-4d15-4f90-e5eb-b9719cc04f2e"
      },
      "source": [
        "image.shape"
      ],
      "execution_count": 11,
      "outputs": [
        {
          "output_type": "execute_result",
          "data": {
            "text/plain": [
              "(648, 534, 3)"
            ]
          },
          "metadata": {},
          "execution_count": 11
        }
      ]
    },
    {
      "cell_type": "code",
      "metadata": {
        "id": "k5waPHYj2bkY"
      },
      "source": [
        "#Converting color image to grey color with single channel\n",
        "img=cv2.cvtColor(image,cv2.COLOR_BGR2GRAY)"
      ],
      "execution_count": 12,
      "outputs": []
    },
    {
      "cell_type": "code",
      "metadata": {
        "colab": {
          "base_uri": "https://localhost:8080/"
        },
        "id": "GXcN8PjU3AQf",
        "outputId": "33165b63-01e9-4d83-b5c7-9c185b745ce4"
      },
      "source": [
        "img.shape"
      ],
      "execution_count": 13,
      "outputs": [
        {
          "output_type": "execute_result",
          "data": {
            "text/plain": [
              "(648, 534)"
            ]
          },
          "metadata": {},
          "execution_count": 13
        }
      ]
    },
    {
      "cell_type": "code",
      "metadata": {
        "id": "WoI3O5-y3EeB"
      },
      "source": [
        "#Resizing the pixels\n",
        "new=cv2.resize(img,(28,28))"
      ],
      "execution_count": 14,
      "outputs": []
    },
    {
      "cell_type": "code",
      "metadata": {
        "colab": {
          "base_uri": "https://localhost:8080/"
        },
        "id": "dDt7yXZ-3Zin",
        "outputId": "4caef3d2-3891-41de-ba73-68d634f09e0c"
      },
      "source": [
        "new.shape"
      ],
      "execution_count": 15,
      "outputs": [
        {
          "output_type": "execute_result",
          "data": {
            "text/plain": [
              "(28, 28)"
            ]
          },
          "metadata": {},
          "execution_count": 15
        }
      ]
    },
    {
      "cell_type": "code",
      "metadata": {
        "id": "UsZc-r7a3eyA"
      },
      "source": [
        "final=tensorflow.keras.utils.normalize(new)"
      ],
      "execution_count": 16,
      "outputs": []
    },
    {
      "cell_type": "code",
      "metadata": {
        "id": "Y2DbOkvk3pKe"
      },
      "source": [
        "result=final.reshape(-1,28,28,1)"
      ],
      "execution_count": 17,
      "outputs": []
    },
    {
      "cell_type": "code",
      "metadata": {
        "colab": {
          "base_uri": "https://localhost:8080/"
        },
        "id": "dCUoZofM33OF",
        "outputId": "862320cb-77a0-453a-c83b-63cdf8b6a012"
      },
      "source": [
        "#Predicting the image\n",
        "m=model.predict(result)\n",
        "np.argmax(m)"
      ],
      "execution_count": 20,
      "outputs": [
        {
          "output_type": "execute_result",
          "data": {
            "text/plain": [
              "3"
            ]
          },
          "metadata": {},
          "execution_count": 20
        }
      ]
    },
    {
      "cell_type": "code",
      "source": [
        "plt.imshow(cv2.imread(\"Three.png\"))"
      ],
      "metadata": {
        "id": "KUnyDQrpdMiB",
        "outputId": "2985490e-1b25-4dee-d39c-7938f2cb82fd",
        "colab": {
          "base_uri": "https://localhost:8080/",
          "height": 286
        }
      },
      "execution_count": 26,
      "outputs": [
        {
          "output_type": "execute_result",
          "data": {
            "text/plain": [
              "<matplotlib.image.AxesImage at 0x7f47d30e4650>"
            ]
          },
          "metadata": {},
          "execution_count": 26
        },
        {
          "output_type": "display_data",
          "data": {
            "image/png": "[encoded data removed]",
            "text/plain": [
              "<Figure size 432x288 with 1 Axes>"
            ]
          },
          "metadata": {
            "needs_background": "light"
          }
        }
      ]
    },
    {
      "cell_type": "code",
      "metadata": {
        "id": "IPD_VkMY4NJi"
      },
      "source": [
        "\n",
        "#Creating a function to predict images using our trained model\n",
        "def smart(im):\n",
        "  image=cv2.imread(im)\n",
        "  img=cv2.cvtColor(image,cv2.COLOR_BGR2GRAY)\n",
        "  new=cv2.resize(img,(28,28),interpolation=cv2.INTER_AREA)\n",
        "  final=tensorflow.keras.utils.normalize(new)\n",
        "  result=final.reshape(-1,28,28,1)\n",
        "  m=model.predict(result)\n",
        "  return np.argmax(m)\n"
      ],
      "execution_count": 21,
      "outputs": []
    },
    {
      "cell_type": "code",
      "metadata": {
        "colab": {
          "base_uri": "https://localhost:8080/"
        },
        "id": "hsad1Hrc455X",
        "outputId": "43889cea-0f35-4cda-da1f-831356ffe778"
      },
      "source": [
        "smart(\"Three.png\")"
      ],
      "execution_count": 23,
      "outputs": [
        {
          "output_type": "execute_result",
          "data": {
            "text/plain": [
              "3"
            ]
          },
          "metadata": {},
          "execution_count": 23
        }
      ]
    }
  ]
}