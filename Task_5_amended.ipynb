{
  "nbformat": 4,
  "nbformat_minor": 0,
  "metadata": {
    "colab": {
      "name": "Task 5 amended",
      "provenance": [],
      "collapsed_sections": [],
      "authorship_tag": "ABX9TyN/TyCSuDXW1zCKY0TypgCS",
      "include_colab_link": true
    },
    "kernelspec": {
      "name": "python3",
      "display_name": "Python 3"
    },
    "language_info": {
      "name": "python"
    }
  },
  "cells": [
    {
      "cell_type": "markdown",
      "metadata": {
        "id": "view-in-github",
        "colab_type": "text"
      },
      "source": [
        "<a href=\"https://colab.research.google.com/github/Prethumnan/guvi-project/blob/main/Task_5_amended.ipynb\" target=\"_parent\"><img src=\"https://colab.research.google.com/assets/colab-badge.svg\" alt=\"Open In Colab\"/></a>"
      ]
    },
    {
      "cell_type": "code",
      "execution_count": null,
      "metadata": {
        "id": "8xcAOmF5zNPV"
      },
      "outputs": [],
      "source": [
        "#Importing necessary libraries\n",
        "import numpy as np\n",
        "import matplotlib.pyplot as plt\n",
        "import pandas as pd\n",
        "import seaborn as sns\n",
        "import sklearn\n",
        "%matplotlib inline"
      ]
    },
    {
      "cell_type": "code",
      "source": [
        "data=pd.read_csv(\"takehome_user_engagement.csv\")\n",
        "df=pd.read_csv(\"takehome_users.csv\",encoding = \"ISO-8859-1\")"
      ],
      "metadata": {
        "id": "7DLOh3CK0jGi"
      },
      "execution_count": null,
      "outputs": []
    },
    {
      "cell_type": "code",
      "source": [
        "data.head()"
      ],
      "metadata": {
        "colab": {
          "base_uri": "https://localhost:8080/",
          "height": 206
        },
        "id": "JGHXrNn_4e4Y",
        "outputId": "4b3da1d7-9fb6-4436-e7d1-064fe5dc0370"
      },
      "execution_count": null,
      "outputs": [
        {
          "output_type": "execute_result",
          "data": {
            "text/html": [
              "\n",
              "  <div id=\"df-3c75299e-d8b4-474b-b651-34e9982812be\">\n",
              "    <div class=\"colab-df-container\">\n",
              "      <div>\n",
              "<style scoped>\n",
              "    .dataframe tbody tr th:only-of-type {\n",
              "        vertical-align: middle;\n",
              "    }\n",
              "\n",
              "    .dataframe tbody tr th {\n",
              "        vertical-align: top;\n",
              "    }\n",
              "\n",
              "    .dataframe thead th {\n",
              "        text-align: right;\n",
              "    }\n",
              "</style>\n",
              "<table border=\"1\" class=\"dataframe\">\n",
              "  <thead>\n",
              "    <tr style=\"text-align: right;\">\n",
              "      <th></th>\n",
              "      <th>time_stamp</th>\n",
              "      <th>user_id</th>\n",
              "      <th>visited</th>\n",
              "    </tr>\n",
              "  </thead>\n",
              "  <tbody>\n",
              "    <tr>\n",
              "      <th>0</th>\n",
              "      <td>2014-04-22 03:53:30</td>\n",
              "      <td>1</td>\n",
              "      <td>1</td>\n",
              "    </tr>\n",
              "    <tr>\n",
              "      <th>1</th>\n",
              "      <td>2013-11-15 03:45:04</td>\n",
              "      <td>2</td>\n",
              "      <td>1</td>\n",
              "    </tr>\n",
              "    <tr>\n",
              "      <th>2</th>\n",
              "      <td>2013-11-29 03:45:04</td>\n",
              "      <td>2</td>\n",
              "      <td>1</td>\n",
              "    </tr>\n",
              "    <tr>\n",
              "      <th>3</th>\n",
              "      <td>2013-12-09 03:45:04</td>\n",
              "      <td>2</td>\n",
              "      <td>1</td>\n",
              "    </tr>\n",
              "    <tr>\n",
              "      <th>4</th>\n",
              "      <td>2013-12-25 03:45:04</td>\n",
              "      <td>2</td>\n",
              "      <td>1</td>\n",
              "    </tr>\n",
              "  </tbody>\n",
              "</table>\n",
              "</div>\n",
              "      <button class=\"colab-df-convert\" onclick=\"convertToInteractive('df-3c75299e-d8b4-474b-b651-34e9982812be')\"\n",
              "              title=\"Convert this dataframe to an interactive table.\"\n",
              "              style=\"display:none;\">\n",
              "        \n",
              "  <svg xmlns=\"http://www.w3.org/2000/svg\" height=\"24px\"viewBox=\"0 0 24 24\"\n",
              "       width=\"24px\">\n",
              "    <path d=\"M0 0h24v24H0V0z\" fill=\"none\"/>\n",
              "    <path d=\"M18.56 5.44l.94 2.06.94-2.06 2.06-.94-2.06-.94-.94-2.06-.94 2.06-2.06.94zm-11 1L8.5 8.5l.94-2.06 2.06-.94-2.06-.94L8.5 2.5l-.94 2.06-2.06.94zm10 10l.94 2.06.94-2.06 2.06-.94-2.06-.94-.94-2.06-.94 2.06-2.06.94z\"/><path d=\"M17.41 7.96l-1.37-1.37c-.4-.4-.92-.59-1.43-.59-.52 0-1.04.2-1.43.59L10.3 9.45l-7.72 7.72c-.78.78-.78 2.05 0 2.83L4 21.41c.39.39.9.59 1.41.59.51 0 1.02-.2 1.41-.59l7.78-7.78 2.81-2.81c.8-.78.8-2.07 0-2.86zM5.41 20L4 18.59l7.72-7.72 1.47 1.35L5.41 20z\"/>\n",
              "  </svg>\n",
              "      </button>\n",
              "      \n",
              "  <style>\n",
              "    .colab-df-container {\n",
              "      display:flex;\n",
              "      flex-wrap:wrap;\n",
              "      gap: 12px;\n",
              "    }\n",
              "\n",
              "    .colab-df-convert {\n",
              "      background-color: #E8F0FE;\n",
              "      border: none;\n",
              "      border-radius: 50%;\n",
              "      cursor: pointer;\n",
              "      display: none;\n",
              "      fill: #1967D2;\n",
              "      height: 32px;\n",
              "      padding: 0 0 0 0;\n",
              "      width: 32px;\n",
              "    }\n",
              "\n",
              "    .colab-df-convert:hover {\n",
              "      background-color: #E2EBFA;\n",
              "      box-shadow: 0px 1px 2px rgba(60, 64, 67, 0.3), 0px 1px 3px 1px rgba(60, 64, 67, 0.15);\n",
              "      fill: #174EA6;\n",
              "    }\n",
              "\n",
              "    [theme=dark] .colab-df-convert {\n",
              "      background-color: #3B4455;\n",
              "      fill: #D2E3FC;\n",
              "    }\n",
              "\n",
              "    [theme=dark] .colab-df-convert:hover {\n",
              "      background-color: #434B5C;\n",
              "      box-shadow: 0px 1px 3px 1px rgba(0, 0, 0, 0.15);\n",
              "      filter: drop-shadow(0px 1px 2px rgba(0, 0, 0, 0.3));\n",
              "      fill: #FFFFFF;\n",
              "    }\n",
              "  </style>\n",
              "\n",
              "      <script>\n",
              "        const buttonEl =\n",
              "          document.querySelector('#df-3c75299e-d8b4-474b-b651-34e9982812be button.colab-df-convert');\n",
              "        buttonEl.style.display =\n",
              "          google.colab.kernel.accessAllowed ? 'block' : 'none';\n",
              "\n",
              "        async function convertToInteractive(key) {\n",
              "          const element = document.querySelector('#df-3c75299e-d8b4-474b-b651-34e9982812be');\n",
              "          const dataTable =\n",
              "            await google.colab.kernel.invokeFunction('convertToInteractive',\n",
              "                                                     [key], {});\n",
              "          if (!dataTable) return;\n",
              "\n",
              "          const docLinkHtml = 'Like what you see? Visit the ' +\n",
              "            '<a target=\"_blank\" href=https://colab.research.google.com/notebooks/data_table.ipynb>data table notebook</a>'\n",
              "            + ' to learn more about interactive tables.';\n",
              "          element.innerHTML = '';\n",
              "          dataTable['output_type'] = 'display_data';\n",
              "          await google.colab.output.renderOutput(dataTable, element);\n",
              "          const docLink = document.createElement('div');\n",
              "          docLink.innerHTML = docLinkHtml;\n",
              "          element.appendChild(docLink);\n",
              "        }\n",
              "      </script>\n",
              "    </div>\n",
              "  </div>\n",
              "  "
            ],
            "text/plain": [
              "            time_stamp  user_id  visited\n",
              "0  2014-04-22 03:53:30        1        1\n",
              "1  2013-11-15 03:45:04        2        1\n",
              "2  2013-11-29 03:45:04        2        1\n",
              "3  2013-12-09 03:45:04        2        1\n",
              "4  2013-12-25 03:45:04        2        1"
            ]
          },
          "metadata": {},
          "execution_count": 7
        }
      ]
    },
    {
      "cell_type": "code",
      "source": [
        "data.shape"
      ],
      "metadata": {
        "colab": {
          "base_uri": "https://localhost:8080/"
        },
        "id": "813BpNpT4ls3",
        "outputId": "8004c9c4-8b29-4012-cc8e-b5a374cef743"
      },
      "execution_count": null,
      "outputs": [
        {
          "output_type": "execute_result",
          "data": {
            "text/plain": [
              "(207917, 3)"
            ]
          },
          "metadata": {},
          "execution_count": 9
        }
      ]
    },
    {
      "cell_type": "code",
      "source": [
        "df.head()"
      ],
      "metadata": {
        "colab": {
          "base_uri": "https://localhost:8080/",
          "height": 357
        },
        "id": "2WjZtLeu4shw",
        "outputId": "0eb22db2-b84d-4a73-ff06-5d38a5e022db"
      },
      "execution_count": null,
      "outputs": [
        {
          "output_type": "execute_result",
          "data": {
            "text/html": [
              "\n",
              "  <div id=\"df-cf4d2e98-efa2-4d37-942f-e1e75bc5673f\">\n",
              "    <div class=\"colab-df-container\">\n",
              "      <div>\n",
              "<style scoped>\n",
              "    .dataframe tbody tr th:only-of-type {\n",
              "        vertical-align: middle;\n",
              "    }\n",
              "\n",
              "    .dataframe tbody tr th {\n",
              "        vertical-align: top;\n",
              "    }\n",
              "\n",
              "    .dataframe thead th {\n",
              "        text-align: right;\n",
              "    }\n",
              "</style>\n",
              "<table border=\"1\" class=\"dataframe\">\n",
              "  <thead>\n",
              "    <tr style=\"text-align: right;\">\n",
              "      <th></th>\n",
              "      <th>object_id</th>\n",
              "      <th>creation_time</th>\n",
              "      <th>name</th>\n",
              "      <th>email</th>\n",
              "      <th>creation_source</th>\n",
              "      <th>last_session_creation_time</th>\n",
              "      <th>opted_in_to_mailing_list</th>\n",
              "      <th>enabled_for_marketing_drip</th>\n",
              "      <th>org_id</th>\n",
              "      <th>invited_by_user_id</th>\n",
              "    </tr>\n",
              "  </thead>\n",
              "  <tbody>\n",
              "    <tr>\n",
              "      <th>0</th>\n",
              "      <td>1</td>\n",
              "      <td>2014-04-22 03:53:30</td>\n",
              "      <td>Clausen August</td>\n",
              "      <td>AugustCClausen@yahoo.com</td>\n",
              "      <td>GUEST_INVITE</td>\n",
              "      <td>1.398139e+09</td>\n",
              "      <td>1</td>\n",
              "      <td>0</td>\n",
              "      <td>11</td>\n",
              "      <td>10803.0</td>\n",
              "    </tr>\n",
              "    <tr>\n",
              "      <th>1</th>\n",
              "      <td>2</td>\n",
              "      <td>2013-11-15 03:45:04</td>\n",
              "      <td>Poole Matthew</td>\n",
              "      <td>MatthewPoole@gustr.com</td>\n",
              "      <td>ORG_INVITE</td>\n",
              "      <td>1.396238e+09</td>\n",
              "      <td>0</td>\n",
              "      <td>0</td>\n",
              "      <td>1</td>\n",
              "      <td>316.0</td>\n",
              "    </tr>\n",
              "    <tr>\n",
              "      <th>2</th>\n",
              "      <td>3</td>\n",
              "      <td>2013-03-19 23:14:52</td>\n",
              "      <td>Bottrill Mitchell</td>\n",
              "      <td>MitchellBottrill@gustr.com</td>\n",
              "      <td>ORG_INVITE</td>\n",
              "      <td>1.363735e+09</td>\n",
              "      <td>0</td>\n",
              "      <td>0</td>\n",
              "      <td>94</td>\n",
              "      <td>1525.0</td>\n",
              "    </tr>\n",
              "    <tr>\n",
              "      <th>3</th>\n",
              "      <td>4</td>\n",
              "      <td>2013-05-21 08:09:28</td>\n",
              "      <td>Clausen Nicklas</td>\n",
              "      <td>NicklasSClausen@yahoo.com</td>\n",
              "      <td>GUEST_INVITE</td>\n",
              "      <td>1.369210e+09</td>\n",
              "      <td>0</td>\n",
              "      <td>0</td>\n",
              "      <td>1</td>\n",
              "      <td>5151.0</td>\n",
              "    </tr>\n",
              "    <tr>\n",
              "      <th>4</th>\n",
              "      <td>5</td>\n",
              "      <td>2013-01-17 10:14:20</td>\n",
              "      <td>Raw Grace</td>\n",
              "      <td>GraceRaw@yahoo.com</td>\n",
              "      <td>GUEST_INVITE</td>\n",
              "      <td>1.358850e+09</td>\n",
              "      <td>0</td>\n",
              "      <td>0</td>\n",
              "      <td>193</td>\n",
              "      <td>5240.0</td>\n",
              "    </tr>\n",
              "  </tbody>\n",
              "</table>\n",
              "</div>\n",
              "      <button class=\"colab-df-convert\" onclick=\"convertToInteractive('df-cf4d2e98-efa2-4d37-942f-e1e75bc5673f')\"\n",
              "              title=\"Convert this dataframe to an interactive table.\"\n",
              "              style=\"display:none;\">\n",
              "        \n",
              "  <svg xmlns=\"http://www.w3.org/2000/svg\" height=\"24px\"viewBox=\"0 0 24 24\"\n",
              "       width=\"24px\">\n",
              "    <path d=\"M0 0h24v24H0V0z\" fill=\"none\"/>\n",
              "    <path d=\"M18.56 5.44l.94 2.06.94-2.06 2.06-.94-2.06-.94-.94-2.06-.94 2.06-2.06.94zm-11 1L8.5 8.5l.94-2.06 2.06-.94-2.06-.94L8.5 2.5l-.94 2.06-2.06.94zm10 10l.94 2.06.94-2.06 2.06-.94-2.06-.94-.94-2.06-.94 2.06-2.06.94z\"/><path d=\"M17.41 7.96l-1.37-1.37c-.4-.4-.92-.59-1.43-.59-.52 0-1.04.2-1.43.59L10.3 9.45l-7.72 7.72c-.78.78-.78 2.05 0 2.83L4 21.41c.39.39.9.59 1.41.59.51 0 1.02-.2 1.41-.59l7.78-7.78 2.81-2.81c.8-.78.8-2.07 0-2.86zM5.41 20L4 18.59l7.72-7.72 1.47 1.35L5.41 20z\"/>\n",
              "  </svg>\n",
              "      </button>\n",
              "      \n",
              "  <style>\n",
              "    .colab-df-container {\n",
              "      display:flex;\n",
              "      flex-wrap:wrap;\n",
              "      gap: 12px;\n",
              "    }\n",
              "\n",
              "    .colab-df-convert {\n",
              "      background-color: #E8F0FE;\n",
              "      border: none;\n",
              "      border-radius: 50%;\n",
              "      cursor: pointer;\n",
              "      display: none;\n",
              "      fill: #1967D2;\n",
              "      height: 32px;\n",
              "      padding: 0 0 0 0;\n",
              "      width: 32px;\n",
              "    }\n",
              "\n",
              "    .colab-df-convert:hover {\n",
              "      background-color: #E2EBFA;\n",
              "      box-shadow: 0px 1px 2px rgba(60, 64, 67, 0.3), 0px 1px 3px 1px rgba(60, 64, 67, 0.15);\n",
              "      fill: #174EA6;\n",
              "    }\n",
              "\n",
              "    [theme=dark] .colab-df-convert {\n",
              "      background-color: #3B4455;\n",
              "      fill: #D2E3FC;\n",
              "    }\n",
              "\n",
              "    [theme=dark] .colab-df-convert:hover {\n",
              "      background-color: #434B5C;\n",
              "      box-shadow: 0px 1px 3px 1px rgba(0, 0, 0, 0.15);\n",
              "      filter: drop-shadow(0px 1px 2px rgba(0, 0, 0, 0.3));\n",
              "      fill: #FFFFFF;\n",
              "    }\n",
              "  </style>\n",
              "\n",
              "      <script>\n",
              "        const buttonEl =\n",
              "          document.querySelector('#df-cf4d2e98-efa2-4d37-942f-e1e75bc5673f button.colab-df-convert');\n",
              "        buttonEl.style.display =\n",
              "          google.colab.kernel.accessAllowed ? 'block' : 'none';\n",
              "\n",
              "        async function convertToInteractive(key) {\n",
              "          const element = document.querySelector('#df-cf4d2e98-efa2-4d37-942f-e1e75bc5673f');\n",
              "          const dataTable =\n",
              "            await google.colab.kernel.invokeFunction('convertToInteractive',\n",
              "                                                     [key], {});\n",
              "          if (!dataTable) return;\n",
              "\n",
              "          const docLinkHtml = 'Like what you see? Visit the ' +\n",
              "            '<a target=\"_blank\" href=https://colab.research.google.com/notebooks/data_table.ipynb>data table notebook</a>'\n",
              "            + ' to learn more about interactive tables.';\n",
              "          element.innerHTML = '';\n",
              "          dataTable['output_type'] = 'display_data';\n",
              "          await google.colab.output.renderOutput(dataTable, element);\n",
              "          const docLink = document.createElement('div');\n",
              "          docLink.innerHTML = docLinkHtml;\n",
              "          element.appendChild(docLink);\n",
              "        }\n",
              "      </script>\n",
              "    </div>\n",
              "  </div>\n",
              "  "
            ],
            "text/plain": [
              "   object_id        creation_time               name  \\\n",
              "0          1  2014-04-22 03:53:30     Clausen August   \n",
              "1          2  2013-11-15 03:45:04      Poole Matthew   \n",
              "2          3  2013-03-19 23:14:52  Bottrill Mitchell   \n",
              "3          4  2013-05-21 08:09:28    Clausen Nicklas   \n",
              "4          5  2013-01-17 10:14:20          Raw Grace   \n",
              "\n",
              "                        email creation_source  last_session_creation_time  \\\n",
              "0    AugustCClausen@yahoo.com    GUEST_INVITE                1.398139e+09   \n",
              "1      MatthewPoole@gustr.com      ORG_INVITE                1.396238e+09   \n",
              "2  MitchellBottrill@gustr.com      ORG_INVITE                1.363735e+09   \n",
              "3   NicklasSClausen@yahoo.com    GUEST_INVITE                1.369210e+09   \n",
              "4          GraceRaw@yahoo.com    GUEST_INVITE                1.358850e+09   \n",
              "\n",
              "   opted_in_to_mailing_list  enabled_for_marketing_drip  org_id  \\\n",
              "0                         1                           0      11   \n",
              "1                         0                           0       1   \n",
              "2                         0                           0      94   \n",
              "3                         0                           0       1   \n",
              "4                         0                           0     193   \n",
              "\n",
              "   invited_by_user_id  \n",
              "0             10803.0  \n",
              "1               316.0  \n",
              "2              1525.0  \n",
              "3              5151.0  \n",
              "4              5240.0  "
            ]
          },
          "metadata": {},
          "execution_count": 10
        }
      ]
    },
    {
      "cell_type": "code",
      "source": [
        "m=[]\n",
        "n=[]\n",
        "u=[]\n",
        "for i in list(set(df[\"creation_source\"])):\n",
        "  check=df[df[\"creation_source\"]==i]\n",
        "  z=list(check[\"opted_in_to_mailing_list\"])\n",
        "  z=z.count(0)\n",
        "  o=list(check[\"opted_in_to_mailing_list\"])\n",
        "  o=o.count(1)\n",
        "  m.append(i)\n",
        "  n.append(z)\n",
        "  u.append(o)\n",
        "mail=pd.DataFrame({\"creation_source\":m,\"opted for mailing\":n,\"not opted for mailing\":u})\n",
        "mail[\"total\"]=mail[\"opted for mailing\"]+mail[\"not opted for mailing\"]\n",
        "n=[]\n",
        "for i in range(5):\n",
        "  t=mail[\"opted for mailing\"][i]*100/mail[\"total\"][i]\n",
        "  n.append(round(t,2))\n",
        "mail[\"% opted for mailing\"]=n\n",
        "mail"
      ],
      "metadata": {
        "colab": {
          "base_uri": "https://localhost:8080/",
          "height": 206
        },
        "id": "hcvDqvGZDzD_",
        "outputId": "a9020d79-f0e2-4598-8149-19a832c55a30"
      },
      "execution_count": null,
      "outputs": [
        {
          "output_type": "execute_result",
          "data": {
            "text/html": [
              "\n",
              "  <div id=\"df-23435f05-c1ba-4438-83ba-5b613f094e3f\">\n",
              "    <div class=\"colab-df-container\">\n",
              "      <div>\n",
              "<style scoped>\n",
              "    .dataframe tbody tr th:only-of-type {\n",
              "        vertical-align: middle;\n",
              "    }\n",
              "\n",
              "    .dataframe tbody tr th {\n",
              "        vertical-align: top;\n",
              "    }\n",
              "\n",
              "    .dataframe thead th {\n",
              "        text-align: right;\n",
              "    }\n",
              "</style>\n",
              "<table border=\"1\" class=\"dataframe\">\n",
              "  <thead>\n",
              "    <tr style=\"text-align: right;\">\n",
              "      <th></th>\n",
              "      <th>creation_source</th>\n",
              "      <th>opted for mailing</th>\n",
              "      <th>not opted for mailing</th>\n",
              "      <th>total</th>\n",
              "      <th>% opted for mailing</th>\n",
              "    </tr>\n",
              "  </thead>\n",
              "  <tbody>\n",
              "    <tr>\n",
              "      <th>0</th>\n",
              "      <td>ORG_INVITE</td>\n",
              "      <td>3176</td>\n",
              "      <td>1078</td>\n",
              "      <td>4254</td>\n",
              "      <td>74.66</td>\n",
              "    </tr>\n",
              "    <tr>\n",
              "      <th>1</th>\n",
              "      <td>SIGNUP</td>\n",
              "      <td>1562</td>\n",
              "      <td>525</td>\n",
              "      <td>2087</td>\n",
              "      <td>74.84</td>\n",
              "    </tr>\n",
              "    <tr>\n",
              "      <th>2</th>\n",
              "      <td>SIGNUP_GOOGLE_AUTH</td>\n",
              "      <td>1047</td>\n",
              "      <td>338</td>\n",
              "      <td>1385</td>\n",
              "      <td>75.60</td>\n",
              "    </tr>\n",
              "    <tr>\n",
              "      <th>3</th>\n",
              "      <td>GUEST_INVITE</td>\n",
              "      <td>1622</td>\n",
              "      <td>541</td>\n",
              "      <td>2163</td>\n",
              "      <td>74.99</td>\n",
              "    </tr>\n",
              "    <tr>\n",
              "      <th>4</th>\n",
              "      <td>PERSONAL_PROJECTS</td>\n",
              "      <td>1599</td>\n",
              "      <td>512</td>\n",
              "      <td>2111</td>\n",
              "      <td>75.75</td>\n",
              "    </tr>\n",
              "  </tbody>\n",
              "</table>\n",
              "</div>\n",
              "      <button class=\"colab-df-convert\" onclick=\"convertToInteractive('df-23435f05-c1ba-4438-83ba-5b613f094e3f')\"\n",
              "              title=\"Convert this dataframe to an interactive table.\"\n",
              "              style=\"display:none;\">\n",
              "        \n",
              "  <svg xmlns=\"http://www.w3.org/2000/svg\" height=\"24px\"viewBox=\"0 0 24 24\"\n",
              "       width=\"24px\">\n",
              "    <path d=\"M0 0h24v24H0V0z\" fill=\"none\"/>\n",
              "    <path d=\"M18.56 5.44l.94 2.06.94-2.06 2.06-.94-2.06-.94-.94-2.06-.94 2.06-2.06.94zm-11 1L8.5 8.5l.94-2.06 2.06-.94-2.06-.94L8.5 2.5l-.94 2.06-2.06.94zm10 10l.94 2.06.94-2.06 2.06-.94-2.06-.94-.94-2.06-.94 2.06-2.06.94z\"/><path d=\"M17.41 7.96l-1.37-1.37c-.4-.4-.92-.59-1.43-.59-.52 0-1.04.2-1.43.59L10.3 9.45l-7.72 7.72c-.78.78-.78 2.05 0 2.83L4 21.41c.39.39.9.59 1.41.59.51 0 1.02-.2 1.41-.59l7.78-7.78 2.81-2.81c.8-.78.8-2.07 0-2.86zM5.41 20L4 18.59l7.72-7.72 1.47 1.35L5.41 20z\"/>\n",
              "  </svg>\n",
              "      </button>\n",
              "      \n",
              "  <style>\n",
              "    .colab-df-container {\n",
              "      display:flex;\n",
              "      flex-wrap:wrap;\n",
              "      gap: 12px;\n",
              "    }\n",
              "\n",
              "    .colab-df-convert {\n",
              "      background-color: #E8F0FE;\n",
              "      border: none;\n",
              "      border-radius: 50%;\n",
              "      cursor: pointer;\n",
              "      display: none;\n",
              "      fill: #1967D2;\n",
              "      height: 32px;\n",
              "      padding: 0 0 0 0;\n",
              "      width: 32px;\n",
              "    }\n",
              "\n",
              "    .colab-df-convert:hover {\n",
              "      background-color: #E2EBFA;\n",
              "      box-shadow: 0px 1px 2px rgba(60, 64, 67, 0.3), 0px 1px 3px 1px rgba(60, 64, 67, 0.15);\n",
              "      fill: #174EA6;\n",
              "    }\n",
              "\n",
              "    [theme=dark] .colab-df-convert {\n",
              "      background-color: #3B4455;\n",
              "      fill: #D2E3FC;\n",
              "    }\n",
              "\n",
              "    [theme=dark] .colab-df-convert:hover {\n",
              "      background-color: #434B5C;\n",
              "      box-shadow: 0px 1px 3px 1px rgba(0, 0, 0, 0.15);\n",
              "      filter: drop-shadow(0px 1px 2px rgba(0, 0, 0, 0.3));\n",
              "      fill: #FFFFFF;\n",
              "    }\n",
              "  </style>\n",
              "\n",
              "      <script>\n",
              "        const buttonEl =\n",
              "          document.querySelector('#df-23435f05-c1ba-4438-83ba-5b613f094e3f button.colab-df-convert');\n",
              "        buttonEl.style.display =\n",
              "          google.colab.kernel.accessAllowed ? 'block' : 'none';\n",
              "\n",
              "        async function convertToInteractive(key) {\n",
              "          const element = document.querySelector('#df-23435f05-c1ba-4438-83ba-5b613f094e3f');\n",
              "          const dataTable =\n",
              "            await google.colab.kernel.invokeFunction('convertToInteractive',\n",
              "                                                     [key], {});\n",
              "          if (!dataTable) return;\n",
              "\n",
              "          const docLinkHtml = 'Like what you see? Visit the ' +\n",
              "            '<a target=\"_blank\" href=https://colab.research.google.com/notebooks/data_table.ipynb>data table notebook</a>'\n",
              "            + ' to learn more about interactive tables.';\n",
              "          element.innerHTML = '';\n",
              "          dataTable['output_type'] = 'display_data';\n",
              "          await google.colab.output.renderOutput(dataTable, element);\n",
              "          const docLink = document.createElement('div');\n",
              "          docLink.innerHTML = docLinkHtml;\n",
              "          element.appendChild(docLink);\n",
              "        }\n",
              "      </script>\n",
              "    </div>\n",
              "  </div>\n",
              "  "
            ],
            "text/plain": [
              "      creation_source  opted for mailing  not opted for mailing  total  \\\n",
              "0          ORG_INVITE               3176                   1078   4254   \n",
              "1              SIGNUP               1562                    525   2087   \n",
              "2  SIGNUP_GOOGLE_AUTH               1047                    338   1385   \n",
              "3        GUEST_INVITE               1622                    541   2163   \n",
              "4   PERSONAL_PROJECTS               1599                    512   2111   \n",
              "\n",
              "   % opted for mailing  \n",
              "0                74.66  \n",
              "1                74.84  \n",
              "2                75.60  \n",
              "3                74.99  \n",
              "4                75.75  "
            ]
          },
          "metadata": {},
          "execution_count": 89
        }
      ]
    },
    {
      "cell_type": "code",
      "source": [
        "df.shape"
      ],
      "metadata": {
        "colab": {
          "base_uri": "https://localhost:8080/"
        },
        "id": "ueoQWEsI4vdw",
        "outputId": "11a48e13-d06e-45d9-d3ce-222dd0d7a0eb"
      },
      "execution_count": null,
      "outputs": [
        {
          "output_type": "execute_result",
          "data": {
            "text/plain": [
              "(12000, 10)"
            ]
          },
          "metadata": {},
          "execution_count": 11
        }
      ]
    },
    {
      "cell_type": "code",
      "source": [
        "data[\"year\"]=data[\"time_stamp\"].apply(lambda x:x[0:4])"
      ],
      "metadata": {
        "id": "cAWfHJM545oa"
      },
      "execution_count": null,
      "outputs": []
    },
    {
      "cell_type": "code",
      "source": [
        "data[\"month\"]=data[\"time_stamp\"].apply(lambda x:x[5:7])"
      ],
      "metadata": {
        "id": "9qV_sBkv5T95"
      },
      "execution_count": null,
      "outputs": []
    },
    {
      "cell_type": "code",
      "source": [
        "user=data.drop(\"time_stamp\",axis=1)"
      ],
      "metadata": {
        "id": "U17TnsUO5igx"
      },
      "execution_count": null,
      "outputs": []
    },
    {
      "cell_type": "code",
      "source": [
        "sns.countplot(user[\"year\"])"
      ],
      "metadata": {
        "colab": {
          "base_uri": "https://localhost:8080/",
          "height": 351
        },
        "id": "rLn8N_Ch54Nf",
        "outputId": "a20b21c8-a8d0-4191-f590-d2f449cf2de8"
      },
      "execution_count": null,
      "outputs": [
        {
          "output_type": "stream",
          "name": "stderr",
          "text": [
            "/usr/local/lib/python3.7/dist-packages/seaborn/_decorators.py:43: FutureWarning: Pass the following variable as a keyword arg: x. From version 0.12, the only valid positional argument will be `data`, and passing other arguments without an explicit keyword will result in an error or misinterpretation.\n",
            "  FutureWarning\n"
          ]
        },
        {
          "output_type": "execute_result",
          "data": {
            "text/plain": [
              "<matplotlib.axes._subplots.AxesSubplot at 0x7fc72b7381d0>"
            ]
          },
          "metadata": {},
          "execution_count": 29
        },
        {
          "output_type": "display_data",
          "data": {
            "image/png": "[encoded data removed]",
            "text/plain": [
              "<Figure size 432x288 with 1 Axes>"
            ]
          },
          "metadata": {
            "needs_background": "light"
          }
        }
      ]
    },
    {
      "cell_type": "code",
      "source": [
        "sns.countplot(user[\"month\"])"
      ],
      "metadata": {
        "colab": {
          "base_uri": "https://localhost:8080/",
          "height": 351
        },
        "id": "G1XjSVuI7TjJ",
        "outputId": "70a2e846-237c-4a6a-8f02-ec4b14ef0136"
      },
      "execution_count": null,
      "outputs": [
        {
          "output_type": "stream",
          "name": "stderr",
          "text": [
            "/usr/local/lib/python3.7/dist-packages/seaborn/_decorators.py:43: FutureWarning: Pass the following variable as a keyword arg: x. From version 0.12, the only valid positional argument will be `data`, and passing other arguments without an explicit keyword will result in an error or misinterpretation.\n",
            "  FutureWarning\n"
          ]
        },
        {
          "output_type": "execute_result",
          "data": {
            "text/plain": [
              "<matplotlib.axes._subplots.AxesSubplot at 0x7fc72b695f10>"
            ]
          },
          "metadata": {},
          "execution_count": 30
        },
        {
          "output_type": "display_data",
          "data": {
            "image/png": "[encoded data removed]",
            "text/plain": [
              "<Figure size 432x288 with 1 Axes>"
            ]
          },
          "metadata": {
            "needs_background": "light"
          }
        }
      ]
    },
    {
      "cell_type": "code",
      "source": [
        "m=[i for i in user[\"user_id\"]]\n",
        "u=set(m)\n",
        "l=[]\n",
        "for i in u:\n",
        "  l.append([m.count(i),i])\n",
        "l.sort()\n",
        "l=l[::-1]\n",
        "print(l)"
      ],
      "metadata": {
        "colab": {
          "base_uri": "https://localhost:8080/"
        },
        "id": "CuXSOP8z8-RG",
        "outputId": "234ad905-3c93-4e05-dc7a-4aa712f42b94"
      },
      "execution_count": null,
      "outputs": [
        {
          "output_type": "stream",
          "name": "stdout",
          "text": [
            "[[606, 3623], [600, 906], [593, 1811], [590, 7590], [585, 8068], [581, 9402], [580, 4022], [566, 3269], [547, 9312], [545, 7210], [541, 8029], [538, 2474], [526, 2658], [521, 8280], [521, 69], [520, 5297], [519, 4019], [517, 9083], [511, 2519], [509, 4263], [502, 3226], [501, 10599], [500, 6312], [499, 10953], [496, 8426], [496, 2316], [489, 603], [488, 2078], [487, 8768], [487, 7536], [487, 445], [484, 11428], [482, 6171], [480, 7120], [480, 5609], [479, 9281], [478, 10734], [476, 8381], [476, 5939], [474, 7572], [472, 5386], [471, 11300], [471, 2622], [470, 2771], [470, 1822], [469, 6064], [469, 4282], [463, 8912], [463, 6405], [463, 5682], [463, 5151], [461, 4402], [460, 5101], [458, 9728], [452, 2300], [452, 1769], [451, 9450], [450, 9958], [449, 5240], [449, 4965], [447, 2568], [446, 8721], [442, 9434], [438, 4924], [438, 2620], [437, 754], [436, 5861], [435, 9691], [434, 4143], [433, 6757], [429, 7511], [428, 728], [425, 6204], [424, 10524], [424, 8553], [423, 6282], [422, 7375], [422, 6909], [420, 10320], [420, 4186], [418, 9724], [418, 9325], [415, 11267], [415, 10258], [411, 8297], [409, 10352], [409, 9582], [408, 4489], [408, 3066], [408, 605], [406, 9286], [406, 7431], [406, 4803], [405, 11083], [405, 9042], [405, 5965], [404, 2739], [400, 11688], [400, 9601], [399, 10791], [397, 1155], [396, 5415], [395, 4234], [394, 9540], [393, 8310], [393, 4713], [387, 10656], [386, 5057], [386, 4181], [384, 2539], [383, 6978], [380, 4934], [380, 4742], [379, 3411], [378, 7153], [377, 6284], [374, 4745], [374, 1865], [374, 1202], [373, 3957], [372, 3160], [371, 3824], [370, 9771], [369, 7926], [367, 1027], [364, 3175], [363, 4835], [362, 9400], [362, 63], [361, 9645], [361, 8399], [361, 5507], [360, 10630], [360, 2447], [360, 783], [358, 4837], [353, 10602], [353, 9694], [353, 4785], [350, 7107], [350, 4248], [350, 3556], [349, 8243], [349, 2333], [347, 7899], [345, 4497], [345, 3960], [345, 1434], [344, 8259], [344, 5281], [343, 6370], [342, 4612], [342, 42], [341, 11015], [340, 11195], [340, 9901], [340, 8945], [338, 3217], [337, 6464], [337, 3139], [336, 10307], [333, 2723], [332, 4145], [331, 7688], [331, 4335], [331, 2490], [328, 7608], [328, 7600], [327, 11450], [326, 8708], [326, 4269], [326, 3093], [326, 1339], [326, 1072], [324, 4017], [323, 10470], [321, 7131], [320, 4472], [320, 2042], [319, 9532], [319, 3843], [319, 772], [319, 168], [318, 11702], [318, 7798], [318, 1055], [314, 3812], [313, 4619], [313, 885], [312, 5494], [311, 4428], [310, 4780], [309, 2672], [309, 2080], [308, 10757], [308, 6590], [308, 1941], [308, 510], [305, 9345], [305, 230], [304, 11273], [304, 9076], [304, 8767], [304, 6938], [304, 1617], [304, 1320], [302, 2270], [301, 10153], [301, 5552], [300, 11240], [300, 9381], [300, 9303], [299, 9584], [297, 6870], [297, 1464], [295, 3451], [295, 2744], [295, 724], [294, 6388], [293, 3531], [292, 8770], [291, 9535], [291, 7789], [291, 4565], [291, 4354], [291, 2171], [289, 10961], [289, 9346], [289, 8749], [289, 1693], [289, 1479], [288, 6187], [288, 6070], [287, 7818], [286, 7023], [286, 2881], [285, 3244], [284, 10388], [284, 3642], [284, 10], [283, 509], [282, 3353], [281, 8602], [281, 3339], [279, 9641], [279, 2193], [279, 2033], [278, 5210], [277, 9746], [277, 8835], [275, 8679], [274, 6135], [274, 5685], [273, 3819], [272, 6914], [272, 5013], [272, 1783], [272, 1345], [271, 10357], [271, 4223], [271, 4045], [271, 297], [270, 11039], [269, 5067], [266, 9751], [266, 6506], [266, 4295], [266, 1879], [264, 8701], [264, 6050], [264, 263], [263, 2557], [261, 7104], [261, 5378], [260, 1017], [259, 4029], [258, 9841], [258, 5200], [257, 3577], [256, 2013], [255, 11873], [254, 1709], [253, 11021], [253, 7194], [251, 11730], [250, 10222], [250, 4105], [250, 535], [248, 8348], [248, 5830], [247, 5365], [247, 912], [246, 5329], [243, 11836], [243, 8924], [243, 5721], [243, 4485], [243, 4317], [242, 10349], [242, 1821], [237, 10763], [237, 9558], [237, 5115], [237, 3867], [237, 3193], [236, 5364], [236, 4793], [236, 4560], [236, 2011], [235, 6742], [234, 5259], [234, 1407], [233, 5071], [232, 2566], [231, 3397], [230, 11024], [229, 7556], [229, 7101], [229, 3671], [229, 3137], [229, 1624], [228, 8235], [228, 3113], [226, 11320], [225, 11186], [225, 8166], [225, 5463], [225, 3644], [224, 9968], [224, 9358], [224, 901], [222, 4618], [222, 4217], [222, 1099], [220, 2324], [219, 11801], [219, 2548], [218, 11061], [218, 10647], [218, 7644], [218, 934], [217, 11067], [217, 9991], [217, 8811], [217, 8654], [217, 5579], [217, 4403], [217, 4244], [217, 1786], [216, 11975], [216, 10238], [216, 3087], [214, 8944], [214, 8010], [213, 203], [212, 7248], [212, 2502], [211, 2915], [211, 553], [210, 10159], [210, 1368], [209, 11895], [209, 9120], [209, 3017], [209, 679], [208, 3673], [206, 9591], [205, 497], [205, 197], [205, 82], [203, 10311], [203, 7071], [202, 7720], [202, 7707], [202, 322], [200, 11957], [200, 6835], [199, 1280], [198, 11909], [198, 11379], [198, 3463], [197, 11170], [197, 5369], [197, 639], [196, 5677], [196, 1343], [196, 245], [195, 7401], [195, 6033], [195, 4421], [195, 3204], [194, 7209], [194, 3882], [191, 11160], [191, 10866], [191, 4444], [190, 9660], [190, 7691], [189, 9147], [188, 2289], [187, 6988], [187, 3112], [187, 1411], [186, 3718], [185, 8221], [184, 9464], [183, 10059], [182, 10104], [182, 7878], [182, 3067], [181, 11349], [181, 3863], [180, 9806], [180, 2939], [179, 7678], [179, 6504], [179, 5705], [178, 9011], [178, 8031], [178, 6895], [178, 2246], [177, 9436], [177, 5307], [176, 5479], [175, 11573], [175, 11254], [175, 10526], [175, 9423], [174, 6242], [174, 1089], [173, 11959], [173, 9925], [173, 7683], [173, 6609], [173, 4571], [173, 2571], [172, 11642], [172, 4481], [171, 3232], [169, 10644], [169, 5714], [168, 5350], [167, 9823], [167, 8403], [167, 1754], [167, 310], [166, 10023], [166, 6865], [166, 6851], [166, 5681], [165, 7029], [163, 6633], [163, 1472], [163, 1129], [162, 10621], [162, 8507], [162, 7436], [162, 4184], [161, 11857], [160, 11964], [160, 10827], [160, 9972], [160, 8955], [160, 8673], [160, 932], [159, 200], [158, 11622], [158, 6322], [157, 10750], [157, 9374], [157, 5547], [157, 153], [156, 3612], [156, 3560], [156, 1885], [155, 11762], [155, 1421], [154, 4086], [153, 9889], [153, 1825], [152, 5360], [152, 980], [151, 7971], [151, 1507], [150, 11530], [150, 5426], [150, 3915], [148, 10199], [148, 8025], [148, 1665], [147, 4812], [147, 4616], [147, 3180], [147, 2889], [147, 160], [146, 9164], [146, 7705], [146, 6966], [146, 6266], [146, 5407], [146, 2425], [146, 462], [144, 8538], [144, 6729], [144, 5073], [144, 4943], [144, 2271], [144, 1836], [143, 3546], [142, 9559], [142, 3832], [142, 3609], [142, 1770], [142, 669], [142, 209], [141, 4296], [141, 1576], [140, 8196], [139, 9046], [139, 5157], [139, 2727], [139, 2074], [138, 10840], [138, 6741], [138, 6654], [137, 11310], [137, 8689], [137, 7682], [137, 3028], [137, 1156], [136, 2931], [135, 8091], [134, 11056], [134, 512], [133, 7772], [133, 7205], [133, 3163], [133, 2895], [132, 6532], [132, 1357], [131, 11969], [131, 8760], [131, 3389], [131, 928], [130, 5718], [130, 851], [129, 9290], [129, 5918], [129, 2713], [128, 8071], [128, 8069], [128, 4371], [128, 3436], [127, 11032], [127, 9992], [127, 9615], [127, 5243], [127, 4961], [127, 2390], [126, 10514], [126, 9985], [126, 680], [124, 10913], [124, 9947], [124, 4562], [124, 3239], [124, 2544], [123, 10834], [123, 3525], [123, 2239], [122, 8220], [122, 7405], [122, 5514], [121, 11527], [121, 10753], [121, 10611], [121, 8862], [120, 5551], [120, 4216], [119, 8837], [119, 8789], [119, 7257], [119, 1663], [118, 9142], [118, 9113], [118, 5362], [118, 4844], [118, 2103], [117, 3522], [117, 3032], [117, 450], [115, 10177], [115, 9031], [115, 5927], [115, 2604], [115, 937], [115, 564], [114, 9322], [114, 8435], [114, 4876], [114, 529], [113, 11559], [113, 4141], [113, 3946], [113, 1485], [112, 11924], [112, 10832], [112, 9754], [112, 8779], [112, 6126], [112, 1318], [112, 1128], [111, 9747], [111, 7697], [111, 5483], [111, 4625], [111, 146], [110, 4915], [110, 2159], [110, 370], [109, 6393], [109, 6148], [109, 804], [108, 6134], [108, 3705], [108, 341], [107, 9852], [107, 6623], [107, 6246], [107, 214], [106, 11404], [106, 7386], [106, 5015], [106, 3360], [106, 1290], [106, 1163], [105, 7004], [105, 5840], [105, 5301], [105, 2647], [104, 9112], [104, 1094], [104, 845], [104, 87], [103, 10619], [103, 10020], [102, 9504], [102, 2809], [102, 1781], [102, 1694], [101, 11469], [101, 10663], [101, 6786], [100, 10459], [100, 10230], [100, 9195], [100, 6463], [100, 4513], [100, 3561], [100, 1480], [99, 11823], [99, 10022], [98, 9679], [98, 8192], [98, 7283], [98, 4564], [98, 2339], [98, 483], [97, 8104], [97, 4330], [97, 3774], [97, 2002], [96, 8037], [96, 2587], [96, 2406], [96, 430], [95, 7443], [95, 4805], [95, 3370], [95, 2286], [94, 9914], [94, 9306], [94, 8033], [94, 5944], [94, 618], [94, 298], [93, 11920], [93, 10225], [93, 9461], [93, 7019], [93, 6462], [93, 3758], [93, 1974], [92, 7398], [92, 5560], [91, 4784], [90, 5828], [90, 4680], [89, 6238], [89, 5950], [89, 2993], [89, 985], [89, 522], [88, 10265], [88, 9470], [88, 7555], [88, 6782], [88, 6321], [88, 2199], [87, 10212], [87, 6016], [87, 1319], [87, 632], [86, 4206], [85, 11198], [85, 8408], [85, 7074], [85, 5063], [85, 2038], [85, 1508], [84, 7859], [83, 11347], [83, 3574], [82, 8493], [82, 8415], [82, 6438], [82, 1350], [81, 8046], [81, 5645], [81, 311], [80, 11958], [80, 11596], [80, 9722], [80, 8640], [80, 3484], [80, 882], [79, 10497], [79, 9079], [79, 7813], [79, 6210], [79, 3906], [79, 1722], [79, 1245], [78, 11683], [78, 10011], [78, 7641], [78, 7544], [78, 4884], [78, 3235], [78, 2974], [78, 1061], [78, 907], [78, 492], [78, 81], [77, 11212], [77, 7905], [77, 7449], [77, 3185], [77, 2841], [76, 11541], [76, 3046], [76, 3025], [76, 1730], [76, 471], [75, 4209], [75, 1476], [75, 1196], [74, 11519], [74, 9845], [74, 8989], [74, 4278], [73, 11588], [73, 6733], [73, 4404], [73, 3481], [73, 3426], [72, 11796], [72, 9060], [72, 8869], [72, 8622], [72, 133], [71, 10316], [71, 9479], [71, 7820], [71, 2337], [70, 11806], [70, 10860], [70, 10233], [70, 9994], [70, 8334], [70, 8048], [70, 2481], [69, 11939], [69, 9644], [69, 8511], [69, 2762], [68, 11869], [68, 11294], [68, 10430], [68, 9897], [68, 3598], [68, 869], [67, 10876], [67, 7114], [67, 3652], [66, 9942], [66, 8130], [66, 4992], [66, 2043], [65, 10833], [65, 10580], [65, 4558], [65, 3802], [65, 3145], [65, 1119], [65, 1009], [64, 11003], [64, 10787], [64, 7450], [64, 5977], [64, 5743], [64, 4832], [63, 9597], [63, 8159], [63, 6992], [63, 6416], [63, 5600], [63, 5309], [63, 5180], [63, 4090], [62, 6810], [62, 5571], [62, 4609], [61, 10251], [60, 7380], [60, 5892], [60, 5211], [60, 2979], [60, 2891], [60, 1018], [60, 247], [59, 7805], [59, 2025], [59, 1944], [59, 1410], [59, 1107], [59, 74], [58, 10283], [58, 8932], [58, 7624], [58, 7409], [58, 2322], [57, 11758], [57, 8214], [57, 6349], [57, 4576], [57, 4043], [57, 3071], [57, 2435], [56, 9652], [56, 8294], [56, 6100], [56, 2948], [56, 540], [56, 280], [56, 202], [56, 185], [55, 10100], [55, 4569], [55, 3018], [55, 1740], [54, 11660], [54, 9635], [54, 9157], [54, 7848], [54, 6862], [54, 6096], [54, 5385], [54, 4203], [54, 3593], [54, 3409], [53, 10121], [53, 6258], [53, 4494], [53, 3405], [52, 3387], [52, 2851], [52, 2399], [52, 2113], [51, 11627], [51, 11223], [51, 10945], [51, 8639], [51, 7858], [51, 5756], [51, 2253], [50, 10745], [50, 10401], [50, 8217], [50, 5850], [50, 5847], [50, 5456], [50, 5173], [49, 9699], [49, 9295], [49, 8725], [49, 6239], [49, 5160], [49, 4425], [49, 363], [48, 11769], [48, 11065], [48, 10812], [48, 6982], [48, 6637], [48, 6279], [48, 2641], [48, 1327], [48, 1250], [47, 7980], [47, 4243], [47, 2921], [47, 2859], [47, 874], [46, 11479], [46, 8233], [46, 5900], [46, 5623], [46, 4720], [46, 3804], [46, 2312], [46, 2297], [46, 1690], [45, 9143], [45, 8706], [45, 3592], [45, 2056], [44, 10394], [44, 8401], [44, 8063], [44, 7939], [44, 3541], [44, 3311], [44, 1954], [44, 943], [44, 634], [44, 572], [43, 11967], [43, 11176], [43, 10507], [43, 8918], [43, 8832], [43, 7760], [43, 4950], [43, 4854], [43, 4511], [43, 4074], [43, 4067], [43, 2731], [43, 2160], [42, 10869], [42, 8523], [42, 6638], [42, 6517], [42, 6152], [42, 2836], [42, 1150], [41, 11270], [41, 10851], [41, 10725], [41, 10473], [41, 10211], [41, 6856], [41, 6296], [41, 5557], [41, 1274], [41, 786], [41, 401], [40, 10937], [40, 8366], [40, 7518], [40, 6367], [40, 6217], [40, 4156], [40, 3100], [40, 547], [39, 11206], [39, 8857], [39, 7979], [39, 3381], [38, 9390], [38, 9344], [38, 7111], [38, 4041], [38, 2357], [37, 10617], [37, 10244], [37, 9445], [37, 2832], [36, 11599], [36, 11010], [36, 10737], [36, 10696], [36, 10447], [36, 10246], [36, 9963], [36, 7015], [36, 6198], [36, 5993], [36, 5532], [36, 2241], [36, 1214], [35, 11728], [35, 10406], [35, 9742], [35, 9542], [35, 8137], [35, 6470], [35, 6357], [35, 5853], [35, 5806], [35, 5704], [35, 4921], [35, 3053], [35, 1598], [34, 11732], [34, 10371], [34, 8899], [34, 8803], [34, 7951], [34, 6427], [34, 5432], [34, 4954], [34, 3601], [33, 11961], [33, 11591], [33, 9999], [33, 7827], [33, 7172], [33, 5351], [33, 4446], [33, 1525], [33, 351], [32, 11738], [32, 9863], [32, 9383], [32, 6114], [32, 5722], [32, 4974], [32, 4268], [32, 4208], [32, 4158], [32, 3338], [32, 1136], [32, 418], [31, 11600], [31, 11406], [31, 10465], [31, 9481], [31, 8593], [31, 8569], [31, 7839], [31, 4384], [31, 2681], [31, 2290], [31, 1714], [31, 494], [30, 11988], [30, 11662], [30, 10678], [30, 8463], [30, 8232], [30, 7897], [30, 2952], [30, 2887], [30, 2787], [29, 10434], [29, 10281], [29, 7774], [29, 7670], [29, 6771], [29, 5905], [29, 5527], [29, 4052], [29, 953], [28, 11100], [28, 9941], [28, 8111], [28, 7529], [28, 6731], [28, 6302], [28, 4009], [28, 3578], [28, 2361], [28, 518], [27, 11263], [27, 10746], [27, 8084], [27, 8034], [27, 6184], [27, 6103], [27, 4433], [27, 4218], [27, 4140], [27, 4007], [27, 3866], [27, 3390], [27, 2870], [26, 11805], [26, 10679], [26, 10412], [26, 10335], [26, 10115], [26, 9435], [26, 6751], [26, 6401], [26, 6293], [26, 5915], [26, 5666], [26, 3080], [26, 2866], [26, 2610], [26, 1759], [25, 11344], [25, 11112], [25, 10870], [25, 10448], [25, 9269], [25, 8695], [25, 8595], [25, 8508], [25, 7587], [25, 6281], [25, 6236], [25, 5441], [25, 4353], [25, 3039], [25, 2918], [25, 1235], [25, 1093], [25, 601], [25, 283], [24, 10708], [24, 8615], [24, 8440], [24, 8191], [24, 7873], [24, 7654], [24, 6924], [24, 6759], [24, 5832], [24, 4826], [24, 3852], [24, 3378], [24, 1124], [24, 469], [24, 135], [23, 11423], [23, 11415], [23, 11377], [23, 10437], [23, 9683], [23, 9510], [23, 9495], [23, 8957], [23, 8864], [23, 8319], [23, 6894], [23, 6627], [23, 5741], [23, 3970], [23, 3493], [23, 3026], [23, 2400], [23, 2282], [22, 11671], [22, 11357], [22, 11314], [22, 10858], [22, 10585], [22, 10062], [22, 8581], [22, 8383], [22, 8134], [22, 7991], [22, 7538], [22, 7215], [22, 6993], [22, 6913], [22, 5100], [22, 4258], [22, 3881], [22, 3757], [22, 2969], [22, 2201], [22, 627], [22, 265], [22, 174], [21, 11764], [21, 11341], [21, 10928], [21, 9623], [21, 9089], [21, 8880], [21, 8571], [21, 7868], [21, 5725], [21, 3695], [21, 3617], [21, 3076], [21, 2112], [21, 383], [21, 275], [20, 11072], [20, 11004], [20, 10892], [20, 10118], [20, 8884], [20, 8505], [20, 7999], [20, 7927], [20, 7696], [20, 6232], [20, 4886], [20, 4182], [20, 3956], [20, 3752], [20, 2946], [20, 141], [19, 10372], [19, 9257], [19, 8601], [19, 8101], [19, 8075], [19, 7351], [19, 6285], [19, 5866], [19, 1930], [19, 1820], [19, 1758], [19, 1222], [18, 10792], [18, 10554], [18, 10025], [18, 8252], [18, 7378], [18, 7173], [18, 6688], [18, 6205], [18, 5412], [18, 4778], [18, 4582], [18, 3675], [18, 3562], [18, 3194], [18, 1716], [18, 1561], [18, 1145], [18, 33], [17, 11885], [17, 11841], [17, 10167], [17, 8860], [17, 8258], [17, 7764], [17, 7493], [17, 6734], [17, 5027], [17, 4611], [17, 3641], [17, 2278], [17, 1581], [17, 1396], [17, 502], [17, 305], [17, 165], [17, 50], [16, 11465], [16, 10867], [16, 10519], [16, 8952], [16, 8809], [16, 8460], [16, 7613], [16, 7242], [16, 6866], [16, 6827], [16, 6419], [16, 6108], [16, 5663], [16, 5167], [16, 5156], [16, 4969], [16, 4870], [16, 3081], [16, 628], [16, 188], [15, 11327], [15, 11321], [15, 11272], [15, 10958], [15, 10683], [15, 7618], [15, 6971], [15, 6305], [15, 5127], [15, 4869], [15, 3332], [15, 2590], [15, 2583], [14, 11537], [14, 11533], [14, 11306], [14, 11086], [14, 10843], [14, 10574], [14, 10355], [14, 10322], [14, 10299], [14, 10053], [14, 9843], [14, 9825], [14, 9432], [14, 9343], [14, 9013], [14, 8311], [14, 8277], [14, 8070], [14, 7234], [14, 5445], [14, 3428], [14, 3324], [14, 3207], [14, 2750], [14, 2724], [14, 2438], [14, 2124], [14, 1151], [14, 725], [14, 2], [13, 11773], [13, 10582], [13, 9850], [13, 9524], [13, 9222], [13, 8393], [13, 7920], [13, 7882], [13, 7792], [13, 7475], [13, 7441], [13, 7097], [13, 6998], [13, 6371], [13, 6061], [13, 5723], [13, 4966], [13, 4715], [13, 4709], [13, 4580], [13, 3862], [13, 2134], [13, 2129], [13, 1816], [13, 1555], [13, 1186], [13, 1123], [13, 828], [13, 172], [12, 11949], [12, 11913], [12, 11593], [12, 11487], [12, 11421], [12, 10949], [12, 10911], [12, 10885], [12, 10367], [12, 9974], [12, 9833], [12, 9727], [12, 9359], [12, 9196], [12, 9030], [12, 8877], [12, 8149], [12, 7411], [12, 5761], [12, 5103], [12, 4760], [12, 4535], [12, 2945], [12, 1481], [12, 1361], [12, 1173], [12, 717], [12, 520], [12, 398], [11, 11637], [11, 11144], [11, 11093], [11, 10523], [11, 10332], [11, 9961], [11, 9819], [11, 9717], [11, 9477], [11, 9172], [11, 9145], [11, 8806], [11, 8394], [11, 8169], [11, 6180], [11, 5620], [11, 5225], [11, 4945], [11, 4902], [11, 4839], [11, 4685], [11, 4388], [11, 1717], [11, 1013], [11, 460], [11, 375], [10, 11130], [10, 11036], [10, 10070], [10, 10064], [10, 9948], [10, 9786], [10, 9768], [10, 9039], [10, 8769], [10, 8704], [10, 8448], [10, 8278], [10, 8022], [10, 7399], [10, 7323], [10, 7034], [10, 6617], [10, 4519], [10, 4350], [10, 4167], [10, 4134], [10, 3749], [10, 3347], [10, 3069], [10, 3036], [10, 2626], [10, 2049], [10, 1993], [10, 1872], [10, 1546], [10, 1162], [10, 1007], [10, 850], [10, 589], [9, 11880], [9, 11682], [9, 11570], [9, 11500], [9, 10368], [9, 10339], [9, 10234], [9, 10002], [9, 9936], [9, 9870], [9, 9670], [9, 9593], [9, 9362], [9, 8712], [9, 8675], [9, 8265], [9, 7740], [9, 7403], [9, 7156], [9, 6832], [9, 6653], [9, 6640], [9, 6482], [9, 5652], [9, 5638], [9, 5586], [9, 5152], [9, 4935], [9, 4731], [9, 4255], [9, 4106], [9, 3762], [9, 3273], [9, 3014], [9, 2569], [9, 2073], [9, 2037], [9, 2034], [9, 1845], [9, 1681], [9, 1506], [9, 1496], [9, 1212], [9, 1106], [9, 362], [9, 347], [9, 345], [9, 53], [8, 11980], [8, 11965], [8, 11578], [8, 11567], [8, 11412], [8, 10303], [8, 10207], [8, 10155], [8, 9939], [8, 9486], [8, 9349], [8, 9211], [8, 8585], [8, 8442], [8, 8270], [8, 8009], [8, 7896], [8, 7598], [8, 7342], [8, 7301], [8, 7192], [8, 6965], [8, 6065], [8, 5990], [8, 5777], [8, 5399], [8, 4861], [8, 4600], [8, 4349], [8, 4200], [8, 4018], [8, 3859], [8, 3765], [8, 3739], [8, 3717], [8, 3639], [8, 3586], [8, 3294], [8, 3238], [8, 3178], [8, 3052], [8, 2615], [8, 2570], [8, 2196], [8, 2101], [8, 1726], [8, 1672], [8, 1641], [8, 1621], [8, 1227], [8, 1141], [8, 999], [8, 814], [8, 390], [8, 80], [8, 60], [8, 43], [7, 11782], [7, 11604], [7, 11499], [7, 11190], [7, 10736], [7, 10639], [7, 10634], [7, 10446], [7, 10102], [7, 9684], [7, 9616], [7, 9580], [7, 9442], [7, 8994], [7, 8876], [7, 8827], [7, 8750], [7, 8239], [7, 8175], [7, 8156], [7, 8123], [7, 7989], [7, 7844], [7, 7802], [7, 7786], [7, 7655], [7, 7198], [7, 6662], [7, 6170], [7, 6136], [7, 5960], [7, 5827], [7, 5726], [7, 5655], [7, 5607], [7, 5516], [7, 5428], [7, 5267], [7, 5215], [7, 5162], [7, 5084], [7, 5075], [7, 4753], [7, 4502], [7, 4467], [7, 4171], [7, 3919], [7, 3837], [7, 3597], [7, 3514], [7, 3346], [7, 3317], [7, 3205], [7, 3125], [7, 2886], [7, 2798], [7, 2776], [7, 2636], [7, 2372], [7, 2220], [7, 2111], [7, 1907], [7, 1864], [7, 1592], [7, 1035], [7, 991], [7, 367], [7, 20], [6, 11893], [6, 11586], [6, 11405], [6, 11164], [6, 10419], [6, 10383], [6, 10363], [6, 10257], [6, 10217], [6, 10030], [6, 10015], [6, 10006], [6, 9965], [6, 9940], [6, 9750], [6, 9737], [6, 9695], [6, 9315], [6, 9210], [6, 9135], [6, 9055], [6, 8856], [6, 8741], [6, 8514], [6, 8466], [6, 8255], [6, 8161], [6, 8092], [6, 7985], [6, 7970], [6, 7770], [6, 7605], [6, 7549], [6, 7327], [6, 7296], [6, 7158], [6, 7096], [6, 6962], [6, 6765], [6, 6624], [6, 6270], [6, 6044], [6, 6007], [6, 5611], [6, 5246], [6, 5069], [6, 5062], [6, 4850], [6, 4561], [6, 4410], [6, 4256], [6, 4065], [6, 3772], [6, 3676], [6, 3567], [6, 3408], [6, 3327], [6, 3203], [6, 3102], [6, 3083], [6, 2890], [6, 2857], [6, 2818], [6, 2746], [6, 2618], [6, 2536], [6, 2436], [6, 2259], [6, 2009], [6, 1875], [6, 1702], [6, 1671], [6, 1666], [6, 1600], [6, 1500], [6, 1242], [6, 1238], [6, 1147], [6, 1088], [6, 1039], [6, 994], [6, 481], [6, 479], [6, 472], [6, 136], [5, 11991], [5, 11935], [5, 11906], [5, 11646], [5, 11639], [5, 11556], [5, 11316], [5, 11278], [5, 11226], [5, 10948], [5, 10811], [5, 10756], [5, 10677], [5, 10674], [5, 10626], [5, 10573], [5, 10483], [5, 10433], [5, 10397], [5, 10291], [5, 10126], [5, 10122], [5, 9868], [5, 9265], [5, 9229], [5, 9202], [5, 9162], [5, 9085], [5, 9077], [5, 8938], [5, 8826], [5, 8758], [5, 8663], [5, 8604], [5, 8337], [5, 8269], [5, 8201], [5, 8157], [5, 8082], [5, 7904], [5, 7539], [5, 7503], [5, 7384], [5, 7362], [5, 7349], [5, 7196], [5, 7170], [5, 7080], [5, 6963], [5, 6956], [5, 6922], [5, 6867], [5, 6523], [5, 6425], [5, 6342], [5, 6049], [5, 6011], [5, 5798], [5, 5742], [5, 5728], [5, 5559], [5, 5467], [5, 5254], [5, 5212], [5, 5153], [5, 4989], [5, 4730], [5, 4729], [5, 4589], [5, 4031], [5, 4003], [5, 3502], [5, 3499], [5, 3437], [5, 3431], [5, 3413], [5, 3280], [5, 3077], [5, 2961], [5, 2949], [5, 2843], [5, 2645], [5, 2532], [5, 2371], [5, 2307], [5, 2285], [5, 2176], [5, 2024], [5, 1891], [5, 1784], [5, 1720], [5, 1466], [5, 1441], [5, 1385], [5, 1303], [5, 1297], [5, 1149], [5, 1064], [5, 1026], [5, 946], [5, 738], [5, 607], [5, 591], [5, 555], [5, 543], [5, 506], [5, 478], [5, 397], [5, 126], [5, 95], [4, 11981], [4, 11902], [4, 11792], [4, 11621], [4, 11476], [4, 11452], [4, 11388], [4, 11381], [4, 11370], [4, 11169], [4, 11123], [4, 11031], [4, 10927], [4, 10909], [4, 10883], [4, 10863], [4, 10824], [4, 10785], [4, 10770], [4, 10648], [4, 10627], [4, 10520], [4, 10442], [4, 10416], [4, 10415], [4, 10274], [4, 10084], [4, 10074], [4, 10003], [4, 9962], [4, 9934], [4, 9927], [4, 9882], [4, 9839], [4, 9835], [4, 9821], [4, 9807], [4, 9795], [4, 9698], [4, 9696], [4, 9633], [4, 9571], [4, 9547], [4, 9546], [4, 9506], [4, 9425], [4, 9187], [4, 9056], [4, 8973], [4, 8940], [4, 8790], [4, 8740], [4, 8677], [4, 8629], [4, 8555], [4, 8371], [4, 8314], [4, 8254], [4, 8173], [4, 8072], [4, 7941], [4, 7910], [4, 7895], [4, 7778], [4, 7710], [4, 7480], [4, 7406], [4, 7385], [4, 7221], [4, 7219], [4, 7212], [4, 7165], [4, 7048], [4, 6893], [4, 6886], [4, 6837], [4, 6818], [4, 6713], [4, 6711], [4, 6668], [4, 6655], [4, 6643], [4, 6597], [4, 6571], [4, 6228], [4, 6059], [4, 6029], [4, 5996], [4, 5795], [4, 5789], [4, 5739], [4, 5531], [4, 5508], [4, 5397], [4, 5304], [4, 5294], [4, 5291], [4, 5255], [4, 5137], [4, 5048], [4, 4964], [4, 4824], [4, 4822], [4, 4774], [4, 4726], [4, 4712], [4, 4529], [4, 4493], [4, 4477], [4, 4445], [4, 4408], [4, 4266], [4, 4196], [4, 4155], [4, 3917], [4, 3887], [4, 3879], [4, 3830], [4, 3704], [4, 3634], [4, 3626], [4, 3607], [4, 3600], [4, 3521], [4, 3517], [4, 3470], [4, 3315], [4, 3310], [4, 3240], [4, 3201], [4, 3179], [4, 3133], [4, 3073], [4, 3063], [4, 2940], [4, 2925], [4, 2863], [4, 2516], [4, 2495], [4, 2492], [4, 2461], [4, 2455], [4, 2421], [4, 2403], [4, 2380], [4, 2370], [4, 2311], [4, 1999], [4, 1901], [4, 1897], [4, 1858], [4, 1844], [4, 1823], [4, 1741], [4, 1706], [4, 1689], [4, 1562], [4, 1445], [4, 1380], [4, 1379], [4, 1312], [4, 1311], [4, 1240], [4, 1233], [4, 1197], [4, 1178], [4, 1125], [4, 887], [4, 715], [4, 710], [4, 649], [4, 617], [4, 608], [4, 561], [4, 417], [4, 337], [4, 321], [4, 251], [4, 221], [4, 171], [4, 142], [3, 11948], [3, 11904], [3, 11879], [3, 11856], [3, 11851], [3, 11778], [3, 11690], [3, 11636], [3, 11486], [3, 11438], [3, 11408], [3, 11396], [3, 11279], [3, 11261], [3, 11259], [3, 11250], [3, 11231], [3, 11213], [3, 11194], [3, 11191], [3, 11133], [3, 11101], [3, 10872], [3, 10820], [3, 10751], [3, 10713], [3, 10649], [3, 10631], [3, 10583], [3, 10571], [3, 10505], [3, 10463], [3, 10429], [3, 10374], [3, 10277], [3, 10268], [3, 10165], [3, 10079], [3, 10058], [3, 9959], [3, 9837], [3, 9764], [3, 9721], [3, 9704], [3, 9661], [3, 9528], [3, 9318], [3, 9297], [3, 9288], [3, 9284], [3, 9232], [3, 9207], [3, 9178], [3, 9154], [3, 9137], [3, 9088], [3, 9067], [3, 9062], [3, 8995], [3, 8971], [3, 8919], [3, 8867], [3, 8802], [3, 8759], [3, 8702], [3, 8685], [3, 8666], [3, 8574], [3, 8564], [3, 8465], [3, 8464], [3, 8462], [3, 8367], [3, 8312], [3, 8302], [3, 8286], [3, 8206], [3, 8165], [3, 8109], [3, 8047], [3, 8020], [3, 7995], [3, 7966], [3, 7787], [3, 7724], [3, 7700], [3, 7661], [3, 7622], [3, 7615], [3, 7498], [3, 7437], [3, 7310], [3, 7261], [3, 7231], [3, 7208], [3, 7199], [3, 7189], [3, 7020], [3, 7014], [3, 6981], [3, 6916], [3, 6900], [3, 6863], [3, 6845], [3, 6808], [3, 6778], [3, 6760], [3, 6740], [3, 6735], [3, 6717], [3, 6705], [3, 6600], [3, 6569], [3, 6555], [3, 6539], [3, 6481], [3, 6414], [3, 6350], [3, 6259], [3, 6111], [3, 6090], [3, 6081], [3, 6071], [3, 6058], [3, 6047], [3, 6045], [3, 6038], [3, 6026], [3, 6014], [3, 6012], [3, 5970], [3, 5882], [3, 5863], [3, 5841], [3, 5730], [3, 5695], [3, 5686], [3, 5678], [3, 5650], [3, 5641], [3, 5605], [3, 5589], [3, 5577], [3, 5575], [3, 5528], [3, 5515], [3, 5454], [3, 5439], [3, 5381], [3, 5326], [3, 5170], [3, 5145], [3, 5132], [3, 5111], [3, 4908], [3, 4874], [3, 4820], [3, 4738], [3, 4703], [3, 4701], [3, 4608], [3, 4553], [3, 4551], [3, 4479], [3, 4439], [3, 4396], [3, 4389], [3, 4341], [3, 4327], [3, 4187], [3, 4146], [3, 4093], [3, 4082], [3, 3856], [3, 3768], [3, 3759], [3, 3638], [3, 3606], [3, 3568], [3, 3564], [3, 3374], [3, 3359], [3, 3356], [3, 3323], [3, 3318], [3, 3222], [3, 3220], [3, 3216], [3, 3183], [3, 3159], [3, 3140], [3, 3124], [3, 3059], [3, 3009], [3, 2998], [3, 2973], [3, 2873], [3, 2827], [3, 2817], [3, 2782], [3, 2714], [3, 2624], [3, 2601], [3, 2577], [3, 2332], [3, 2301], [3, 2206], [3, 2194], [3, 2131], [3, 2063], [3, 1787], [3, 1753], [3, 1742], [3, 1691], [3, 1685], [3, 1440], [3, 1439], [3, 1321], [3, 1299], [3, 1140], [3, 1087], [3, 1049], [3, 1030], [3, 817], [3, 815], [3, 793], [3, 788], [3, 746], [3, 736], [3, 716], [3, 665], [3, 575], [3, 528], [3, 511], [3, 455], [3, 382], [3, 330], [3, 277], [3, 241], [3, 77], [3, 59], [2, 11963], [2, 11947], [2, 11933], [2, 11921], [2, 11907], [2, 11882], [2, 11669], [2, 11667], [2, 11628], [2, 11595], [2, 11585], [2, 11572], [2, 11464], [2, 11448], [2, 11433], [2, 11345], [2, 11211], [2, 11126], [2, 11117], [2, 11084], [2, 11020], [2, 11016], [2, 10962], [2, 10960], [2, 10943], [2, 10925], [2, 10924], [2, 10922], [2, 10916], [2, 10888], [2, 10842], [2, 10793], [2, 10758], [2, 10743], [2, 10682], [2, 10658], [2, 10561], [2, 10551], [2, 10499], [2, 10496], [2, 10480], [2, 10479], [2, 10407], [2, 10395], [2, 10348], [2, 10340], [2, 10279], [2, 10179], [2, 10154], [2, 10146], [2, 10113], [2, 10107], [2, 10078], [2, 10056], [2, 10000], [2, 9930], [2, 9896], [2, 9830], [2, 9820], [2, 9812], [2, 9802], [2, 9776], [2, 9752], [2, 9719], [2, 9662], [2, 9640], [2, 9622], [2, 9527], [2, 9522], [2, 9443], [2, 9419], [2, 9389], [2, 9387], [2, 9331], [2, 9317], [2, 9308], [2, 9240], [2, 9227], [2, 9177], [2, 9168], [2, 9165], [2, 9109], [2, 9052], [2, 9029], [2, 8996], [2, 8969], [2, 8947], [2, 8933], [2, 8913], [2, 8887], [2, 8881], [2, 8776], [2, 8645], [2, 8641], [2, 8637], [2, 8618], [2, 8579], [2, 8578], [2, 8561], [2, 8548], [2, 8539], [2, 8519], [2, 8469], [2, 8423], [2, 8332], [2, 8290], [2, 8279], [2, 8250], [2, 8236], [2, 8194], [2, 8051], [2, 8043], [2, 8032], [2, 7952], [2, 7940], [2, 7912], [2, 7877], [2, 7876], [2, 7861], [2, 7838], [2, 7834], [2, 7824], [2, 7822], [2, 7806], [2, 7753], [2, 7716], [2, 7690], [2, 7625], [2, 7585], [2, 7582], [2, 7530], [2, 7491], [2, 7438], [2, 7424], [2, 7395], [2, 7331], [2, 7285], [2, 7207], [2, 7175], [2, 7085], [2, 7038], [2, 7027], [2, 7018], [2, 6996], [2, 6994], [2, 6985], [2, 6969], [2, 6950], [2, 6879], [2, 6857], [2, 6746], [2, 6738], [2, 6732], [2, 6678], [2, 6664], [2, 6603], [2, 6583], [2, 6548], [2, 6527], [2, 6458], [2, 6450], [2, 6392], [2, 6368], [2, 6250], [2, 6200], [2, 6163], [2, 6161], [2, 6143], [2, 6102], [2, 6085], [2, 6079], [2, 6073], [2, 6009], [2, 5930], [2, 5919], [2, 5894], [2, 5760], [2, 5717], [2, 5635], [2, 5612], [2, 5602], [2, 5539], [2, 5504], [2, 5491], [2, 5437], [2, 5355], [2, 5341], [2, 5311], [2, 5300], [2, 5190], [2, 5178], [2, 5174], [2, 5168], [2, 5112], [2, 5102], [2, 5046], [2, 5035], [2, 5029], [2, 4951], [2, 4892], [2, 4868], [2, 4819], [2, 4815], [2, 4810], [2, 4799], [2, 4770], [2, 4711], [2, 4671], [2, 4622], [2, 4584], [2, 4583], [2, 4539], [2, 4500], [2, 4474], [2, 4465], [2, 4453], [2, 4414], [2, 4398], [2, 4307], [2, 4221], [2, 4195], [2, 4159], [2, 4153], [2, 4152], [2, 4111], [2, 4099], [2, 3951], [2, 3947], [2, 3921], [2, 3905], [2, 3903], [2, 3869], [2, 3829], [2, 3800], [2, 3697], [2, 3674], [2, 3619], [2, 3570], [2, 3558], [2, 3549], [2, 3443], [2, 3352], [2, 3331], [2, 3293], [2, 3272], [2, 3153], [2, 3098], [2, 3060], [2, 3033], [2, 3027], [2, 2933], [2, 2920], [2, 2917], [2, 2900], [2, 2882], [2, 2877], [2, 2786], [2, 2760], [2, 2747], [2, 2722], [2, 2718], [2, 2652], [2, 2630], [2, 2603], [2, 2602], [2, 2600], [2, 2450], [2, 2434], [2, 2424], [2, 2415], [2, 2414], [2, 2410], [2, 2398], [2, 2377], [2, 2291], [2, 2280], [2, 2198], [2, 2169], [2, 2137], [2, 2136], [2, 2126], [2, 2118], [2, 2077], [2, 2058], [2, 2020], [2, 2015], [2, 1949], [2, 1933], [2, 1855], [2, 1708], [2, 1610], [2, 1591], [2, 1571], [2, 1564], [2, 1528], [2, 1471], [2, 1430], [2, 1392], [2, 1307], [2, 1301], [2, 1256], [2, 1254], [2, 1126], [2, 1109], [2, 1100], [2, 1079], [2, 1056], [2, 1005], [2, 975], [2, 973], [2, 922], [2, 891], [2, 827], [2, 822], [2, 789], [2, 777], [2, 771], [2, 755], [2, 749], [2, 740], [2, 707], [2, 703], [2, 683], [2, 682], [2, 675], [2, 667], [2, 500], [2, 486], [2, 413], [2, 350], [2, 338], [2, 291], [2, 254], [2, 223], [2, 212], [2, 128], [2, 96], [2, 94], [2, 25], [2, 19], [1, 12000], [1, 11999], [1, 11998], [1, 11997], [1, 11996], [1, 11995], [1, 11992], [1, 11990], [1, 11989], [1, 11987], [1, 11986], [1, 11984], [1, 11983], [1, 11982], [1, 11979], [1, 11977], [1, 11974], [1, 11968], [1, 11962], [1, 11960], [1, 11951], [1, 11950], [1, 11945], [1, 11944], [1, 11943], [1, 11942], [1, 11941], [1, 11940], [1, 11938], [1, 11937], [1, 11936], [1, 11934], [1, 11932], [1, 11931], [1, 11930], [1, 11928], [1, 11927], [1, 11925], [1, 11923], [1, 11922], [1, 11919], [1, 11918], [1, 11917], [1, 11915], [1, 11912], [1, 11911], [1, 11910], [1, 11908], [1, 11905], [1, 11903], [1, 11899], [1, 11898], [1, 11897], [1, 11894], [1, 11889], [1, 11888], [1, 11884], [1, 11881], [1, 11877], [1, 11876], [1, 11871], [1, 11868], [1, 11866], [1, 11865], [1, 11864], [1, 11862], [1, 11859], [1, 11858], [1, 11854], [1, 11853], [1, 11852], [1, 11850], [1, 11849], [1, 11848], [1, 11847], [1, 11846], [1, 11845], [1, 11844], [1, 11842], [1, 11840], [1, 11839], [1, 11835], [1, 11833], [1, 11831], [1, 11830], [1, 11829], [1, 11828], [1, 11827], [1, 11826], [1, 11822], [1, 11821], [1, 11820], [1, 11817], [1, 11816], [1, 11815], [1, 11814], [1, 11813], [1, 11812], [1, 11809], [1, 11807], [1, 11803], [1, 11799], [1, 11798], [1, 11797], [1, 11795], [1, 11794], [1, 11791], [1, 11790], [1, 11788], [1, 11785], [1, 11784], [1, 11783], [1, 11780], [1, 11777], [1, 11774], [1, 11770], [1, 11767], [1, 11766], [1, 11765], [1, 11763], [1, 11761], [1, 11760], [1, 11759], [1, 11756], [1, 11755], [1, 11752], [1, 11750], [1, 11749], [1, 11747], [1, 11746], [1, 11745], [1, 11742], [1, 11740], [1, 11739], [1, 11737], [1, 11736], [1, 11735], [1, 11734], [1, 11733], [1, 11729], [1, 11726], [1, 11725], [1, 11724], [1, 11723], [1, 11722], [1, 11721], [1, 11720], [1, 11719], [1, 11718], [1, 11716], [1, 11715], [1, 11712], [1, 11710], [1, 11709], [1, 11708], [1, 11707], [1, 11706], [1, 11705], [1, 11704], [1, 11703], [1, 11700], [1, 11698], [1, 11697], [1, 11696], [1, 11695], [1, 11693], [1, 11692], [1, 11691], [1, 11687], [1, 11685], [1, 11684], [1, 11680], [1, 11679], [1, 11677], [1, 11676], [1, 11675], [1, 11674], [1, 11673], [1, 11672], [1, 11668], [1, 11665], [1, 11663], [1, 11661], [1, 11659], [1, 11658], [1, 11656], [1, 11655], [1, 11654], [1, 11653], [1, 11652], [1, 11651], [1, 11650], [1, 11649], [1, 11647], [1, 11644], [1, 11643], [1, 11640], [1, 11638], [1, 11635], [1, 11632], [1, 11630], [1, 11626], [1, 11624], [1, 11618], [1, 11617], [1, 11616], [1, 11614], [1, 11613], [1, 11611], [1, 11610], [1, 11607], [1, 11606], [1, 11605], [1, 11603], [1, 11602], [1, 11594], [1, 11590], [1, 11589], [1, 11584], [1, 11583], [1, 11582], [1, 11581], [1, 11579], [1, 11577], [1, 11576], [1, 11575], [1, 11574], [1, 11571], [1, 11568], [1, 11564], [1, 11563], [1, 11562], [1, 11561], [1, 11560], [1, 11557], [1, 11555], [1, 11554], [1, 11553], [1, 11552], [1, 11551], [1, 11550], [1, 11549], [1, 11547], [1, 11546], [1, 11545], [1, 11543], [1, 11542], [1, 11538], [1, 11536], [1, 11534], [1, 11532], [1, 11529], [1, 11525], [1, 11524], [1, 11521], [1, 11520], [1, 11518], [1, 11517], [1, 11516], [1, 11515], [1, 11514], [1, 11513], [1, 11512], [1, 11511], [1, 11510], [1, 11508], [1, 11504], [1, 11501], [1, 11498], [1, 11496], [1, 11495], [1, 11494], [1, 11493], [1, 11492], [1, 11491], [1, 11490], [1, 11489], [1, 11484], [1, 11483], [1, 11482], [1, 11478], [1, 11473], [1, 11472], [1, 11471], [1, 11468], [1, 11467], [1, 11466], [1, 11463], [1, 11462], [1, 11460], [1, 11459], [1, 11458], [1, 11456], [1, 11455], [1, 11453], [1, 11451], [1, 11449], [1, 11447], [1, 11446], [1, 11442], [1, 11441], [1, 11440], [1, 11439], [1, 11437], [1, 11436], [1, 11435], [1, 11434], [1, 11431], [1, 11430], [1, 11429], [1, 11427], [1, 11426], [1, 11425], [1, 11422], [1, 11418], [1, 11417], [1, 11416], [1, 11411], [1, 11407], [1, 11402], [1, 11399], [1, 11398], [1, 11394], [1, 11393], [1, 11392], [1, 11390], [1, 11385], [1, 11383], [1, 11382], [1, 11380], [1, 11376], [1, 11375], [1, 11372], [1, 11369], [1, 11368], [1, 11367], [1, 11365], [1, 11364], [1, 11362], [1, 11361], [1, 11360], [1, 11354], [1, 11351], [1, 11350], [1, 11343], [1, 11339], [1, 11338], [1, 11337], [1, 11335], [1, 11333], [1, 11332], [1, 11331], [1, 11326], [1, 11324], [1, 11323], [1, 11322], [1, 11319], [1, 11318], [1, 11317], [1, 11315], [1, 11312], [1, 11311], [1, 11308], [1, 11305], [1, 11303], [1, 11302], [1, 11301], [1, 11299], [1, 11298], [1, 11297], [1, 11296], [1, 11295], [1, 11293], [1, 11292], [1, 11290], [1, 11289], [1, 11288], [1, 11284], [1, 11283], [1, 11282], [1, 11280], [1, 11274], [1, 11269], [1, 11265], [1, 11264], [1, 11260], [1, 11258], [1, 11257], [1, 11256], [1, 11255], [1, 11248], [1, 11247], [1, 11245], [1, 11243], [1, 11242], [1, 11241], [1, 11238], [1, 11237], [1, 11236], [1, 11235], [1, 11233], [1, 11227], [1, 11224], [1, 11222], [1, 11220], [1, 11219], [1, 11218], [1, 11217], [1, 11216], [1, 11214], [1, 11210], [1, 11208], [1, 11207], [1, 11205], [1, 11204], [1, 11201], [1, 11197], [1, 11193], [1, 11192], [1, 11188], [1, 11187], [1, 11185], [1, 11183], [1, 11181], [1, 11180], [1, 11177], [1, 11175], [1, 11174], [1, 11173], [1, 11172], [1, 11168], [1, 11167], [1, 11165], [1, 11161], [1, 11158], [1, 11157], [1, 11156], [1, 11155], [1, 11154], [1, 11153], [1, 11152], [1, 11151], [1, 11150], [1, 11149], [1, 11148], [1, 11147], [1, 11145], [1, 11143], [1, 11141], [1, 11140], [1, 11139], [1, 11138], [1, 11136], [1, 11134], [1, 11132], [1, 11131], [1, 11129], [1, 11128], [1, 11127], [1, 11122], [1, 11121], [1, 11120], [1, 11119], [1, 11118], [1, 11115], [1, 11114], [1, 11113], [1, 11111], [1, 11110], [1, 11109], [1, 11108], [1, 11107], [1, 11106], [1, 11104], [1, 11103], [1, 11102], [1, 11099], [1, 11098], [1, 11097], [1, 11096], [1, 11095], [1, 11094], [1, 11091], [1, 11090], [1, 11089], [1, 11088], [1, 11085], [1, 11082], [1, 11079], [1, 11077], [1, 11071], [1, 11070], [1, 11069], [1, 11066], [1, 11064], [1, 11063], [1, 11062], [1, 11059], [1, 11058], [1, 11057], [1, 11055], [1, 11054], [1, 11052], [1, 11051], [1, 11050], [1, 11048], [1, 11047], [1, 11046], [1, 11045], [1, 11044], [1, 11043], [1, 11042], [1, 11041], [1, 11040], [1, 11035], [1, 11033], [1, 11029], [1, 11028], [1, 11023], [1, 11022], [1, 11019], [1, 11017], [1, 11014], [1, 11012], [1, 11011], [1, 11009], [1, 11008], [1, 11007], [1, 11002], [1, 11000], [1, 10999], [1, 10997], [1, 10996], [1, 10993], [1, 10992], [1, 10990], [1, 10987], [1, 10983], [1, 10982], [1, 10978], [1, 10974], [1, 10973], [1, 10972], [1, 10971], [1, 10970], [1, 10969], [1, 10968], [1, 10966], [1, 10964], [1, 10963], [1, 10959], [1, 10956], [1, 10954], [1, 10952], [1, 10951], [1, 10950], [1, 10947], [1, 10941], [1, 10940], [1, 10939], [1, 10935], [1, 10934], [1, 10933], [1, 10932], [1, 10930], [1, 10926], [1, 10921], [1, 10920], [1, 10919], [1, 10915], [1, 10912], [1, 10910], [1, 10907], [1, 10906], [1, 10905], [1, 10904], [1, 10902], [1, 10901], [1, 10900], [1, 10899], [1, 10898], [1, 10897], [1, 10896], [1, 10893], [1, 10891], [1, 10890], [1, 10889], [1, 10882], [1, 10880], [1, 10879], [1, 10878], [1, 10877], [1, 10874], [1, 10868], [1, 10865], [1, 10864], [1, 10862], [1, 10861], [1, 10859], [1, 10857], [1, 10855], [1, 10854], [1, 10852], [1, 10850], [1, 10848], [1, 10846], [1, 10845], [1, 10844], [1, 10841], [1, 10838], [1, 10837], [1, 10835], [1, 10831], [1, 10829], [1, 10828], [1, 10826], [1, 10822], [1, 10816], [1, 10815], [1, 10810], [1, 10809], [1, 10807], [1, 10806], [1, 10805], [1, 10804], [1, 10803], [1, 10800], [1, 10799], [1, 10798], [1, 10797], [1, 10794], [1, 10790], [1, 10789], [1, 10786], [1, 10784], [1, 10783], [1, 10782], [1, 10780], [1, 10779], [1, 10778], [1, 10777], [1, 10776], [1, 10775], [1, 10774], [1, 10773], [1, 10772], [1, 10771], [1, 10769], [1, 10768], [1, 10767], [1, 10765], [1, 10764], [1, 10762], [1, 10761], [1, 10760], [1, 10755], [1, 10749], [1, 10748], [1, 10747], [1, 10744], [1, 10742], [1, 10739], [1, 10738], [1, 10733], [1, 10731], [1, 10730], [1, 10728], [1, 10723], [1, 10721], [1, 10720], [1, 10719], [1, 10718], [1, 10717], [1, 10715], [1, 10712], [1, 10711], [1, 10710], [1, 10707], [1, 10705], [1, 10704], [1, 10702], [1, 10700], [1, 10699], [1, 10698], [1, 10697], [1, 10694], [1, 10693], [1, 10691], [1, 10690], [1, 10687], [1, 10685], [1, 10684], [1, 10681], [1, 10676], [1, 10675], [1, 10673], [1, 10670], [1, 10669], [1, 10668], [1, 10665], [1, 10664], [1, 10660], [1, 10659], [1, 10657], [1, 10655], [1, 10654], [1, 10653], [1, 10650], [1, 10646], [1, 10643], [1, 10641], [1, 10638], [1, 10637], [1, 10635], [1, 10632], [1, 10628], [1, 10624], [1, 10618], [1, 10616], [1, 10615], [1, 10614], [1, 10610], [1, 10609], [1, 10608], [1, 10607], [1, 10605], [1, 10604], [1, 10603], [1, 10600], [1, 10597], [1, 10596], [1, 10595], [1, 10594], [1, 10592], [1, 10591], [1, 10590], [1, 10577], [1, 10572], [1, 10570], [1, 10569], [1, 10568], [1, 10566], [1, 10565], [1, 10564], [1, 10563], [1, 10559], [1, 10558], [1, 10557], [1, 10556], [1, 10552], [1, 10547], [1, 10546], [1, 10545], [1, 10544], [1, 10543], [1, 10542], [1, 10541], [1, 10540], [1, 10539], [1, 10537], [1, 10536], [1, 10533], [1, 10531], [1, 10529], [1, 10528], [1, 10527], [1, 10525], [1, 10518], [1, 10517], [1, 10516], [1, 10512], [1, 10511], [1, 10509], [1, 10508], [1, 10506], [1, 10503], [1, 10502], [1, 10501], [1, 10498], [1, 10495], [1, 10492], [1, 10491], [1, 10490], [1, 10489], [1, 10488], [1, 10487], [1, 10486], [1, 10485], [1, 10484], [1, 10482], [1, 10481], [1, 10476], [1, 10475], [1, 10474], [1, 10472], [1, 10471], [1, 10469], [1, 10468], [1, 10466], [1, 10462], [1, 10460], [1, 10458], [1, 10457], [1, 10456], [1, 10455], [1, 10454], [1, 10453], [1, 10452], [1, 10450], [1, 10445], [1, 10440], [1, 10439], [1, 10438], [1, 10436], [1, 10435], [1, 10432], [1, 10431], [1, 10428], [1, 10424], [1, 10422], [1, 10421], [1, 10418], [1, 10411], [1, 10408], [1, 10405], [1, 10403], [1, 10402], [1, 10400], [1, 10396], [1, 10392], [1, 10391], [1, 10390], [1, 10389], [1, 10387], [1, 10386], [1, 10384], [1, 10382], [1, 10381], [1, 10380], [1, 10379], [1, 10378], [1, 10376], [1, 10375], [1, 10370], [1, 10369], [1, 10362], [1, 10361], [1, 10360], [1, 10358], [1, 10354], [1, 10353], [1, 10351], [1, 10350], [1, 10347], [1, 10346], [1, 10345], [1, 10343], [1, 10342], [1, 10338], [1, 10337], [1, 10336], [1, 10334], [1, 10330], [1, 10328], [1, 10326], [1, 10325], [1, 10324], [1, 10323], [1, 10321], [1, 10319], [1, 10318], [1, 10317], [1, 10314], [1, 10313], [1, 10312], [1, 10309], [1, 10305], [1, 10301], [1, 10300], [1, 10298], [1, 10296], [1, 10295], [1, 10294], [1, 10293], [1, 10292], [1, 10290], [1, 10288], [1, 10287], [1, 10284], [1, 10282], [1, 10280], [1, 10278], [1, 10276], [1, 10273], [1, 10270], [1, 10269], [1, 10267], [1, 10264], [1, 10263], [1, 10261], [1, 10256], [1, 10254], [1, 10252], [1, 10250], [1, 10249], [1, 10248], [1, 10247], [1, 10245], [1, 10243], [1, 10242], [1, 10239], [1, 10232], [1, 10231], [1, 10229], [1, 10228], [1, 10227], [1, 10226], [1, 10224], [1, 10223], [1, 10219], [1, 10218], [1, 10215], [1, 10214], [1, 10213], [1, 10210], [1, 10209], [1, 10208], [1, 10205], [1, 10204], [1, 10203], [1, 10202], [1, 10201], [1, 10195], [1, 10194], [1, 10193], [1, 10192], [1, 10191], [1, 10189], [1, 10188], [1, 10187], [1, 10186], [1, 10185], [1, 10184], [1, 10181], [1, 10180], [1, 10175], [1, 10174], [1, 10172], [1, 10170], [1, 10168], [1, 10166], [1, 10164], [1, 10163], [1, 10161], [1, 10158], [1, 10157], [1, 10152], [1, 10148], [1, 10147], [1, 10145], [1, 10144], [1, 10143], [1, 10142], [1, 10141], [1, 10139], [1, 10138], [1, 10137], [1, 10136], [1, 10135], [1, 10134], [1, 10133], [1, 10132], [1, 10131], [1, 10130], [1, 10128], [1, 10127], [1, 10125], [1, 10124], [1, 10123], [1, 10120], [1, 10119], [1, 10114], [1, 10110], [1, 10109], [1, 10106], [1, 10103], [1, 10098], [1, 10096], [1, 10093], [1, 10092], [1, 10091], [1, 10090], [1, 10089], [1, 10088], [1, 10086], [1, 10085], [1, 10081], [1, 10077], [1, 10076], [1, 10075], [1, 10073], [1, 10072], [1, 10071], [1, 10069], [1, 10068], [1, 10066], [1, 10065], [1, 10063], [1, 10061], [1, 10060], [1, 10057], [1, 10055], [1, 10054], [1, 10052], [1, 10051], [1, 10050], [1, 10048], [1, 10047], [1, 10046], [1, 10045], [1, 10044], [1, 10042], [1, 10040], [1, 10037], [1, 10036], [1, 10035], [1, 10033], [1, 10028], [1, 10027], [1, 10026], [1, 10024], [1, 10021], [1, 10019], [1, 10018], [1, 10017], [1, 10016], [1, 10012], [1, 10009], [1, 10008], [1, 10007], [1, 10005], [1, 10004], [1, 9998], [1, 9996], [1, 9995], [1, 9993], [1, 9988], [1, 9987], [1, 9986], [1, 9982], [1, 9981], [1, 9980], [1, 9979], [1, 9978], [1, 9977], [1, 9975], [1, 9973], [1, 9971], [1, 9969], [1, 9967], [1, 9966], [1, 9964], [1, 9960], [1, 9956], [1, 9955], [1, 9953], [1, 9952], [1, 9951], [1, 9950], [1, 9949], [1, 9946], [1, 9945], [1, 9943], [1, 9938], [1, 9937], [1, 9935], [1, 9931], [1, 9929], [1, 9928], [1, 9921], [1, 9919], [1, 9918], [1, 9917], [1, 9916], [1, 9913], [1, 9910], [1, 9909], [1, 9908], [1, 9904], [1, 9903], [1, 9902], [1, 9900], [1, 9899], [1, 9898], [1, 9895], [1, 9892], [1, 9891], [1, 9890], [1, 9888], [1, 9886], [1, 9884], [1, 9881], [1, 9880], [1, 9879], [1, 9878], [1, 9875], [1, 9873], [1, 9872], [1, 9869], [1, 9865], [1, 9861], [1, 9860], [1, 9859], [1, 9858], [1, 9857], [1, 9856], [1, 9854], [1, 9853], [1, 9849], [1, 9847], [1, 9844], [1, 9838], [1, 9836], [1, 9834], [1, 9832], [1, 9831], [1, 9828], [1, 9826], [1, 9824], [1, 9822], [1, 9818], [1, 9817], [1, 9816], [1, 9815], [1, 9813], [1, 9810], [1, 9808], [1, 9805], [1, 9804], [1, 9803], [1, 9801], [1, 9800], [1, 9799], [1, 9797], [1, 9792], [1, 9789], [1, 9787], [1, 9785], [1, 9783], [1, 9781], [1, 9780], [1, 9777], [1, 9775], [1, 9774], [1, 9773], [1, 9769], [1, 9766], [1, 9765], [1, 9763], [1, 9762], [1, 9761], [1, 9759], [1, 9758], [1, 9756], [1, 9755], [1, 9753], [1, 9749], [1, 9748], [1, 9745], [1, 9744], [1, 9743], [1, 9741], [1, 9740], [1, 9739], [1, 9738], [1, 9734], [1, 9733], [1, 9729], [1, 9726], [1, 9725], [1, 9723], [1, 9715], [1, 9714], [1, 9712], [1, 9711], [1, 9710], [1, 9708], [1, 9705], [1, 9702], [1, 9701], [1, 9700], [1, 9693], [1, 9692], [1, 9689], [1, 9688], [1, 9687], [1, 9686], [1, 9685], [1, 9682], [1, 9681], [1, 9680], [1, 9677], [1, 9675], [1, 9674], [1, 9672], [1, 9669], [1, 9667], [1, 9666], [1, 9665], [1, 9663], [1, 9659], [1, 9658], [1, 9657], [1, 9656], [1, 9655], [1, 9654], [1, 9653], [1, 9651], [1, 9649], [1, 9647], [1, 9643], [1, 9642], [1, 9639], [1, 9638], [1, 9637], [1, 9636], [1, 9634], [1, 9632], [1, 9631], [1, 9630], [1, 9628], [1, 9627], [1, 9626], [1, 9621], [1, 9614], [1, 9613], [1, 9612], [1, 9611], [1, 9609], [1, 9605], [1, 9603], [1, 9602], [1, 9600], [1, 9599], [1, 9596], [1, 9595], [1, 9594], [1, 9589], [1, 9588], [1, 9587], [1, 9586], [1, 9583], [1, 9579], [1, 9578], [1, 9576], [1, 9574], [1, 9573], [1, 9572], [1, 9570], [1, 9569], [1, 9567], [1, 9565], [1, 9564], [1, 9562], [1, 9561], [1, 9560], [1, 9557], [1, 9555], [1, 9554], [1, 9552], [1, 9550], [1, 9545], [1, 9544], [1, 9543], [1, 9541], [1, 9539], [1, 9537], [1, 9533], [1, 9531], [1, 9530], [1, 9526], [1, 9525], [1, 9520], [1, 9519], [1, 9517], [1, 9516], [1, 9515], [1, 9513], [1, 9512], [1, 9511], [1, 9509], [1, 9501], [1, 9500], [1, 9498], [1, 9496], [1, 9494], [1, 9493], [1, 9492], [1, 9489], [1, 9488], [1, 9485], [1, 9484], [1, 9483], [1, 9482], [1, 9480], [1, 9478], [1, 9475], [1, 9474], [1, 9473], [1, 9472], [1, 9468], [1, 9467], [1, 9465], [1, 9463], [1, 9459], [1, 9457], [1, 9455], [1, 9454], [1, 9453], [1, 9452], [1, 9451], [1, 9449], [1, 9446], [1, 9444], [1, 9441], [1, 9440], [1, 9439], [1, 9438], [1, 9433], [1, 9430], [1, 9426], [1, 9418], [1, 9417], [1, 9416], [1, 9413], [1, 9411], [1, 9410], [1, 9409], [1, 9408], [1, 9407], [1, 9406], [1, 9405], [1, 9404], [1, 9403], [1, 9398], [1, 9396], [1, 9395], [1, 9394], [1, 9393], [1, 9392], [1, 9391], [1, 9386], [1, 9385], [1, 9384], [1, 9382], [1, 9379], [1, 9378], [1, 9376], [1, 9371], [1, 9370], [1, 9368], [1, 9365], [1, 9364], [1, 9363], [1, 9361], [1, 9360], [1, 9357], [1, 9356], [1, 9355], [1, 9354], [1, 9353], [1, 9352], [1, 9350], [1, 9348], [1, 9347], [1, 9342], [1, 9341], [1, 9340], [1, 9339], [1, 9338], [1, 9337], [1, 9336], [1, 9335], [1, 9334], [1, 9332], [1, 9329], [1, 9327], [1, 9326], [1, 9324], [1, 9321], [1, 9320], [1, 9319], [1, 9316], [1, 9314], [1, 9311], [1, 9310], [1, 9309], [1, 9307], [1, 9305], [1, 9304], [1, 9302], [1, 9298], [1, 9294], [1, 9293], [1, 9292], [1, 9287], [1, 9285], [1, 9283], [1, 9279], [1, 9278], [1, 9277], [1, 9273], [1, 9272], [1, 9271], [1, 9267], [1, 9266], [1, 9263], [1, 9262], [1, 9260], [1, 9256], [1, 9255], [1, 9254], [1, 9251], [1, 9248], [1, 9247], [1, 9246], [1, 9244], [1, 9243], [1, 9242], [1, 9239], [1, 9238], [1, 9235], [1, 9233], [1, 9228], [1, 9226], [1, 9223], [1, 9221], [1, 9219], [1, 9218], [1, 9216], [1, 9215], [1, 9214], [1, 9212], [1, 9209], [1, 9208], [1, 9205], [1, 9204], [1, 9203], [1, 9201], [1, 9200], [1, 9199], [1, 9198], [1, 9194], [1, 9193], [1, 9192], [1, 9189], [1, 9188], [1, 9186], [1, 9185], [1, 9184], [1, 9182], [1, 9180], [1, 9176], [1, 9175], [1, 9174], [1, 9173], [1, 9171], [1, 9170], [1, 9169], [1, 9166], [1, 9163], [1, 9161], [1, 9159], [1, 9158], [1, 9156], [1, 9153], [1, 9152], [1, 9150], [1, 9149], [1, 9146], [1, 9144], [1, 9141], [1, 9140], [1, 9138], [1, 9136], [1, 9133], [1, 9131], [1, 9130], [1, 9129], [1, 9128], [1, 9127], [1, 9125], [1, 9123], [1, 9122], [1, 9121], [1, 9118], [1, 9117], [1, 9116], [1, 9115], [1, 9114], [1, 9108], [1, 9106], [1, 9105], [1, 9104], [1, 9103], [1, 9102], [1, 9101], [1, 9099], [1, 9098], [1, 9096], [1, 9095], [1, 9093], [1, 9090], [1, 9087], [1, 9086], [1, 9082], [1, 9081], [1, 9080], [1, 9075], [1, 9074], [1, 9073], [1, 9072], [1, 9070], [1, 9068], [1, 9066], [1, 9065], [1, 9064], [1, 9063], [1, 9061], [1, 9059], [1, 9057], [1, 9054], [1, 9053], [1, 9051], [1, 9050], [1, 9047], [1, 9045], [1, 9044], [1, 9040], [1, 9038], [1, 9037], [1, 9036], [1, 9035], [1, 9034], [1, 9033], [1, 9032], [1, 9026], [1, 9025], [1, 9021], [1, 9020], [1, 9019], [1, 9018], [1, 9017], [1, 9016], [1, 9015], [1, 9014], [1, 9008], [1, 9007], [1, 9006], [1, 9005], [1, 9004], [1, 9003], [1, 9002], [1, 9001], [1, 9000], [1, 8999], [1, 8998], [1, 8997], [1, 8992], [1, 8991], [1, 8990], [1, 8988], [1, 8987], [1, 8986], [1, 8985], [1, 8984], [1, 8982], [1, 8981], [1, 8978], [1, 8977], [1, 8972], [1, 8968], [1, 8967], [1, 8966], [1, 8964], [1, 8962], [1, 8959], [1, 8956], [1, 8954], [1, 8953], [1, 8951], [1, 8948], [1, 8946], [1, 8943], [1, 8942], [1, 8941], [1, 8937], [1, 8935], [1, 8934], [1, 8931], [1, 8929], [1, 8928], [1, 8927], [1, 8926], [1, 8925], [1, 8923], [1, 8922], [1, 8921], [1, 8917], [1, 8916], [1, 8914], [1, 8910], [1, 8906], [1, 8905], [1, 8904], [1, 8903], [1, 8902], [1, 8901], [1, 8900], [1, 8898], [1, 8896], [1, 8895], [1, 8894], [1, 8893], [1, 8892], [1, 8889], [1, 8888], [1, 8886], [1, 8885], [1, 8883], [1, 8882], [1, 8879], [1, 8875], [1, 8874], [1, 8872], [1, 8871], [1, 8868], [1, 8866], [1, 8865], [1, 8863], [1, 8861], [1, 8859], [1, 8858], [1, 8855], [1, 8853], [1, 8851], [1, 8850], [1, 8848], [1, 8847], [1, 8846], [1, 8845], [1, 8844], [1, 8843], [1, 8841], [1, 8840], [1, 8839], [1, 8836], [1, 8834], [1, 8833], [1, 8830], [1, 8829], [1, 8825], [1, 8822], [1, 8821], [1, 8818], [1, 8816], [1, 8810], [1, 8807], [1, 8805], [1, 8804], [1, 8801], [1, 8800], [1, 8799], [1, 8798], [1, 8796], [1, 8795], [1, 8794], [1, 8792], [1, 8791], [1, 8786], [1, 8785], [1, 8784], [1, 8783], [1, 8781], [1, 8780], [1, 8778], [1, 8775], [1, 8774], [1, 8773], [1, 8772], [1, 8771], [1, 8764], [1, 8763], [1, 8762], [1, 8757], [1, 8754], [1, 8753], [1, 8752], [1, 8751], [1, 8748], [1, 8747], [1, 8745], [1, 8742], [1, 8737], [1, 8734], [1, 8733], [1, 8732], [1, 8731], [1, 8730], [1, 8729], [1, 8728], [1, 8727], [1, 8726], [1, 8724], [1, 8720], [1, 8719], [1, 8718], [1, 8717], [1, 8716], [1, 8715], [1, 8714], [1, 8710], [1, 8707], [1, 8705], [1, 8699], [1, 8698], [1, 8697], [1, 8696], [1, 8693], [1, 8692], [1, 8691], [1, 8690], [1, 8688], [1, 8687], [1, 8686], [1, 8684], [1, 8683], [1, 8681], [1, 8680], [1, 8678], [1, 8676], [1, 8674], [1, 8672], [1, 8670], [1, 8669], [1, 8668], [1, 8667], [1, 8664], [1, 8660], [1, 8658], [1, 8657], [1, 8655], [1, 8653], [1, 8652], [1, 8651], [1, 8650], [1, 8649], [1, 8648], [1, 8647], [1, 8644], [1, 8643], [1, 8642], [1, 8635], [1, 8633], [1, 8631], [1, 8630], [1, 8628], [1, 8627], [1, 8626], [1, 8625], [1, 8623], [1, 8620], [1, 8619], [1, 8613], [1, 8612], [1, 8611], [1, 8608], [1, 8607], [1, 8606], [1, 8605], [1, 8603], [1, 8600], [1, 8598], [1, 8597], [1, 8596], [1, 8594], [1, 8591], [1, 8590], [1, 8589], [1, 8588], [1, 8587], [1, 8586], [1, 8584], [1, 8582], [1, 8577], [1, 8576], [1, 8573], [1, 8567], [1, 8566], [1, 8565], [1, 8563], [1, 8562], [1, 8560], [1, 8559], [1, 8556], [1, 8554], [1, 8551], [1, 8550], [1, 8547], [1, 8545], [1, 8544], [1, 8541], [1, 8540], [1, 8537], [1, 8536], [1, 8535], [1, 8534], [1, 8533], [1, 8532], [1, 8530], [1, 8526], [1, 8525], [1, 8524], [1, 8522], [1, 8521], [1, 8518], [1, 8517], [1, 8512], [1, 8510], [1, 8506], [1, 8502], [1, 8501], [1, 8499], [1, 8498], [1, 8497], [1, 8496], [1, 8495], [1, 8491], [1, 8490], [1, 8489], [1, 8488], [1, 8486], [1, 8485], [1, 8484], [1, 8483], [1, 8480], [1, 8479], [1, 8478], [1, 8477], [1, 8475], [1, 8472], [1, 8471], [1, 8470], [1, 8468], [1, 8467], [1, 8461], [1, 8457], [1, 8455], [1, 8454], [1, 8453], [1, 8452], [1, 8449], [1, 8447], [1, 8445], [1, 8443], [1, 8441], [1, 8439], [1, 8437], [1, 8436], [1, 8433], [1, 8431], [1, 8430], [1, 8429], [1, 8427], [1, 8425], [1, 8421], [1, 8419], [1, 8418], [1, 8416], [1, 8414], [1, 8413], [1, 8412], [1, 8410], [1, 8409], [1, 8407], [1, 8406], [1, 8405], [1, 8404], [1, 8402], [1, 8400], [1, 8398], [1, 8396], [1, 8391], [1, 8389], [1, 8388], [1, 8386], [1, 8385], [1, 8382], [1, 8378], [1, 8377], [1, 8374], [1, 8373], [1, 8372], [1, 8370], [1, 8364], [1, 8363], [1, 8362], [1, 8361], [1, 8360], [1, 8359], [1, 8358], [1, 8357], [1, 8356], [1, 8355], [1, 8353], [1, 8352], [1, 8351], [1, 8350], [1, 8349], [1, 8346], [1, 8344], [1, 8343], [1, 8342], [1, 8341], [1, 8340], [1, 8339], [1, 8336], [1, 8335], [1, 8333], [1, 8331], [1, 8328], [1, 8327], [1, 8326], [1, 8324], [1, 8323], [1, 8322], [1, 8321], [1, 8320], [1, 8316], [1, 8315], [1, 8313], [1, 8307], [1, 8306], [1, 8303], [1, 8301], [1, 8300], [1, 8299], [1, 8296], [1, 8295], [1, 8293], [1, 8289], [1, 8288], [1, 8287], [1, 8285], [1, 8284], [1, 8283], [1, 8282], [1, 8276], [1, 8275], [1, 8274], [1, 8273], [1, 8271], [1, 8267], [1, 8266], [1, 8264], [1, 8263], [1, 8262], [1, 8257], [1, 8251], [1, 8249], [1, 8248], [1, 8247], [1, 8246], [1, 8245], [1, 8242], [1, 8241], [1, 8240], [1, 8238], [1, 8237], [1, 8234], [1, 8229], [1, 8226], [1, 8225], [1, 8224], [1, 8223], [1, 8222], [1, 8219], [1, 8218], [1, 8216], [1, 8215], [1, 8211], [1, 8209], [1, 8208], [1, 8207], [1, 8205], [1, 8203], [1, 8202], [1, 8200], [1, 8199], [1, 8198], [1, 8195], [1, 8189], [1, 8188], [1, 8187], [1, 8186], [1, 8185], [1, 8184], [1, 8183], [1, 8182], [1, 8181], [1, 8180], [1, 8179], [1, 8178], [1, 8177], [1, 8174], [1, 8172], [1, 8171], [1, 8168], [1, 8164], [1, 8163], [1, 8155], [1, 8153], [1, 8152], [1, 8150], [1, 8147], [1, 8146], [1, 8145], [1, 8144], [1, 8143], [1, 8141], [1, 8140], [1, 8139], [1, 8138], [1, 8136], [1, 8133], [1, 8132], [1, 8131], [1, 8129], [1, 8128], [1, 8127], [1, 8126], [1, 8125], [1, 8124], [1, 8122], [1, 8120], [1, 8117], [1, 8114], [1, 8113], [1, 8112], [1, 8110], [1, 8108], [1, 8106], [1, 8105], [1, 8103], [1, 8102], [1, 8100], [1, 8099], [1, 8098], [1, 8097], [1, 8096], [1, 8095], [1, 8093], [1, 8086], [1, 8085], [1, 8083], [1, 8080], [1, 8079], [1, 8078], [1, 8077], [1, 8076], [1, 8074], [1, 8073], [1, 8066], [1, 8061], [1, 8060], [1, 8059], [1, 8058], [1, 8057], [1, 8056], [1, 8055], [1, 8054], [1, 8053], [1, 8052], [1, 8042], [1, 8041], [1, 8040], [1, 8039], [1, 8036], [1, 8030], [1, 8028], [1, 8026], [1, 8024], [1, 8023], [1, 8021], [1, 8019], [1, 8015], [1, 8014], [1, 8013], [1, 8007], [1, 8005], [1, 8003], [1, 8002], [1, 8000], [1, 7998], [1, 7996], [1, 7994], [1, 7992], [1, 7990], [1, 7986], [1, 7984], [1, 7981], [1, 7978], [1, 7977], [1, 7975], [1, 7974], [1, 7972], [1, 7968], [1, 7965], [1, 7964], [1, 7963], [1, 7960], [1, 7959], [1, 7958], [1, 7957], [1, 7955], [1, 7954], [1, 7953], [1, 7950], [1, 7949], [1, 7948], [1, 7947], [1, 7945], [1, 7943], [1, 7938], [1, 7935], [1, 7934], [1, 7933], [1, 7932], [1, 7930], [1, 7929], [1, 7924], [1, 7922], [1, 7921], [1, 7918], [1, 7917], [1, 7916], [1, 7913], [1, 7909], [1, 7906], [1, 7903], [1, 7898], [1, 7894], [1, 7892], [1, 7891], [1, 7890], [1, 7889], [1, 7886], [1, 7884], [1, 7883], [1, 7881], [1, 7879], [1, 7875], [1, 7870], [1, 7869], [1, 7867], [1, 7866], [1, 7863], [1, 7862], [1, 7860], [1, 7857], [1, 7855], [1, 7853], [1, 7850], [1, 7846], [1, 7845], [1, 7843], [1, 7842], [1, 7840], [1, 7835], [1, 7832], [1, 7831], [1, 7830], [1, 7828], [1, 7825], [1, 7823], [1, 7817], [1, 7815], [1, 7814], [1, 7812], [1, 7811], [1, 7810], [1, 7809], [1, 7808], [1, 7804], [1, 7803], [1, 7801], [1, 7799], [1, 7797], [1, 7796], [1, 7795], [1, 7793], [1, 7791], [1, 7788], [1, 7785], [1, 7784], [1, 7782], [1, 7780], [1, 7779], [1, 7776], [1, 7769], [1, 7766], [1, 7763], [1, 7762], [1, 7761], [1, 7757], [1, 7756], [1, 7755], [1, 7754], [1, 7750], [1, 7749], [1, 7747], [1, 7746], [1, 7744], [1, 7743], [1, 7741], [1, 7738], [1, 7737], [1, 7736], [1, 7735], [1, 7733], [1, 7731], [1, 7729], [1, 7728], [1, 7726], [1, 7725], [1, 7723], [1, 7722], [1, 7721], [1, 7718], [1, 7717], [1, 7715], [1, 7714], [1, 7713], [1, 7709], [1, 7708], [1, 7706], [1, 7703], [1, 7698], [1, 7695], [1, 7689], [1, 7687], [1, 7681], [1, 7680], [1, 7677], [1, 7676], [1, 7675], [1, 7669], [1, 7668], [1, 7667], [1, 7665], [1, 7662], [1, 7660], [1, 7657], [1, 7652], [1, 7651], [1, 7650], [1, 7648], [1, 7647], [1, 7646], [1, 7643], [1, 7636], [1, 7632], [1, 7631], [1, 7630], [1, 7628], [1, 7627], [1, 7626], [1, 7623], [1, 7619], [1, 7616], [1, 7614], [1, 7612], [1, 7611], [1, 7609], [1, 7607], [1, 7604], [1, 7597], [1, 7595], [1, 7594], [1, 7591], [1, 7584], [1, 7583], [1, 7581], [1, 7580], [1, 7579], [1, 7578], [1, 7577], [1, 7576], [1, 7575], [1, 7574], [1, 7573], [1, 7571], [1, 7570], [1, 7568], [1, 7564], [1, 7562], [1, 7561], [1, 7557], [1, 7554], [1, 7553], [1, 7552], [1, 7551], [1, 7547], [1, 7546], [1, 7543], [1, 7542], [1, 7540], [1, 7534], [1, 7531], [1, 7528], [1, 7527], [1, 7526], [1, 7525], [1, 7524], [1, 7523], [1, 7522], [1, 7521], [1, 7520], [1, 7514], [1, 7509], [1, 7507], [1, 7504], [1, 7502], [1, 7500], [1, 7499], [1, 7496], [1, 7495], [1, 7494], [1, 7492], [1, 7488], [1, 7487], [1, 7486], [1, 7484], [1, 7483], [1, 7482], [1, 7481], [1, 7479], [1, 7478], [1, 7476], [1, 7473], [1, 7471], [1, 7469], [1, 7468], [1, 7466], [1, 7465], [1, 7463], [1, 7462], [1, 7461], [1, 7460], [1, 7458], [1, 7453], [1, 7452], [1, 7447], [1, 7446], [1, 7444], [1, 7439], [1, 7435], [1, 7434], [1, 7433], [1, 7432], [1, 7429], [1, 7428], [1, 7427], [1, 7426], [1, 7423], [1, 7422], [1, 7421], [1, 7418], [1, 7417], [1, 7415], [1, 7414], [1, 7413], [1, 7412], [1, 7410], [1, 7408], [1, 7404], [1, 7402], [1, 7400], [1, 7393], [1, 7392], [1, 7391], [1, 7388], [1, 7387], [1, 7383], [1, 7382], [1, 7381], [1, 7377], [1, 7376], [1, 7373], [1, 7371], [1, 7370], [1, 7369], [1, 7368], [1, 7366], [1, 7365], [1, 7364], [1, 7363], [1, 7361], [1, 7359], [1, 7356], [1, 7355], [1, 7353], [1, 7352], [1, 7348], [1, 7347], [1, 7346], [1, 7345], [1, 7344], [1, 7341], [1, 7338], [1, 7337], [1, 7335], [1, 7333], [1, 7329], [1, 7328], [1, 7326], [1, 7325], [1, 7324], [1, 7320], [1, 7319], [1, 7318], [1, 7316], [1, 7315], [1, 7314], [1, 7313], [1, 7311], [1, 7309], [1, 7308], [1, 7305], [1, 7304], [1, 7302], [1, 7300], [1, 7299], [1, 7298], [1, 7295], [1, 7294], [1, 7293], [1, 7291], [1, 7290], [1, 7289], [1, 7287], [1, 7286], [1, 7284], [1, 7282], [1, 7281], [1, 7279], [1, 7278], [1, 7277], [1, 7276], [1, 7274], [1, 7273], [1, 7272], [1, 7268], [1, 7266], [1, 7264], [1, 7263], [1, 7262], [1, 7260], [1, 7259], [1, 7256], [1, 7255], [1, 7254], [1, 7253], [1, 7252], [1, 7251], [1, 7249], [1, 7246], [1, 7244], [1, 7241], [1, 7240], [1, 7239], [1, 7238], [1, 7237], [1, 7236], [1, 7235], [1, 7233], [1, 7230], [1, 7228], [1, 7225], [1, 7223], [1, 7222], [1, 7213], [1, 7206], [1, 7204], [1, 7200], [1, 7197], [1, 7191], [1, 7190], [1, 7187], [1, 7186], [1, 7185], [1, 7184], [1, 7183], [1, 7182], [1, 7181], [1, 7180], [1, 7179], [1, 7178], [1, 7177], [1, 7176], [1, 7174], [1, 7171], [1, 7169], [1, 7168], [1, 7167], [1, 7166], [1, 7164], [1, 7162], [1, 7161], [1, 7157], [1, 7155], [1, 7154], [1, 7152], [1, 7151], [1, 7150], [1, 7149], [1, 7148], [1, 7147], [1, 7145], [1, 7143], [1, 7142], [1, 7140], [1, 7139], [1, 7138], [1, 7137], [1, 7135], [1, 7134], [1, 7133], [1, 7132], [1, 7130], [1, 7129], [1, 7127], [1, 7126], [1, 7125], [1, 7124], [1, 7122], [1, 7121], [1, 7119], [1, 7117], [1, 7116], [1, 7115], [1, 7113], [1, 7112], [1, 7110], [1, 7109], [1, 7106], [1, 7105], [1, 7103], [1, 7099], [1, 7098], [1, 7095], [1, 7094], [1, 7092], [1, 7091], [1, 7089], [1, 7088], [1, 7086], [1, 7084], [1, 7083], [1, 7082], [1, 7081], [1, 7079], [1, 7077], [1, 7076], [1, 7075], [1, 7073], [1, 7070], [1, 7069], [1, 7068], [1, 7067], [1, 7062], [1, 7061], [1, 7060], [1, 7059], [1, 7058], [1, 7057], [1, 7056], [1, 7052], [1, 7051], [1, 7047], [1, 7046], [1, 7045], [1, 7043], [1, 7036], [1, 7033], [1, 7032], [1, 7031], [1, 7028], [1, 7024], [1, 7022], [1, 7021], [1, 7017], [1, 7016], [1, 7013], [1, 7011], [1, 7010], [1, 7005], [1, 7003], [1, 7002], [1, 7001], [1, 7000], [1, 6999], [1, 6997], [1, 6995], [1, 6991], [1, 6990], [1, 6989], [1, 6984], [1, 6980], [1, 6979], [1, 6975], [1, 6974], [1, 6973], [1, 6972], [1, 6970], [1, 6968], [1, 6967], [1, 6961], [1, 6960], [1, 6958], [1, 6957], [1, 6955], [1, 6953], [1, 6951], [1, 6949], [1, 6948], [1, 6947], [1, 6945], [1, 6942], [1, 6941], [1, 6940], [1, 6939], [1, 6936], [1, 6935], [1, 6933], [1, 6932], [1, 6931], [1, 6929], [1, 6928], [1, 6927], [1, 6926], [1, 6921], [1, 6919], [1, 6918], [1, 6917], [1, 6911], [1, 6910], [1, 6908], [1, 6907], [1, 6906], [1, 6904], [1, 6903], [1, 6902], [1, 6901], [1, 6899], [1, 6898], [1, 6892], [1, 6890], [1, 6888], [1, 6885], [1, 6884], [1, 6882], [1, 6880], [1, 6878], [1, 6875], [1, 6874], [1, 6872], [1, 6869], [1, 6868], [1, 6861], [1, 6860], [1, 6859], [1, 6858], [1, 6853], [1, 6852], [1, 6850], [1, 6849], [1, 6848], [1, 6847], [1, 6846], [1, 6843], [1, 6842], [1, 6841], [1, 6840], [1, 6838], [1, 6833], [1, 6831], [1, 6828], [1, 6825], [1, 6822], [1, 6821], [1, 6817], [1, 6816], [1, 6814], [1, 6812], [1, 6809], [1, 6806], [1, 6805], [1, 6804], [1, 6802], [1, 6801], [1, 6799], [1, 6797], [1, 6796], [1, 6795], [1, 6794], [1, 6793], [1, 6789], [1, 6788], [1, 6785], [1, 6784], [1, 6781], [1, 6779], [1, 6773], [1, 6770], [1, 6769], [1, 6768], [1, 6764], [1, 6763], [1, 6762], [1, 6758], [1, 6755], [1, 6754], [1, 6753], [1, 6750], [1, 6749], [1, 6748], [1, 6747], [1, 6745], [1, 6743], [1, 6739], [1, 6737], [1, 6730], [1, 6728], [1, 6727], [1, 6726], [1, 6725], [1, 6724], [1, 6723], [1, 6722], [1, 6721], [1, 6719], [1, 6718], [1, 6715], [1, 6714], [1, 6710], [1, 6709], [1, 6708], [1, 6707], [1, 6706], [1, 6703], [1, 6702], [1, 6695], [1, 6694], [1, 6693], [1, 6692], [1, 6690], [1, 6687], [1, 6685], [1, 6684], [1, 6683], [1, 6682], [1, 6681], [1, 6680], [1, 6679], [1, 6677], [1, 6675], [1, 6674], [1, 6672], [1, 6671], [1, 6666], [1, 6659], [1, 6658], [1, 6657], [1, 6652], [1, 6651], [1, 6650], [1, 6649], [1, 6648], [1, 6647], [1, 6645], [1, 6641], [1, 6636], [1, 6634], [1, 6632], [1, 6630], [1, 6629], [1, 6628], [1, 6626], [1, 6625], [1, 6621], [1, 6620], [1, 6619], [1, 6618], [1, 6616], [1, 6612], [1, 6611], [1, 6610], [1, 6607], [1, 6606], [1, 6602], [1, 6601], [1, 6598], [1, 6596], [1, 6595], [1, 6594], [1, 6592], [1, 6591], [1, 6588], [1, 6587], [1, 6585], [1, 6582], [1, 6577], [1, 6576], [1, 6574], [1, 6572], [1, 6570], [1, 6567], [1, 6565], [1, 6564], [1, 6563], [1, 6562], [1, 6560], [1, 6559], [1, 6558], [1, 6557], [1, 6551], [1, 6550], [1, 6549], [1, 6546], [1, 6545], [1, 6542], [1, 6538], [1, 6535], [1, 6534], [1, 6531], [1, 6530], [1, 6528], [1, 6526], [1, 6524], [1, 6521], [1, 6520], [1, 6519], [1, 6518], [1, 6514], [1, 6513], [1, 6509], [1, 6508], [1, 6507], [1, 6505], [1, 6503], [1, 6502], [1, 6501], [1, 6499], [1, 6497], [1, 6496], [1, 6494], [1, 6491], [1, 6490], [1, 6488], [1, 6487], [1, 6486], [1, 6485], [1, 6483], [1, 6479], [1, 6478], [1, 6477], [1, 6476], [1, 6475], [1, 6474], [1, 6473], [1, 6472], [1, 6469], [1, 6468], [1, 6466], [1, 6465], [1, 6460], [1, 6459], [1, 6457], [1, 6455], [1, 6454], [1, 6453], [1, 6452], [1, 6451], [1, 6449], [1, 6448], [1, 6446], [1, 6445], [1, 6443], [1, 6441], [1, 6439], [1, 6435], [1, 6434], [1, 6433], [1, 6432], [1, 6430], [1, 6428], [1, 6426], [1, 6424], [1, 6421], [1, 6420], [1, 6417], [1, 6413], [1, 6412], [1, 6411], [1, 6409], [1, 6408], [1, 6407], [1, 6404], [1, 6403], [1, 6399], [1, 6398], [1, 6395], [1, 6391], [1, 6390], [1, 6389], [1, 6387], [1, 6386], [1, 6385], [1, 6383], [1, 6382], [1, 6381], [1, 6379], [1, 6377], [1, 6375], [1, 6369], [1, 6364], [1, 6363], [1, 6361], [1, 6360], [1, 6359], [1, 6358], [1, 6356], [1, 6354], [1, 6353], [1, 6352], [1, 6351], [1, 6348], [1, 6347], [1, 6346], [1, 6345], [1, 6344], [1, 6343], [1, 6341], [1, 6340], [1, 6339], [1, 6338], [1, 6337], [1, 6336], [1, 6331], [1, 6328], [1, 6326], [1, 6325], [1, 6323], [1, 6320], [1, 6319], [1, 6318], [1, 6317], [1, 6315], [1, 6314], [1, 6313], [1, 6310], [1, 6307], [1, 6306], [1, 6303], [1, 6301], [1, 6300], [1, 6299], [1, 6298], [1, 6294], [1, 6292], [1, 6289], [1, 6288], [1, 6287], [1, 6286], [1, 6283], [1, 6278], [1, 6276], [1, 6273], [1, 6271], [1, 6268], [1, 6267], [1, 6263], [1, 6262], [1, 6260], [1, 6257], [1, 6256], [1, 6255], [1, 6254], [1, 6253], [1, 6252], [1, 6251], [1, 6249], [1, 6248], [1, 6247], [1, 6244], [1, 6243], [1, 6241], [1, 6237], [1, 6235], [1, 6234], [1, 6233], [1, 6231], [1, 6230], [1, 6227], [1, 6226], [1, 6224], [1, 6222], [1, 6220], [1, 6219], [1, 6218], [1, 6216], [1, 6215], [1, 6212], [1, 6209], [1, 6208], [1, 6207], [1, 6206], [1, 6203], [1, 6202], [1, 6199], [1, 6197], [1, 6196], [1, 6194], [1, 6193], [1, 6192], [1, 6191], [1, 6190], [1, 6189], [1, 6186], [1, 6183], [1, 6178], [1, 6177], [1, 6175], [1, 6174], [1, 6173], [1, 6172], [1, 6168], [1, 6167], [1, 6165], [1, 6159], [1, 6158], [1, 6157], [1, 6156], [1, 6154], [1, 6153], [1, 6151], [1, 6150], [1, 6147], [1, 6144], [1, 6142], [1, 6139], [1, 6138], [1, 6137], [1, 6132], [1, 6130], [1, 6129], [1, 6128], [1, 6127], [1, 6125], [1, 6123], [1, 6122], [1, 6121], [1, 6120], [1, 6119], [1, 6118], [1, 6113], [1, 6110], [1, 6109], [1, 6106], [1, 6105], [1, 6101], [1, 6098], [1, 6097], [1, 6095], [1, 6094], [1, 6093], [1, 6092], [1, 6091], [1, 6089], [1, 6087], [1, 6084], [1, 6078], [1, 6076], [1, 6075], [1, 6072], [1, 6069], [1, 6068], [1, 6067], [1, 6066], [1, 6062], [1, 6060], [1, 6056], [1, 6055], [1, 6053], [1, 6052], [1, 6048], [1, 6046], [1, 6043], [1, 6041], [1, 6039], [1, 6036], [1, 6035], [1, 6034], [1, 6032], [1, 6028], [1, 6025], [1, 6022], [1, 6021], [1, 6020], [1, 6019], [1, 6018], [1, 6017], [1, 6015], [1, 6010], [1, 6008], [1, 6004], [1, 6001], [1, 5999], [1, 5997], [1, 5995], [1, 5994], [1, 5992], [1, 5989], [1, 5988], [1, 5987], [1, 5985], [1, 5981], [1, 5980], [1, 5976], [1, 5974], [1, 5973], [1, 5972], [1, 5969], [1, 5968], [1, 5964], [1, 5963], [1, 5959], [1, 5958], [1, 5956], [1, 5955], [1, 5954], [1, 5952], [1, 5949], [1, 5948], [1, 5940], [1, 5938], [1, 5937], [1, 5936], [1, 5935], [1, 5932], [1, 5929], [1, 5928], [1, 5926], [1, 5924], [1, 5923], [1, 5922], [1, 5921], [1, 5914], [1, 5913], [1, 5912], [1, 5910], [1, 5907], [1, 5904], [1, 5903], [1, 5902], [1, 5899], [1, 5896], [1, 5895], [1, 5893], [1, 5891], [1, 5890], [1, 5888], [1, 5883], [1, 5881], [1, 5880], [1, 5879], [1, 5878], [1, 5877], [1, 5875], [1, 5872], [1, 5871], [1, 5869], [1, 5867], [1, 5865], [1, 5864], [1, 5862], [1, 5860], [1, 5858], [1, 5857], [1, 5855], [1, 5854], [1, 5852], [1, 5851], [1, 5849], [1, 5846], [1, 5845], [1, 5843], [1, 5838], [1, 5836], [1, 5835], [1, 5833], [1, 5831], [1, 5824], [1, 5822], [1, 5821], [1, 5820], [1, 5819], [1, 5818], [1, 5817], [1, 5816], [1, 5815], [1, 5814], [1, 5812], [1, 5811], [1, 5810], [1, 5809], [1, 5807], [1, 5804], [1, 5802], [1, 5801], [1, 5799], [1, 5797], [1, 5796], [1, 5794], [1, 5793], [1, 5792], [1, 5790], [1, 5788], [1, 5787], [1, 5786], [1, 5784], [1, 5783], [1, 5782], [1, 5781], [1, 5780], [1, 5778], [1, 5776], [1, 5775], [1, 5774], [1, 5773], [1, 5772], [1, 5769], [1, 5768], [1, 5767], [1, 5766], [1, 5764], [1, 5762], [1, 5757], [1, 5755], [1, 5754], [1, 5753], [1, 5752], [1, 5748], [1, 5745], [1, 5736], [1, 5735], [1, 5734], [1, 5732], [1, 5729], [1, 5727], [1, 5724], [1, 5712], [1, 5710], [1, 5709], [1, 5707], [1, 5703], [1, 5702], [1, 5701], [1, 5700], [1, 5699], [1, 5697], [1, 5696], [1, 5694], [1, 5692], [1, 5691], [1, 5690], [1, 5689], [1, 5687], [1, 5684], [1, 5683], [1, 5680], [1, 5679], [1, 5676], [1, 5675], [1, 5674], [1, 5673], [1, 5672], [1, 5671], [1, 5669], [1, 5668], [1, 5665], [1, 5664], [1, 5660], [1, 5659], [1, 5658], [1, 5657], [1, 5654], [1, 5653], [1, 5649], [1, 5647], [1, 5646], [1, 5644], [1, 5640], [1, 5639], [1, 5637], [1, 5636], [1, 5634], [1, 5633], [1, 5632], [1, 5631], [1, 5629], [1, 5628], [1, 5627], [1, 5624], [1, 5621], [1, 5619], [1, 5617], [1, 5616], [1, 5615], [1, 5614], [1, 5613], [1, 5608], [1, 5606], [1, 5596], [1, 5595], [1, 5594], [1, 5593], [1, 5592], [1, 5591], [1, 5590], [1, 5588], [1, 5587], [1, 5585], [1, 5584], [1, 5581], [1, 5580], [1, 5578], [1, 5576], [1, 5574], [1, 5573], [1, 5572], [1, 5570], [1, 5569], [1, 5566], [1, 5564], [1, 5563], [1, 5561], [1, 5558], [1, 5556], [1, 5554], [1, 5550], [1, 5548], [1, 5546], [1, 5545], [1, 5544], [1, 5543], [1, 5541], [1, 5540], [1, 5538], [1, 5537], [1, 5536], [1, 5535], [1, 5534], [1, 5533], [1, 5529], [1, 5526], [1, 5522], [1, 5519], [1, 5517], [1, 5513], [1, 5511], [1, 5510], [1, 5506], [1, 5505], [1, 5503], [1, 5502], [1, 5501], [1, 5500], [1, 5498], [1, 5497], [1, 5496], [1, 5493], [1, 5490], [1, 5488], [1, 5487], [1, 5486], [1, 5485], [1, 5484], [1, 5482], [1, 5480], [1, 5478], [1, 5477], [1, 5476], [1, 5475], [1, 5474], [1, 5473], [1, 5472], [1, 5471], [1, 5470], [1, 5469], [1, 5468], [1, 5466], [1, 5465], [1, 5464], [1, 5462], [1, 5461], [1, 5460], [1, 5459], [1, 5457], [1, 5455], [1, 5453], [1, 5452], [1, 5451], [1, 5450], [1, 5449], [1, 5447], [1, 5446], [1, 5443], [1, 5442], [1, 5440], [1, 5438], [1, 5435], [1, 5433], [1, 5430], [1, 5429], [1, 5427], [1, 5425], [1, 5423], [1, 5419], [1, 5414], [1, 5413], [1, 5410], [1, 5409], [1, 5406], [1, 5405], [1, 5404], [1, 5403], [1, 5402], [1, 5401], [1, 5400], [1, 5398], [1, 5396], [1, 5395], [1, 5394], [1, 5390], [1, 5389], [1, 5387], [1, 5384], [1, 5383], [1, 5382], [1, 5380], [1, 5379], [1, 5377], [1, 5374], [1, 5373], [1, 5372], [1, 5370], [1, 5366], [1, 5361], [1, 5357], [1, 5356], [1, 5354], [1, 5352], [1, 5349], [1, 5348], [1, 5347], [1, 5346], [1, 5345], [1, 5340], [1, 5338], [1, 5337], [1, 5335], [1, 5333], [1, 5332], [1, 5331], [1, 5327], [1, 5325], [1, 5323], [1, 5322], [1, 5320], [1, 5319], [1, 5318], [1, 5315], [1, 5314], [1, 5310], [1, 5306], [1, 5303], [1, 5302], [1, 5298], [1, 5295], [1, 5293], [1, 5290], [1, 5289], [1, 5288], [1, 5287], [1, 5286], [1, 5285], [1, 5284], [1, 5283], [1, 5282], [1, 5278], [1, 5277], [1, 5276], [1, 5275], [1, 5269], [1, 5268], [1, 5265], [1, 5264], [1, 5263], [1, 5262], [1, 5260], [1, 5258], [1, 5257], [1, 5253], [1, 5251], [1, 5250], [1, 5249], [1, 5247], [1, 5245], [1, 5244], [1, 5242], [1, 5239], [1, 5238], [1, 5237], [1, 5236], [1, 5234], [1, 5231], [1, 5228], [1, 5226], [1, 5224], [1, 5223], [1, 5219], [1, 5218], [1, 5216], [1, 5213], [1, 5208], [1, 5207], [1, 5203], [1, 5202], [1, 5201], [1, 5198], [1, 5197], [1, 5194], [1, 5193], [1, 5192], [1, 5191], [1, 5189], [1, 5186], [1, 5185], [1, 5184], [1, 5182], [1, 5179], [1, 5177], [1, 5175], [1, 5169], [1, 5164], [1, 5158], [1, 5155], [1, 5150], [1, 5148], [1, 5147], [1, 5144], [1, 5143], [1, 5140], [1, 5138], [1, 5136], [1, 5135], [1, 5134], [1, 5133], [1, 5131], [1, 5126], [1, 5125], [1, 5123], [1, 5122], [1, 5121], [1, 5119], [1, 5118], [1, 5116], [1, 5114], [1, 5113], [1, 5108], [1, 5107], [1, 5106], [1, 5105], [1, 5104], [1, 5099], [1, 5097], [1, 5095], [1, 5093], [1, 5092], [1, 5088], [1, 5087], [1, 5085], [1, 5082], [1, 5081], [1, 5079], [1, 5077], [1, 5076], [1, 5072], [1, 5068], [1, 5066], [1, 5065], [1, 5064], [1, 5061], [1, 5060], [1, 5059], [1, 5058], [1, 5056], [1, 5055], [1, 5054], [1, 5053], [1, 5049], [1, 5047], [1, 5045], [1, 5044], [1, 5041], [1, 5040], [1, 5039], [1, 5038], [1, 5036], [1, 5034], [1, 5033], [1, 5032], [1, 5030], [1, 5028], [1, 5026], [1, 5025], [1, 5024], [1, 5023], [1, 5022], [1, 5021], [1, 5020], [1, 5019], [1, 5018], [1, 5017], [1, 5016], [1, 5011], [1, 5010], [1, 5009], [1, 5007], [1, 5006], [1, 5005], [1, 5004], [1, 5003], [1, 5002], [1, 5000], [1, 4999], [1, 4998], [1, 4997], [1, 4996], [1, 4991], [1, 4988], [1, 4984], [1, 4982], [1, 4981], [1, 4980], [1, 4979], [1, 4976], [1, 4975], [1, 4973], [1, 4972], [1, 4970], [1, 4968], [1, 4967], [1, 4959], [1, 4957], [1, 4956], [1, 4955], [1, 4948], [1, 4947], [1, 4946], [1, 4944], [1, 4942], [1, 4941], [1, 4937], [1, 4933], [1, 4931], [1, 4930], [1, 4927], [1, 4925], [1, 4923], [1, 4920], [1, 4919], [1, 4917], [1, 4916], [1, 4914], [1, 4913], [1, 4911], [1, 4906], [1, 4904], [1, 4900], [1, 4899], [1, 4897], [1, 4895], [1, 4894], [1, 4891], [1, 4889], [1, 4888], [1, 4885], [1, 4883], [1, 4882], [1, 4880], [1, 4873], [1, 4872], [1, 4867], [1, 4864], [1, 4863], [1, 4862], [1, 4860], [1, 4859], [1, 4858], [1, 4857], [1, 4856], [1, 4855], [1, 4853], [1, 4852], [1, 4847], [1, 4845], [1, 4842], [1, 4841], [1, 4836], [1, 4834], [1, 4830], [1, 4825], [1, 4823], [1, 4821], [1, 4817], [1, 4816], [1, 4814], [1, 4811], [1, 4809], [1, 4804], [1, 4801], [1, 4800], [1, 4798], [1, 4796], [1, 4795], [1, 4791], [1, 4789], [1, 4788], [1, 4787], [1, 4786], [1, 4783], [1, 4779], [1, 4777], [1, 4776], [1, 4775], [1, 4773], [1, 4769], [1, 4768], [1, 4767], [1, 4765], [1, 4764], [1, 4761], [1, 4759], [1, 4757], [1, 4756], [1, 4755], [1, 4754], [1, 4751], [1, 4750], [1, 4748], [1, 4747], [1, 4743], [1, 4741], [1, 4740], [1, 4739], [1, 4737], [1, 4736], [1, 4735], [1, 4734], [1, 4733], [1, 4732], [1, 4728], [1, 4727], [1, 4725], [1, 4724], [1, 4722], [1, 4721], [1, 4719], [1, 4718], [1, 4717], [1, 4716], [1, 4710], [1, 4708], [1, 4706], [1, 4705], [1, 4704], [1, 4700], [1, 4699], [1, 4698], [1, 4697], [1, 4696], [1, 4695], [1, 4694], [1, 4693], [1, 4689], [1, 4686], [1, 4682], [1, 4681], [1, 4678], [1, 4677], [1, 4676], [1, 4675], [1, 4674], [1, 4672], [1, 4670], [1, 4669], [1, 4668], [1, 4667], [1, 4665], [1, 4664], [1, 4662], [1, 4660], [1, 4659], [1, 4658], [1, 4656], [1, 4654], [1, 4653], [1, 4651], [1, 4650], [1, 4649], [1, 4646], [1, 4644], [1, 4643], [1, 4641], [1, 4640], [1, 4639], [1, 4638], [1, 4637], [1, 4636], [1, 4634], [1, 4630], [1, 4627], [1, 4624], [1, 4623], [1, 4620], [1, 4615], [1, 4614], [1, 4613], [1, 4604], [1, 4603], [1, 4602], [1, 4599], [1, 4598], [1, 4596], [1, 4595], [1, 4594], [1, 4593], [1, 4592], [1, 4588], [1, 4585], [1, 4579], [1, 4578], [1, 4573], [1, 4570], [1, 4567], [1, 4566], [1, 4559], [1, 4556], [1, 4554], [1, 4552], [1, 4550], [1, 4549], [1, 4546], [1, 4544], [1, 4543], [1, 4542], [1, 4541], [1, 4537], [1, 4536], [1, 4534], [1, 4533], [1, 4532], [1, 4531], [1, 4526], [1, 4525], [1, 4524], [1, 4523], [1, 4521], [1, 4518], [1, 4516], [1, 4515], [1, 4514], [1, 4512], [1, 4510], [1, 4508], [1, 4507], [1, 4505], [1, 4503], [1, 4501], [1, 4491], [1, 4487], [1, 4486], [1, 4484], [1, 4483], [1, 4480], [1, 4478], [1, 4476], [1, 4473], [1, 4471], [1, 4470], [1, 4469], [1, 4466], [1, 4464], [1, 4459], [1, 4457], [1, 4456], [1, 4455], [1, 4452], [1, 4451], [1, 4450], [1, 4448], [1, 4447], [1, 4443], [1, 4442], [1, 4441], [1, 4440], [1, 4437], [1, 4436], [1, 4434], [1, 4432], [1, 4431], [1, 4429], [1, 4427], [1, 4426], [1, 4424], [1, 4423], [1, 4422], [1, 4420], [1, 4417], [1, 4413], [1, 4412], [1, 4411], [1, 4407], [1, 4405], [1, 4401], [1, 4399], [1, 4397], [1, 4394], [1, 4393], [1, 4392], [1, 4391], [1, 4385], [1, 4383], [1, 4382], [1, 4380], [1, 4377], [1, 4373], [1, 4370], [1, 4369], [1, 4368], [1, 4367], [1, 4366], [1, 4365], [1, 4364], [1, 4362], [1, 4361], [1, 4360], [1, 4358], [1, 4357], [1, 4356], [1, 4351], [1, 4347], [1, 4346], [1, 4345], [1, 4344], [1, 4343], [1, 4342], [1, 4338], [1, 4337], [1, 4336], [1, 4334], [1, 4329], [1, 4326], [1, 4324], [1, 4323], [1, 4322], [1, 4316], [1, 4313], [1, 4312], [1, 4309], [1, 4308], [1, 4306], [1, 4304], [1, 4303], [1, 4301], [1, 4300], [1, 4298], [1, 4294], [1, 4293], [1, 4292], [1, 4291], [1, 4289], [1, 4288], [1, 4286], [1, 4285], [1, 4284], [1, 4283], [1, 4281], [1, 4277], [1, 4276], [1, 4275], [1, 4274], [1, 4273], [1, 4271], [1, 4267], [1, 4265], [1, 4264], [1, 4262], [1, 4261], [1, 4259], [1, 4257], [1, 4254], [1, 4251], [1, 4247], [1, 4246], [1, 4245], [1, 4242], [1, 4241], [1, 4240], [1, 4239], [1, 4237], [1, 4236], [1, 4235], [1, 4231], [1, 4230], [1, 4228], [1, 4226], [1, 4222], [1, 4220], [1, 4219], [1, 4215], [1, 4214], [1, 4213], [1, 4212], [1, 4205], [1, 4204], [1, 4201], [1, 4198], [1, 4197], [1, 4193], [1, 4192], [1, 4191], [1, 4190], [1, 4189], [1, 4185], [1, 4183], [1, 4180], [1, 4179], [1, 4178], [1, 4177], [1, 4175], [1, 4173], [1, 4172], [1, 4170], [1, 4169], [1, 4164], [1, 4163], [1, 4162], [1, 4160], [1, 4157], [1, 4154], [1, 4150], [1, 4149], [1, 4148], [1, 4147], [1, 4144], [1, 4142], [1, 4138], [1, 4137], [1, 4136], [1, 4131], [1, 4130], [1, 4129], [1, 4126], [1, 4125], [1, 4123], [1, 4122], [1, 4121], [1, 4119], [1, 4118], [1, 4115], [1, 4114], [1, 4113], [1, 4112], [1, 4110], [1, 4109], [1, 4104], [1, 4103], [1, 4097], [1, 4096], [1, 4095], [1, 4088], [1, 4087], [1, 4083], [1, 4081], [1, 4080], [1, 4079], [1, 4078], [1, 4076], [1, 4075], [1, 4073], [1, 4072], [1, 4070], [1, 4066], [1, 4061], [1, 4060], [1, 4059], [1, 4056], [1, 4053], [1, 4051], [1, 4050], [1, 4049], [1, 4046], [1, 4044], [1, 4042], [1, 4040], [1, 4039], [1, 4037], [1, 4035], [1, 4034], [1, 4033], [1, 4032], [1, 4028], [1, 4024], [1, 4023], [1, 4021], [1, 4020], [1, 4016], [1, 4015], [1, 4014], [1, 4012], [1, 4011], [1, 4010], [1, 4006], [1, 4004], [1, 4002], [1, 4001], [1, 3999], [1, 3998], [1, 3993], [1, 3992], [1, 3990], [1, 3989], [1, 3986], [1, 3985], [1, 3984], [1, 3983], [1, 3982], [1, 3981], [1, 3979], [1, 3978], [1, 3977], [1, 3976], [1, 3975], [1, 3972], [1, 3968], [1, 3967], [1, 3966], [1, 3964], [1, 3962], [1, 3961], [1, 3958], [1, 3954], [1, 3953], [1, 3950], [1, 3949], [1, 3945], [1, 3944], [1, 3943], [1, 3941], [1, 3940], [1, 3938], [1, 3935], [1, 3934], [1, 3933], [1, 3932], [1, 3930], [1, 3929], [1, 3928], [1, 3926], [1, 3925], [1, 3923], [1, 3922], [1, 3920], [1, 3918], [1, 3911], [1, 3909], [1, 3908], [1, 3904], [1, 3902], [1, 3901], [1, 3899], [1, 3897], [1, 3896], [1, 3895], [1, 3893], [1, 3890], [1, 3888], [1, 3886], [1, 3885], [1, 3884], [1, 3883], [1, 3876], [1, 3875], [1, 3874], [1, 3873], [1, 3872], [1, 3871], [1, 3868], [1, 3865], [1, 3864], [1, 3861], [1, 3860], [1, 3858], [1, 3857], [1, 3855], [1, 3854], [1, 3849], [1, 3848], [1, 3846], [1, 3845], [1, 3841], [1, 3840], [1, 3839], [1, 3838], [1, 3836], [1, 3835], [1, 3834], [1, 3833], [1, 3831], [1, 3828], [1, 3826], [1, 3823], [1, 3822], [1, 3821], [1, 3820], [1, 3818], [1, 3815], [1, 3810], [1, 3809], [1, 3807], [1, 3806], [1, 3803], [1, 3801], [1, 3799], [1, 3797], [1, 3796], [1, 3795], [1, 3794], [1, 3790], [1, 3789], [1, 3788], [1, 3787], [1, 3786], [1, 3785], [1, 3784], [1, 3783], [1, 3782], [1, 3781], [1, 3780], [1, 3779], [1, 3778], [1, 3777], [1, 3776], [1, 3775], [1, 3773], [1, 3771], [1, 3770], [1, 3767], [1, 3766], [1, 3764], [1, 3763], [1, 3760], [1, 3754], [1, 3753], [1, 3751], [1, 3750], [1, 3748], [1, 3747], [1, 3746], [1, 3744], [1, 3742], [1, 3741], [1, 3740], [1, 3738], [1, 3737], [1, 3736], [1, 3735], [1, 3734], [1, 3733], [1, 3732], [1, 3731], [1, 3730], [1, 3729], [1, 3728], [1, 3726], [1, 3725], [1, 3723], [1, 3722], [1, 3721], [1, 3719], [1, 3716], [1, 3715], [1, 3714], [1, 3712], [1, 3711], [1, 3710], [1, 3709], [1, 3708], [1, 3707], [1, 3706], [1, 3703], [1, 3701], [1, 3700], [1, 3696], [1, 3693], [1, 3692], [1, 3691], [1, 3690], [1, 3689], [1, 3688], [1, 3687], [1, 3686], [1, 3684], [1, 3683], [1, 3681], [1, 3679], [1, 3672], [1, 3670], [1, 3669], [1, 3668], [1, 3667], [1, 3664], [1, 3663], [1, 3662], [1, 3661], [1, 3660], [1, 3659], [1, 3658], [1, 3657], [1, 3656], [1, 3653], [1, 3651], [1, 3650], [1, 3648], [1, 3647], [1, 3646], [1, 3637], [1, 3636], [1, 3635], [1, 3633], [1, 3632], [1, 3631], [1, 3630], [1, 3629], [1, 3628], [1, 3625], [1, 3624], [1, 3622], [1, 3618], [1, 3615], [1, 3613], [1, 3608], [1, 3604], [1, 3602], [1, 3596], [1, 3595], [1, 3594], [1, 3588], [1, 3587], [1, 3585], [1, 3584], [1, 3583], [1, 3582], [1, 3580], [1, 3579], [1, 3576], [1, 3573], [1, 3572], [1, 3571], [1, 3569], [1, 3566], [1, 3563], [1, 3559], [1, 3557], [1, 3555], [1, 3554], [1, 3553], [1, 3551], [1, 3550], [1, 3548], [1, 3547], [1, 3544], [1, 3543], [1, 3542], [1, 3540], [1, 3539], [1, 3536], [1, 3533], [1, 3532], [1, 3530], [1, 3529], [1, 3528], [1, 3526], [1, 3520], [1, 3519], [1, 3518], [1, 3515], [1, 3512], [1, 3511], [1, 3510], [1, 3509], [1, 3508], [1, 3506], [1, 3505], [1, 3503], [1, 3501], [1, 3497], [1, 3496], [1, 3494], [1, 3492], [1, 3491], [1, 3490], [1, 3489], [1, 3488], [1, 3486], [1, 3483], [1, 3482], [1, 3480], [1, 3478], [1, 3477], [1, 3475], [1, 3474], [1, 3472], [1, 3471], [1, 3468], [1, 3467], [1, 3466], [1, 3465], [1, 3464], [1, 3462], [1, 3460], [1, 3459], [1, 3458], [1, 3455], [1, 3454], [1, 3453], [1, 3452], [1, 3447], [1, 3446], [1, 3445], [1, 3444], [1, 3442], [1, 3441], [1, 3440], [1, 3438], [1, 3434], [1, 3432], [1, 3430], [1, 3427], [1, 3425], [1, 3422], [1, 3420], [1, 3418], [1, 3417], [1, 3416], [1, 3410], [1, 3407], [1, 3406], [1, 3404], [1, 3403], [1, 3402], [1, 3401], [1, 3399], [1, 3396], [1, 3393], [1, 3392], [1, 3391], [1, 3385], [1, 3384], [1, 3383], [1, 3380], [1, 3379], [1, 3377], [1, 3375], [1, 3373], [1, 3371], [1, 3369], [1, 3368], [1, 3367], [1, 3365], [1, 3363], [1, 3362], [1, 3355], [1, 3350], [1, 3345], [1, 3344], [1, 3342], [1, 3341], [1, 3340], [1, 3337], [1, 3335], [1, 3328], [1, 3325], [1, 3322], [1, 3320], [1, 3319], [1, 3314], [1, 3313], [1, 3309], [1, 3307], [1, 3306], [1, 3303], [1, 3302], [1, 3301], [1, 3295], [1, 3292], [1, 3291], [1, 3288], [1, 3287], [1, 3284], [1, 3283], [1, 3278], [1, 3277], [1, 3275], [1, 3274], [1, 3270], [1, 3268], [1, 3267], [1, 3265], [1, 3264], [1, 3263], [1, 3262], [1, 3261], [1, 3260], [1, 3258], [1, 3257], [1, 3256], [1, 3255], [1, 3254], [1, 3253], [1, 3252], [1, 3251], [1, 3250], [1, 3249], [1, 3248], [1, 3245], [1, 3243], [1, 3242], [1, 3236], [1, 3234], [1, 3233], [1, 3231], [1, 3229], [1, 3228], [1, 3227], [1, 3218], [1, 3214], [1, 3213], [1, 3212], [1, 3211], [1, 3210], [1, 3209], [1, 3208], [1, 3206], [1, 3202], [1, 3199], [1, 3198], [1, 3197], [1, 3195], [1, 3192], [1, 3191], [1, 3190], [1, 3188], [1, 3187], [1, 3186], [1, 3184], [1, 3177], [1, 3176], [1, 3172], [1, 3171], [1, 3168], [1, 3167], [1, 3166], [1, 3164], [1, 3162], [1, 3158], [1, 3155], [1, 3154], [1, 3150], [1, 3147], [1, 3146], [1, 3142], [1, 3141], [1, 3138], [1, 3136], [1, 3134], [1, 3131], [1, 3130], [1, 3129], [1, 3126], [1, 3123], [1, 3122], [1, 3121], [1, 3120], [1, 3119], [1, 3118], [1, 3117], [1, 3116], [1, 3111], [1, 3110], [1, 3109], [1, 3108], [1, 3107], [1, 3106], [1, 3105], [1, 3097], [1, 3096], [1, 3095], [1, 3092], [1, 3091], [1, 3088], [1, 3084], [1, 3082], [1, 3079], [1, 3078], [1, 3075], [1, 3074], [1, 3072], [1, 3070], [1, 3065], [1, 3064], [1, 3061], [1, 3057], [1, 3055], [1, 3054], [1, 3047], [1, 3045], [1, 3044], [1, 3041], [1, 3038], [1, 3037], [1, 3035], [1, 3034], [1, 3030], [1, 3029], [1, 3024], [1, 3023], [1, 3021], [1, 3020], [1, 3019], [1, 3016], [1, 3015], [1, 3013], [1, 3012], [1, 3008], [1, 3007], [1, 3006], [1, 3005], [1, 3004], [1, 3002], [1, 3001], [1, 2999], [1, 2997], [1, 2995], [1, 2994], [1, 2992], [1, 2991], [1, 2990], [1, 2989], [1, 2988], [1, 2987], [1, 2986], [1, 2985], [1, 2984], [1, 2981], [1, 2980], [1, 2978], [1, 2977], [1, 2976], [1, 2975], [1, 2972], [1, 2970], [1, 2968], [1, 2967], [1, 2966], [1, 2965], [1, 2964], [1, 2963], [1, 2962], [1, 2959], [1, 2958], [1, 2955], [1, 2954], [1, 2951], [1, 2950], [1, 2947], [1, 2944], [1, 2943], [1, 2942], [1, 2941], [1, 2937], [1, 2936], [1, 2935], [1, 2934], [1, 2932], [1, 2929], [1, 2927], [1, 2926], [1, 2924], [1, 2923], [1, 2916], [1, 2914], [1, 2912], [1, 2911], [1, 2910], [1, 2909], [1, 2908], [1, 2907], [1, 2906], [1, 2905], [1, 2901], [1, 2897], [1, 2896], [1, 2894], [1, 2885], [1, 2884], [1, 2883], [1, 2880], [1, 2879], [1, 2878], [1, 2875], [1, 2874], [1, 2872], [1, 2871], [1, 2868], [1, 2867], [1, 2865], [1, 2862], [1, 2861], [1, 2860], [1, 2858], [1, 2852], [1, 2849], [1, 2847], [1, 2846], [1, 2845], [1, 2844], [1, 2837], [1, 2835], [1, 2834], [1, 2831], [1, 2828], [1, 2826], [1, 2825], [1, 2824], [1, 2822], [1, 2821], [1, 2816], [1, 2815], [1, 2814], [1, 2812], [1, 2810], [1, 2807], [1, 2805], [1, 2804], [1, 2802], [1, 2800], [1, 2799], [1, 2797], [1, 2796], [1, 2795], [1, 2794], [1, 2793], [1, 2792], [1, 2791], [1, 2790], [1, 2789], [1, 2788], [1, 2785], [1, 2783], [1, 2781], [1, 2779], [1, 2778], [1, 2777], [1, 2775], [1, 2774], [1, 2772], [1, 2768], [1, 2767], [1, 2766], [1, 2765], [1, 2764], [1, 2763], [1, 2759], [1, 2756], [1, 2755], [1, 2754], [1, 2753], [1, 2752], [1, 2748], [1, 2745], [1, 2743], [1, 2742], [1, 2741], [1, 2740], [1, 2738], [1, 2735], [1, 2734], [1, 2730], [1, 2729], [1, 2728], [1, 2725], [1, 2721], [1, 2720], [1, 2719], [1, 2712], [1, 2711], [1, 2710], [1, 2707], [1, 2706], [1, 2705], [1, 2703], [1, 2701], [1, 2700], [1, 2699], [1, 2695], [1, 2694], [1, 2693], [1, 2692], [1, 2691], [1, 2687], [1, 2684], [1, 2682], [1, 2677], [1, 2676], [1, 2674], [1, 2673], [1, 2671], [1, 2670], [1, 2669], [1, 2668], [1, 2667], [1, 2665], [1, 2664], [1, 2663], [1, 2661], [1, 2660], [1, 2659], [1, 2657], [1, 2656], [1, 2654], [1, 2651], [1, 2650], [1, 2648], [1, 2646], [1, 2644], [1, 2639], [1, 2638], [1, 2634], [1, 2633], [1, 2632], [1, 2629], [1, 2628], [1, 2627], [1, 2625], [1, 2623], [1, 2621], [1, 2619], [1, 2616], [1, 2614], [1, 2612], [1, 2611], [1, 2609], [1, 2608], [1, 2607], [1, 2605], [1, 2599], [1, 2598], [1, 2597], [1, 2596], [1, 2592], [1, 2589], [1, 2588], [1, 2586], [1, 2582], [1, 2579], [1, 2578], [1, 2575], [1, 2567], [1, 2563], [1, 2562], [1, 2561], [1, 2559], [1, 2555], [1, 2554], [1, 2553], [1, 2552], [1, 2551], [1, 2549], [1, 2547], [1, 2546], [1, 2543], [1, 2542], [1, 2541], [1, 2538], [1, 2537], [1, 2535], [1, 2534], [1, 2533], [1, 2531], [1, 2530], [1, 2527], [1, 2524], [1, 2521], [1, 2518], [1, 2517], [1, 2515], [1, 2514], [1, 2513], [1, 2510], [1, 2509], [1, 2508], [1, 2506], [1, 2503], [1, 2500], [1, 2499], [1, 2498], [1, 2497], [1, 2496], [1, 2494], [1, 2493], [1, 2491], [1, 2489], [1, 2488], [1, 2484], [1, 2482], [1, 2480], [1, 2479], [1, 2478], [1, 2477], [1, 2476], [1, 2475], [1, 2473], [1, 2472], [1, 2471], [1, 2469], [1, 2468], [1, 2466], [1, 2464], [1, 2463], [1, 2462], [1, 2458], [1, 2457], [1, 2456], [1, 2454], [1, 2453], [1, 2448], [1, 2446], [1, 2445], [1, 2444], [1, 2443], [1, 2442], [1, 2441], [1, 2440], [1, 2437], [1, 2433], [1, 2432], [1, 2431], [1, 2430], [1, 2428], [1, 2427], [1, 2426], [1, 2423], [1, 2422], [1, 2420], [1, 2419], [1, 2418], [1, 2417], [1, 2416], [1, 2413], [1, 2412], [1, 2409], [1, 2408], [1, 2407], [1, 2404], [1, 2402], [1, 2401], [1, 2396], [1, 2394], [1, 2393], [1, 2391], [1, 2388], [1, 2387], [1, 2385], [1, 2383], [1, 2382], [1, 2381], [1, 2378], [1, 2375], [1, 2373], [1, 2369], [1, 2367], [1, 2366], [1, 2360], [1, 2359], [1, 2358], [1, 2356], [1, 2355], [1, 2354], [1, 2352], [1, 2351], [1, 2350], [1, 2348], [1, 2347], [1, 2345], [1, 2344], [1, 2341], [1, 2340], [1, 2334], [1, 2331], [1, 2328], [1, 2327], [1, 2323], [1, 2321], [1, 2320], [1, 2319], [1, 2318], [1, 2317], [1, 2313], [1, 2310], [1, 2306], [1, 2305], [1, 2304], [1, 2303], [1, 2302], [1, 2299], [1, 2298], [1, 2295], [1, 2294], [1, 2288], [1, 2287], [1, 2284], [1, 2283], [1, 2276], [1, 2274], [1, 2272], [1, 2269], [1, 2267], [1, 2266], [1, 2263], [1, 2262], [1, 2261], [1, 2258], [1, 2257], [1, 2255], [1, 2254], [1, 2252], [1, 2251], [1, 2248], [1, 2247], [1, 2243], [1, 2242], [1, 2238], [1, 2236], [1, 2235], [1, 2234], [1, 2233], [1, 2232], [1, 2231], [1, 2229], [1, 2228], [1, 2226], [1, 2224], [1, 2223], [1, 2222], [1, 2221], [1, 2219], [1, 2218], [1, 2217], [1, 2214], [1, 2213], [1, 2212], [1, 2211], [1, 2209], [1, 2208], [1, 2207], [1, 2205], [1, 2202], [1, 2197], [1, 2191], [1, 2190], [1, 2189], [1, 2188], [1, 2187], [1, 2186], [1, 2184], [1, 2183], [1, 2182], [1, 2181], [1, 2178], [1, 2177], [1, 2175], [1, 2172], [1, 2170], [1, 2167], [1, 2166], [1, 2164], [1, 2163], [1, 2162], [1, 2161], [1, 2158], [1, 2157], [1, 2156], [1, 2150], [1, 2149], [1, 2147], [1, 2146], [1, 2145], [1, 2143], [1, 2142], [1, 2140], [1, 2139], [1, 2138], [1, 2135], [1, 2132], [1, 2128], [1, 2127], [1, 2123], [1, 2122], [1, 2120], [1, 2119], [1, 2115], [1, 2109], [1, 2108], [1, 2107], [1, 2106], [1, 2104], [1, 2100], [1, 2099], [1, 2098], [1, 2097], [1, 2095], [1, 2094], [1, 2091], [1, 2088], [1, 2084], [1, 2079], [1, 2076], [1, 2075], [1, 2072], [1, 2069], [1, 2068], [1, 2066], [1, 2065], [1, 2057], [1, 2055], [1, 2052], [1, 2051], [1, 2048], [1, 2047], [1, 2046], [1, 2045], [1, 2039], [1, 2036], [1, 2035], [1, 2032], [1, 2031], [1, 2030], [1, 2029], [1, 2028], [1, 2027], [1, 2026], [1, 2023], [1, 2021], [1, 2019], [1, 2018], [1, 2017], [1, 2016], [1, 2014], [1, 2007], [1, 2006], [1, 2004], [1, 2000], [1, 1998], [1, 1997], [1, 1995], [1, 1992], [1, 1991], [1, 1990], [1, 1988], [1, 1986], [1, 1985], [1, 1984], [1, 1982], [1, 1981], [1, 1980], [1, 1979], [1, 1978], [1, 1976], [1, 1975], [1, 1973], [1, 1972], [1, 1970], [1, 1969], [1, 1968], [1, 1967], [1, 1966], [1, 1965], [1, 1964], [1, 1963], [1, 1962], [1, 1961], [1, 1960], [1, 1951], [1, 1947], [1, 1946], [1, 1945], [1, 1943], [1, 1942], [1, 1940], [1, 1938], [1, 1934], [1, 1932], [1, 1931], [1, 1929], [1, 1928], [1, 1926], [1, 1925], [1, 1924], [1, 1923], [1, 1921], [1, 1918], [1, 1917], [1, 1916], [1, 1913], [1, 1912], [1, 1910], [1, 1909], [1, 1906], [1, 1905], [1, 1904], [1, 1900], [1, 1899], [1, 1898], [1, 1896], [1, 1893], [1, 1892], [1, 1889], [1, 1887], [1, 1883], [1, 1881], [1, 1880], [1, 1878], [1, 1877], [1, 1874], [1, 1873], [1, 1871], [1, 1870], [1, 1869], [1, 1867], [1, 1863], [1, 1862], [1, 1861], [1, 1860], [1, 1857], [1, 1856], [1, 1854], [1, 1853], [1, 1851], [1, 1850], [1, 1849], [1, 1848], [1, 1847], [1, 1846], [1, 1843], [1, 1842], [1, 1840], [1, 1839], [1, 1835], [1, 1834], [1, 1833], [1, 1831], [1, 1830], [1, 1829], [1, 1826], [1, 1819], [1, 1818], [1, 1817], [1, 1814], [1, 1813], [1, 1812], [1, 1810], [1, 1808], [1, 1807], [1, 1806], [1, 1805], [1, 1804], [1, 1803], [1, 1799], [1, 1797], [1, 1796], [1, 1795], [1, 1794], [1, 1793], [1, 1792], [1, 1791], [1, 1789], [1, 1788], [1, 1785], [1, 1782], [1, 1779], [1, 1777], [1, 1774], [1, 1773], [1, 1771], [1, 1768], [1, 1765], [1, 1764], [1, 1763], [1, 1760], [1, 1757], [1, 1751], [1, 1748], [1, 1747], [1, 1746], [1, 1743], [1, 1739], [1, 1738], [1, 1737], [1, 1735], [1, 1734], [1, 1731], [1, 1729], [1, 1728], [1, 1727], [1, 1725], [1, 1721], [1, 1719], [1, 1718], [1, 1715], [1, 1711], [1, 1710], [1, 1707], [1, 1705], [1, 1701], [1, 1700], [1, 1699], [1, 1698], [1, 1697], [1, 1695], [1, 1692], [1, 1688], [1, 1687], [1, 1686], [1, 1684], [1, 1683], [1, 1680], [1, 1679], [1, 1677], [1, 1676], [1, 1675], [1, 1673], [1, 1670], [1, 1669], [1, 1664], [1, 1662], [1, 1660], [1, 1659], [1, 1658], [1, 1656], [1, 1655], [1, 1654], [1, 1650], [1, 1649], [1, 1648], [1, 1646], [1, 1645], [1, 1644], [1, 1643], [1, 1639], [1, 1638], [1, 1637], [1, 1636], [1, 1635], [1, 1634], [1, 1633], [1, 1632], [1, 1630], [1, 1629], [1, 1628], [1, 1627], [1, 1623], [1, 1622], [1, 1619], [1, 1618], [1, 1616], [1, 1614], [1, 1613], [1, 1611], [1, 1609], [1, 1608], [1, 1607], [1, 1606], [1, 1604], [1, 1602], [1, 1601], [1, 1599], [1, 1597], [1, 1596], [1, 1595], [1, 1594], [1, 1593], [1, 1590], [1, 1588], [1, 1585], [1, 1584], [1, 1580], [1, 1579], [1, 1577], [1, 1574], [1, 1573], [1, 1572], [1, 1570], [1, 1569], [1, 1568], [1, 1567], [1, 1566], [1, 1565], [1, 1563], [1, 1559], [1, 1558], [1, 1557], [1, 1554], [1, 1553], [1, 1551], [1, 1548], [1, 1547], [1, 1545], [1, 1544], [1, 1541], [1, 1539], [1, 1538], [1, 1537], [1, 1536], [1, 1534], [1, 1533], [1, 1530], [1, 1529], [1, 1527], [1, 1526], [1, 1524], [1, 1522], [1, 1521], [1, 1520], [1, 1519], [1, 1518], [1, 1515], [1, 1514], [1, 1513], [1, 1509], [1, 1505], [1, 1504], [1, 1503], [1, 1502], [1, 1501], [1, 1497], [1, 1495], [1, 1494], [1, 1493], [1, 1491], [1, 1490], [1, 1489], [1, 1488], [1, 1487], [1, 1486], [1, 1484], [1, 1483], [1, 1482], [1, 1478], [1, 1470], [1, 1468], [1, 1467], [1, 1465], [1, 1462], [1, 1461], [1, 1458], [1, 1457], [1, 1455], [1, 1454], [1, 1453], [1, 1452], [1, 1449], [1, 1448], [1, 1447], [1, 1446], [1, 1444], [1, 1443], [1, 1442], [1, 1437], [1, 1433], [1, 1428], [1, 1426], [1, 1425], [1, 1424], [1, 1423], [1, 1422], [1, 1420], [1, 1419], [1, 1418], [1, 1417], [1, 1416], [1, 1414], [1, 1412], [1, 1409], [1, 1408], [1, 1406], [1, 1405], [1, 1404], [1, 1403], [1, 1402], [1, 1400], [1, 1399], [1, 1394], [1, 1391], [1, 1390], [1, 1389], [1, 1388], [1, 1387], [1, 1386], [1, 1382], [1, 1381], [1, 1378], [1, 1373], [1, 1372], [1, 1371], [1, 1369], [1, 1367], [1, 1366], [1, 1365], [1, 1363], [1, 1360], [1, 1359], [1, 1358], [1, 1356], [1, 1355], [1, 1354], [1, 1353], [1, 1352], [1, 1349], [1, 1347], [1, 1346], [1, 1344], [1, 1338], [1, 1335], [1, 1333], [1, 1332], [1, 1331], [1, 1328], [1, 1326], [1, 1325], [1, 1324], [1, 1322], [1, 1317], [1, 1316], [1, 1314], [1, 1313], [1, 1310], [1, 1309], [1, 1308], [1, 1306], [1, 1305], [1, 1302], [1, 1298], [1, 1296], [1, 1294], [1, 1293], [1, 1291], [1, 1289], [1, 1288], [1, 1287], [1, 1286], [1, 1285], [1, 1283], [1, 1282], [1, 1281], [1, 1279], [1, 1278], [1, 1273], [1, 1271], [1, 1268], [1, 1267], [1, 1266], [1, 1260], [1, 1257], [1, 1253], [1, 1252], [1, 1251], [1, 1247], [1, 1244], [1, 1243], [1, 1239], [1, 1237], [1, 1236], [1, 1234], [1, 1232], [1, 1230], [1, 1229], [1, 1226], [1, 1225], [1, 1223], [1, 1221], [1, 1218], [1, 1217], [1, 1213], [1, 1211], [1, 1210], [1, 1207], [1, 1205], [1, 1203], [1, 1200], [1, 1199], [1, 1195], [1, 1194], [1, 1193], [1, 1191], [1, 1188], [1, 1187], [1, 1184], [1, 1183], [1, 1181], [1, 1180], [1, 1177], [1, 1176], [1, 1171], [1, 1170], [1, 1169], [1, 1168], [1, 1167], [1, 1166], [1, 1161], [1, 1160], [1, 1159], [1, 1157], [1, 1154], [1, 1153], [1, 1152], [1, 1148], [1, 1144], [1, 1143], [1, 1139], [1, 1137], [1, 1135], [1, 1134], [1, 1133], [1, 1132], [1, 1131], [1, 1121], [1, 1117], [1, 1115], [1, 1114], [1, 1113], [1, 1112], [1, 1110], [1, 1108], [1, 1105], [1, 1104], [1, 1103], [1, 1101], [1, 1096], [1, 1095], [1, 1092], [1, 1091], [1, 1090], [1, 1086], [1, 1085], [1, 1084], [1, 1083], [1, 1082], [1, 1080], [1, 1078], [1, 1077], [1, 1076], [1, 1074], [1, 1070], [1, 1069], [1, 1068], [1, 1066], [1, 1063], [1, 1060], [1, 1058], [1, 1057], [1, 1054], [1, 1053], [1, 1052], [1, 1048], [1, 1047], [1, 1045], [1, 1043], [1, 1041], [1, 1040], [1, 1038], [1, 1037], [1, 1036], [1, 1034], [1, 1033], [1, 1031], [1, 1028], [1, 1025], [1, 1023], [1, 1020], [1, 1016], [1, 1014], [1, 1010], [1, 1004], [1, 1001], [1, 997], [1, 996], [1, 995], [1, 992], [1, 989], [1, 986], [1, 984], [1, 983], [1, 982], [1, 981], [1, 978], [1, 977], [1, 976], [1, 972], [1, 969], [1, 967], [1, 963], [1, 962], [1, 960], [1, 959], [1, 958], [1, 957], [1, 956], [1, 948], [1, 947], [1, 942], [1, 941], [1, 940], [1, 939], [1, 929], [1, 927], [1, 924], [1, 921], [1, 919], [1, 918], [1, 917], [1, 916], [1, 915], [1, 914], [1, 913], [1, 911], [1, 910], [1, 908], [1, 905], [1, 903], [1, 900], [1, 899], [1, 895], [1, 894], [1, 892], [1, 888], [1, 886], [1, 884], [1, 881], [1, 880], [1, 878], [1, 876], [1, 875], [1, 872], [1, 865], [1, 863], [1, 860], [1, 859], [1, 858], [1, 857], [1, 856], [1, 853], [1, 849], [1, 848], [1, 846], [1, 843], [1, 842], [1, 838], [1, 837], [1, 836], [1, 835], [1, 834], [1, 833], [1, 832], [1, 830], [1, 829], [1, 826], [1, 825], [1, 824], [1, 823], [1, 821], [1, 820], [1, 819], [1, 813], [1, 812], [1, 811], [1, 810], [1, 809], [1, 808], [1, 805], [1, 802], [1, 801], [1, 799], [1, 795], [1, 794], [1, 792], [1, 791], [1, 787], [1, 785], [1, 784], [1, 782], [1, 780], [1, 776], [1, 775], [1, 774], [1, 773], [1, 769], [1, 768], [1, 767], [1, 765], [1, 763], [1, 761], [1, 760], [1, 758], [1, 757], [1, 753], [1, 752], [1, 751], [1, 750], [1, 745], [1, 743], [1, 739], [1, 737], [1, 735], [1, 733], [1, 729], [1, 727], [1, 726], [1, 720], [1, 719], [1, 714], [1, 712], [1, 709], [1, 706], [1, 704], [1, 702], [1, 701], [1, 700], [1, 699], [1, 694], [1, 693], [1, 692], [1, 691], [1, 690], [1, 689], [1, 685], [1, 678], [1, 677], [1, 676], [1, 674], [1, 673], [1, 671], [1, 668], [1, 666], [1, 663], [1, 661], [1, 660], [1, 658], [1, 657], [1, 656], [1, 655], [1, 654], [1, 652], [1, 651], [1, 648], [1, 647], [1, 646], [1, 644], [1, 643], [1, 641], [1, 640], [1, 638], [1, 637], [1, 635], [1, 633], [1, 630], [1, 626], [1, 623], [1, 621], [1, 620], [1, 619], [1, 616], [1, 615], [1, 614], [1, 612], [1, 609], [1, 604], [1, 600], [1, 597], [1, 596], [1, 595], [1, 593], [1, 592], [1, 588], [1, 586], [1, 584], [1, 583], [1, 582], [1, 581], [1, 580], [1, 579], [1, 576], [1, 574], [1, 573], [1, 571], [1, 570], [1, 568], [1, 566], [1, 565], [1, 563], [1, 562], [1, 560], [1, 557], [1, 554], [1, 552], [1, 549], [1, 546], [1, 542], [1, 539], [1, 538], [1, 537], [1, 536], [1, 534], [1, 533], [1, 531], [1, 526], [1, 525], [1, 524], [1, 521], [1, 519], [1, 517], [1, 516], [1, 515], [1, 514], [1, 513], [1, 508], [1, 505], [1, 504], [1, 501], [1, 498], [1, 495], [1, 493], [1, 490], [1, 488], [1, 487], [1, 482], [1, 480], [1, 477], [1, 474], [1, 473], [1, 465], [1, 464], [1, 461], [1, 457], [1, 453], [1, 452], [1, 451], [1, 449], [1, 448], [1, 446], [1, 444], [1, 442], [1, 440], [1, 439], [1, 438], [1, 436], [1, 435], [1, 434], [1, 433], [1, 431], [1, 427], [1, 426], [1, 425], [1, 424], [1, 423], [1, 420], [1, 416], [1, 411], [1, 409], [1, 408], [1, 407], [1, 406], [1, 405], [1, 403], [1, 402], [1, 400], [1, 399], [1, 395], [1, 394], [1, 393], [1, 391], [1, 389], [1, 388], [1, 381], [1, 379], [1, 376], [1, 374], [1, 371], [1, 368], [1, 366], [1, 365], [1, 364], [1, 360], [1, 357], [1, 354], [1, 353], [1, 352], [1, 349], [1, 346], [1, 343], [1, 342], [1, 340], [1, 339], [1, 335], [1, 333], [1, 331], [1, 329], [1, 326], [1, 325], [1, 323], [1, 320], [1, 319], [1, 317], [1, 316], [1, 315], [1, 313], [1, 312], [1, 309], [1, 308], [1, 303], [1, 302], [1, 300], [1, 299], [1, 295], [1, 294], [1, 293], [1, 292], [1, 290], [1, 289], [1, 286], [1, 285], [1, 284], [1, 278], [1, 273], [1, 271], [1, 268], [1, 267], [1, 266], [1, 262], [1, 261], [1, 260], [1, 259], [1, 258], [1, 256], [1, 255], [1, 253], [1, 252], [1, 250], [1, 249], [1, 246], [1, 244], [1, 243], [1, 242], [1, 240], [1, 239], [1, 238], [1, 237], [1, 236], [1, 235], [1, 234], [1, 232], [1, 228], [1, 227], [1, 226], [1, 225], [1, 222], [1, 220], [1, 219], [1, 217], [1, 216], [1, 215], [1, 213], [1, 211], [1, 210], [1, 208], [1, 206], [1, 205], [1, 204], [1, 201], [1, 198], [1, 196], [1, 195], [1, 193], [1, 189], [1, 187], [1, 184], [1, 183], [1, 182], [1, 181], [1, 180], [1, 179], [1, 178], [1, 176], [1, 175], [1, 173], [1, 167], [1, 164], [1, 162], [1, 161], [1, 159], [1, 158], [1, 156], [1, 155], [1, 154], [1, 151], [1, 150], [1, 147], [1, 144], [1, 143], [1, 140], [1, 139], [1, 138], [1, 132], [1, 127], [1, 125], [1, 124], [1, 123], [1, 121], [1, 119], [1, 117], [1, 116], [1, 115], [1, 114], [1, 113], [1, 112], [1, 111], [1, 110], [1, 109], [1, 107], [1, 106], [1, 105], [1, 103], [1, 101], [1, 100], [1, 99], [1, 98], [1, 97], [1, 92], [1, 91], [1, 90], [1, 89], [1, 88], [1, 86], [1, 85], [1, 84], [1, 83], [1, 78], [1, 76], [1, 75], [1, 73], [1, 72], [1, 68], [1, 67], [1, 66], [1, 65], [1, 64], [1, 61], [1, 58], [1, 57], [1, 56], [1, 55], [1, 54], [1, 51], [1, 49], [1, 48], [1, 47], [1, 46], [1, 45], [1, 44], [1, 41], [1, 37], [1, 36], [1, 31], [1, 30], [1, 29], [1, 28], [1, 27], [1, 24], [1, 23], [1, 22], [1, 21], [1, 17], [1, 14], [1, 13], [1, 11], [1, 7], [1, 6], [1, 5], [1, 4], [1, 3], [1, 1]]\n"
          ]
        }
      ]
    },
    {
      "cell_type": "code",
      "source": [
        "k=[]\n",
        "m=[]\n",
        "for i,j in l:\n",
        "  if i>100:\n",
        "    k.append(i)\n",
        "    m.append(j)\n",
        "most_visited=pd.DataFrame({\"user_id\":m,\"frequency\":k})\n",
        "most_visited "
      ],
      "metadata": {
        "colab": {
          "base_uri": "https://localhost:8080/",
          "height": 424
        },
        "id": "P02pxfWK9crC",
        "outputId": "637c85f2-75a8-4358-9ae0-93f653b8aa0b"
      },
      "execution_count": null,
      "outputs": [
        {
          "output_type": "execute_result",
          "data": {
            "text/html": [
              "\n",
              "  <div id=\"df-242e8fc1-81c1-432b-b367-1e6376244fc8\">\n",
              "    <div class=\"colab-df-container\">\n",
              "      <div>\n",
              "<style scoped>\n",
              "    .dataframe tbody tr th:only-of-type {\n",
              "        vertical-align: middle;\n",
              "    }\n",
              "\n",
              "    .dataframe tbody tr th {\n",
              "        vertical-align: top;\n",
              "    }\n",
              "\n",
              "    .dataframe thead th {\n",
              "        text-align: right;\n",
              "    }\n",
              "</style>\n",
              "<table border=\"1\" class=\"dataframe\">\n",
              "  <thead>\n",
              "    <tr style=\"text-align: right;\">\n",
              "      <th></th>\n",
              "      <th>user_id</th>\n",
              "      <th>frequency</th>\n",
              "    </tr>\n",
              "  </thead>\n",
              "  <tbody>\n",
              "    <tr>\n",
              "      <th>0</th>\n",
              "      <td>3623</td>\n",
              "      <td>606</td>\n",
              "    </tr>\n",
              "    <tr>\n",
              "      <th>1</th>\n",
              "      <td>906</td>\n",
              "      <td>600</td>\n",
              "    </tr>\n",
              "    <tr>\n",
              "      <th>2</th>\n",
              "      <td>1811</td>\n",
              "      <td>593</td>\n",
              "    </tr>\n",
              "    <tr>\n",
              "      <th>3</th>\n",
              "      <td>7590</td>\n",
              "      <td>590</td>\n",
              "    </tr>\n",
              "    <tr>\n",
              "      <th>4</th>\n",
              "      <td>8068</td>\n",
              "      <td>585</td>\n",
              "    </tr>\n",
              "    <tr>\n",
              "      <th>...</th>\n",
              "      <td>...</td>\n",
              "      <td>...</td>\n",
              "    </tr>\n",
              "    <tr>\n",
              "      <th>648</th>\n",
              "      <td>1781</td>\n",
              "      <td>102</td>\n",
              "    </tr>\n",
              "    <tr>\n",
              "      <th>649</th>\n",
              "      <td>1694</td>\n",
              "      <td>102</td>\n",
              "    </tr>\n",
              "    <tr>\n",
              "      <th>650</th>\n",
              "      <td>11469</td>\n",
              "      <td>101</td>\n",
              "    </tr>\n",
              "    <tr>\n",
              "      <th>651</th>\n",
              "      <td>10663</td>\n",
              "      <td>101</td>\n",
              "    </tr>\n",
              "    <tr>\n",
              "      <th>652</th>\n",
              "      <td>6786</td>\n",
              "      <td>101</td>\n",
              "    </tr>\n",
              "  </tbody>\n",
              "</table>\n",
              "<p>653 rows × 2 columns</p>\n",
              "</div>\n",
              "      <button class=\"colab-df-convert\" onclick=\"convertToInteractive('df-242e8fc1-81c1-432b-b367-1e6376244fc8')\"\n",
              "              title=\"Convert this dataframe to an interactive table.\"\n",
              "              style=\"display:none;\">\n",
              "        \n",
              "  <svg xmlns=\"http://www.w3.org/2000/svg\" height=\"24px\"viewBox=\"0 0 24 24\"\n",
              "       width=\"24px\">\n",
              "    <path d=\"M0 0h24v24H0V0z\" fill=\"none\"/>\n",
              "    <path d=\"M18.56 5.44l.94 2.06.94-2.06 2.06-.94-2.06-.94-.94-2.06-.94 2.06-2.06.94zm-11 1L8.5 8.5l.94-2.06 2.06-.94-2.06-.94L8.5 2.5l-.94 2.06-2.06.94zm10 10l.94 2.06.94-2.06 2.06-.94-2.06-.94-.94-2.06-.94 2.06-2.06.94z\"/><path d=\"M17.41 7.96l-1.37-1.37c-.4-.4-.92-.59-1.43-.59-.52 0-1.04.2-1.43.59L10.3 9.45l-7.72 7.72c-.78.78-.78 2.05 0 2.83L4 21.41c.39.39.9.59 1.41.59.51 0 1.02-.2 1.41-.59l7.78-7.78 2.81-2.81c.8-.78.8-2.07 0-2.86zM5.41 20L4 18.59l7.72-7.72 1.47 1.35L5.41 20z\"/>\n",
              "  </svg>\n",
              "      </button>\n",
              "      \n",
              "  <style>\n",
              "    .colab-df-container {\n",
              "      display:flex;\n",
              "      flex-wrap:wrap;\n",
              "      gap: 12px;\n",
              "    }\n",
              "\n",
              "    .colab-df-convert {\n",
              "      background-color: #E8F0FE;\n",
              "      border: none;\n",
              "      border-radius: 50%;\n",
              "      cursor: pointer;\n",
              "      display: none;\n",
              "      fill: #1967D2;\n",
              "      height: 32px;\n",
              "      padding: 0 0 0 0;\n",
              "      width: 32px;\n",
              "    }\n",
              "\n",
              "    .colab-df-convert:hover {\n",
              "      background-color: #E2EBFA;\n",
              "      box-shadow: 0px 1px 2px rgba(60, 64, 67, 0.3), 0px 1px 3px 1px rgba(60, 64, 67, 0.15);\n",
              "      fill: #174EA6;\n",
              "    }\n",
              "\n",
              "    [theme=dark] .colab-df-convert {\n",
              "      background-color: #3B4455;\n",
              "      fill: #D2E3FC;\n",
              "    }\n",
              "\n",
              "    [theme=dark] .colab-df-convert:hover {\n",
              "      background-color: #434B5C;\n",
              "      box-shadow: 0px 1px 3px 1px rgba(0, 0, 0, 0.15);\n",
              "      filter: drop-shadow(0px 1px 2px rgba(0, 0, 0, 0.3));\n",
              "      fill: #FFFFFF;\n",
              "    }\n",
              "  </style>\n",
              "\n",
              "      <script>\n",
              "        const buttonEl =\n",
              "          document.querySelector('#df-242e8fc1-81c1-432b-b367-1e6376244fc8 button.colab-df-convert');\n",
              "        buttonEl.style.display =\n",
              "          google.colab.kernel.accessAllowed ? 'block' : 'none';\n",
              "\n",
              "        async function convertToInteractive(key) {\n",
              "          const element = document.querySelector('#df-242e8fc1-81c1-432b-b367-1e6376244fc8');\n",
              "          const dataTable =\n",
              "            await google.colab.kernel.invokeFunction('convertToInteractive',\n",
              "                                                     [key], {});\n",
              "          if (!dataTable) return;\n",
              "\n",
              "          const docLinkHtml = 'Like what you see? Visit the ' +\n",
              "            '<a target=\"_blank\" href=https://colab.research.google.com/notebooks/data_table.ipynb>data table notebook</a>'\n",
              "            + ' to learn more about interactive tables.';\n",
              "          element.innerHTML = '';\n",
              "          dataTable['output_type'] = 'display_data';\n",
              "          await google.colab.output.renderOutput(dataTable, element);\n",
              "          const docLink = document.createElement('div');\n",
              "          docLink.innerHTML = docLinkHtml;\n",
              "          element.appendChild(docLink);\n",
              "        }\n",
              "      </script>\n",
              "    </div>\n",
              "  </div>\n",
              "  "
            ],
            "text/plain": [
              "     user_id  frequency\n",
              "0       3623        606\n",
              "1        906        600\n",
              "2       1811        593\n",
              "3       7590        590\n",
              "4       8068        585\n",
              "..       ...        ...\n",
              "648     1781        102\n",
              "649     1694        102\n",
              "650    11469        101\n",
              "651    10663        101\n",
              "652     6786        101\n",
              "\n",
              "[653 rows x 2 columns]"
            ]
          },
          "metadata": {},
          "execution_count": 36
        }
      ]
    },
    {
      "cell_type": "code",
      "source": [
        "df"
      ],
      "metadata": {
        "colab": {
          "base_uri": "https://localhost:8080/",
          "height": 661
        },
        "id": "sN1uuJbB_XtP",
        "outputId": "44b46a3a-6d3b-47da-c1a0-9dcf4b1a1723"
      },
      "execution_count": null,
      "outputs": [
        {
          "output_type": "execute_result",
          "data": {
            "text/html": [
              "\n",
              "  <div id=\"df-be26bcef-a53e-4c48-9140-6d36a2b2cc5a\">\n",
              "    <div class=\"colab-df-container\">\n",
              "      <div>\n",
              "<style scoped>\n",
              "    .dataframe tbody tr th:only-of-type {\n",
              "        vertical-align: middle;\n",
              "    }\n",
              "\n",
              "    .dataframe tbody tr th {\n",
              "        vertical-align: top;\n",
              "    }\n",
              "\n",
              "    .dataframe thead th {\n",
              "        text-align: right;\n",
              "    }\n",
              "</style>\n",
              "<table border=\"1\" class=\"dataframe\">\n",
              "  <thead>\n",
              "    <tr style=\"text-align: right;\">\n",
              "      <th></th>\n",
              "      <th>object_id</th>\n",
              "      <th>creation_time</th>\n",
              "      <th>name</th>\n",
              "      <th>email</th>\n",
              "      <th>creation_source</th>\n",
              "      <th>last_session_creation_time</th>\n",
              "      <th>opted_in_to_mailing_list</th>\n",
              "      <th>enabled_for_marketing_drip</th>\n",
              "      <th>org_id</th>\n",
              "      <th>invited_by_user_id</th>\n",
              "    </tr>\n",
              "  </thead>\n",
              "  <tbody>\n",
              "    <tr>\n",
              "      <th>0</th>\n",
              "      <td>1</td>\n",
              "      <td>2014-04-22 03:53:30</td>\n",
              "      <td>Clausen August</td>\n",
              "      <td>AugustCClausen@yahoo.com</td>\n",
              "      <td>GUEST_INVITE</td>\n",
              "      <td>1.398139e+09</td>\n",
              "      <td>1</td>\n",
              "      <td>0</td>\n",
              "      <td>11</td>\n",
              "      <td>10803.0</td>\n",
              "    </tr>\n",
              "    <tr>\n",
              "      <th>1</th>\n",
              "      <td>2</td>\n",
              "      <td>2013-11-15 03:45:04</td>\n",
              "      <td>Poole Matthew</td>\n",
              "      <td>MatthewPoole@gustr.com</td>\n",
              "      <td>ORG_INVITE</td>\n",
              "      <td>1.396238e+09</td>\n",
              "      <td>0</td>\n",
              "      <td>0</td>\n",
              "      <td>1</td>\n",
              "      <td>316.0</td>\n",
              "    </tr>\n",
              "    <tr>\n",
              "      <th>2</th>\n",
              "      <td>3</td>\n",
              "      <td>2013-03-19 23:14:52</td>\n",
              "      <td>Bottrill Mitchell</td>\n",
              "      <td>MitchellBottrill@gustr.com</td>\n",
              "      <td>ORG_INVITE</td>\n",
              "      <td>1.363735e+09</td>\n",
              "      <td>0</td>\n",
              "      <td>0</td>\n",
              "      <td>94</td>\n",
              "      <td>1525.0</td>\n",
              "    </tr>\n",
              "    <tr>\n",
              "      <th>3</th>\n",
              "      <td>4</td>\n",
              "      <td>2013-05-21 08:09:28</td>\n",
              "      <td>Clausen Nicklas</td>\n",
              "      <td>NicklasSClausen@yahoo.com</td>\n",
              "      <td>GUEST_INVITE</td>\n",
              "      <td>1.369210e+09</td>\n",
              "      <td>0</td>\n",
              "      <td>0</td>\n",
              "      <td>1</td>\n",
              "      <td>5151.0</td>\n",
              "    </tr>\n",
              "    <tr>\n",
              "      <th>4</th>\n",
              "      <td>5</td>\n",
              "      <td>2013-01-17 10:14:20</td>\n",
              "      <td>Raw Grace</td>\n",
              "      <td>GraceRaw@yahoo.com</td>\n",
              "      <td>GUEST_INVITE</td>\n",
              "      <td>1.358850e+09</td>\n",
              "      <td>0</td>\n",
              "      <td>0</td>\n",
              "      <td>193</td>\n",
              "      <td>5240.0</td>\n",
              "    </tr>\n",
              "    <tr>\n",
              "      <th>...</th>\n",
              "      <td>...</td>\n",
              "      <td>...</td>\n",
              "      <td>...</td>\n",
              "      <td>...</td>\n",
              "      <td>...</td>\n",
              "      <td>...</td>\n",
              "      <td>...</td>\n",
              "      <td>...</td>\n",
              "      <td>...</td>\n",
              "      <td>...</td>\n",
              "    </tr>\n",
              "    <tr>\n",
              "      <th>11995</th>\n",
              "      <td>11996</td>\n",
              "      <td>2013-09-06 06:14:15</td>\n",
              "      <td>Meier Sophia</td>\n",
              "      <td>SophiaMeier@gustr.com</td>\n",
              "      <td>ORG_INVITE</td>\n",
              "      <td>1.378448e+09</td>\n",
              "      <td>0</td>\n",
              "      <td>0</td>\n",
              "      <td>89</td>\n",
              "      <td>8263.0</td>\n",
              "    </tr>\n",
              "    <tr>\n",
              "      <th>11996</th>\n",
              "      <td>11997</td>\n",
              "      <td>2013-01-10 18:28:37</td>\n",
              "      <td>Fisher Amelie</td>\n",
              "      <td>AmelieFisher@gmail.com</td>\n",
              "      <td>SIGNUP_GOOGLE_AUTH</td>\n",
              "      <td>1.358275e+09</td>\n",
              "      <td>0</td>\n",
              "      <td>0</td>\n",
              "      <td>200</td>\n",
              "      <td>NaN</td>\n",
              "    </tr>\n",
              "    <tr>\n",
              "      <th>11997</th>\n",
              "      <td>11998</td>\n",
              "      <td>2014-04-27 12:45:16</td>\n",
              "      <td>Haynes Jake</td>\n",
              "      <td>JakeHaynes@cuvox.de</td>\n",
              "      <td>GUEST_INVITE</td>\n",
              "      <td>1.398603e+09</td>\n",
              "      <td>1</td>\n",
              "      <td>1</td>\n",
              "      <td>83</td>\n",
              "      <td>8074.0</td>\n",
              "    </tr>\n",
              "    <tr>\n",
              "      <th>11998</th>\n",
              "      <td>11999</td>\n",
              "      <td>2012-05-31 11:55:59</td>\n",
              "      <td>Faber Annett</td>\n",
              "      <td>mhaerzxp@iuxiw.com</td>\n",
              "      <td>PERSONAL_PROJECTS</td>\n",
              "      <td>1.338638e+09</td>\n",
              "      <td>0</td>\n",
              "      <td>0</td>\n",
              "      <td>6</td>\n",
              "      <td>NaN</td>\n",
              "    </tr>\n",
              "    <tr>\n",
              "      <th>11999</th>\n",
              "      <td>12000</td>\n",
              "      <td>2014-01-26 08:57:12</td>\n",
              "      <td>Lima Thaís</td>\n",
              "      <td>ThaisMeloLima@hotmail.com</td>\n",
              "      <td>SIGNUP</td>\n",
              "      <td>1.390727e+09</td>\n",
              "      <td>0</td>\n",
              "      <td>1</td>\n",
              "      <td>0</td>\n",
              "      <td>NaN</td>\n",
              "    </tr>\n",
              "  </tbody>\n",
              "</table>\n",
              "<p>12000 rows × 10 columns</p>\n",
              "</div>\n",
              "      <button class=\"colab-df-convert\" onclick=\"convertToInteractive('df-be26bcef-a53e-4c48-9140-6d36a2b2cc5a')\"\n",
              "              title=\"Convert this dataframe to an interactive table.\"\n",
              "              style=\"display:none;\">\n",
              "        \n",
              "  <svg xmlns=\"http://www.w3.org/2000/svg\" height=\"24px\"viewBox=\"0 0 24 24\"\n",
              "       width=\"24px\">\n",
              "    <path d=\"M0 0h24v24H0V0z\" fill=\"none\"/>\n",
              "    <path d=\"M18.56 5.44l.94 2.06.94-2.06 2.06-.94-2.06-.94-.94-2.06-.94 2.06-2.06.94zm-11 1L8.5 8.5l.94-2.06 2.06-.94-2.06-.94L8.5 2.5l-.94 2.06-2.06.94zm10 10l.94 2.06.94-2.06 2.06-.94-2.06-.94-.94-2.06-.94 2.06-2.06.94z\"/><path d=\"M17.41 7.96l-1.37-1.37c-.4-.4-.92-.59-1.43-.59-.52 0-1.04.2-1.43.59L10.3 9.45l-7.72 7.72c-.78.78-.78 2.05 0 2.83L4 21.41c.39.39.9.59 1.41.59.51 0 1.02-.2 1.41-.59l7.78-7.78 2.81-2.81c.8-.78.8-2.07 0-2.86zM5.41 20L4 18.59l7.72-7.72 1.47 1.35L5.41 20z\"/>\n",
              "  </svg>\n",
              "      </button>\n",
              "      \n",
              "  <style>\n",
              "    .colab-df-container {\n",
              "      display:flex;\n",
              "      flex-wrap:wrap;\n",
              "      gap: 12px;\n",
              "    }\n",
              "\n",
              "    .colab-df-convert {\n",
              "      background-color: #E8F0FE;\n",
              "      border: none;\n",
              "      border-radius: 50%;\n",
              "      cursor: pointer;\n",
              "      display: none;\n",
              "      fill: #1967D2;\n",
              "      height: 32px;\n",
              "      padding: 0 0 0 0;\n",
              "      width: 32px;\n",
              "    }\n",
              "\n",
              "    .colab-df-convert:hover {\n",
              "      background-color: #E2EBFA;\n",
              "      box-shadow: 0px 1px 2px rgba(60, 64, 67, 0.3), 0px 1px 3px 1px rgba(60, 64, 67, 0.15);\n",
              "      fill: #174EA6;\n",
              "    }\n",
              "\n",
              "    [theme=dark] .colab-df-convert {\n",
              "      background-color: #3B4455;\n",
              "      fill: #D2E3FC;\n",
              "    }\n",
              "\n",
              "    [theme=dark] .colab-df-convert:hover {\n",
              "      background-color: #434B5C;\n",
              "      box-shadow: 0px 1px 3px 1px rgba(0, 0, 0, 0.15);\n",
              "      filter: drop-shadow(0px 1px 2px rgba(0, 0, 0, 0.3));\n",
              "      fill: #FFFFFF;\n",
              "    }\n",
              "  </style>\n",
              "\n",
              "      <script>\n",
              "        const buttonEl =\n",
              "          document.querySelector('#df-be26bcef-a53e-4c48-9140-6d36a2b2cc5a button.colab-df-convert');\n",
              "        buttonEl.style.display =\n",
              "          google.colab.kernel.accessAllowed ? 'block' : 'none';\n",
              "\n",
              "        async function convertToInteractive(key) {\n",
              "          const element = document.querySelector('#df-be26bcef-a53e-4c48-9140-6d36a2b2cc5a');\n",
              "          const dataTable =\n",
              "            await google.colab.kernel.invokeFunction('convertToInteractive',\n",
              "                                                     [key], {});\n",
              "          if (!dataTable) return;\n",
              "\n",
              "          const docLinkHtml = 'Like what you see? Visit the ' +\n",
              "            '<a target=\"_blank\" href=https://colab.research.google.com/notebooks/data_table.ipynb>data table notebook</a>'\n",
              "            + ' to learn more about interactive tables.';\n",
              "          element.innerHTML = '';\n",
              "          dataTable['output_type'] = 'display_data';\n",
              "          await google.colab.output.renderOutput(dataTable, element);\n",
              "          const docLink = document.createElement('div');\n",
              "          docLink.innerHTML = docLinkHtml;\n",
              "          element.appendChild(docLink);\n",
              "        }\n",
              "      </script>\n",
              "    </div>\n",
              "  </div>\n",
              "  "
            ],
            "text/plain": [
              "       object_id        creation_time               name  \\\n",
              "0              1  2014-04-22 03:53:30     Clausen August   \n",
              "1              2  2013-11-15 03:45:04      Poole Matthew   \n",
              "2              3  2013-03-19 23:14:52  Bottrill Mitchell   \n",
              "3              4  2013-05-21 08:09:28    Clausen Nicklas   \n",
              "4              5  2013-01-17 10:14:20          Raw Grace   \n",
              "...          ...                  ...                ...   \n",
              "11995      11996  2013-09-06 06:14:15       Meier Sophia   \n",
              "11996      11997  2013-01-10 18:28:37      Fisher Amelie   \n",
              "11997      11998  2014-04-27 12:45:16        Haynes Jake   \n",
              "11998      11999  2012-05-31 11:55:59       Faber Annett   \n",
              "11999      12000  2014-01-26 08:57:12         Lima Thaís   \n",
              "\n",
              "                            email     creation_source  \\\n",
              "0        AugustCClausen@yahoo.com        GUEST_INVITE   \n",
              "1          MatthewPoole@gustr.com          ORG_INVITE   \n",
              "2      MitchellBottrill@gustr.com          ORG_INVITE   \n",
              "3       NicklasSClausen@yahoo.com        GUEST_INVITE   \n",
              "4              GraceRaw@yahoo.com        GUEST_INVITE   \n",
              "...                           ...                 ...   \n",
              "11995       SophiaMeier@gustr.com          ORG_INVITE   \n",
              "11996      AmelieFisher@gmail.com  SIGNUP_GOOGLE_AUTH   \n",
              "11997         JakeHaynes@cuvox.de        GUEST_INVITE   \n",
              "11998          mhaerzxp@iuxiw.com   PERSONAL_PROJECTS   \n",
              "11999   ThaisMeloLima@hotmail.com              SIGNUP   \n",
              "\n",
              "       last_session_creation_time  opted_in_to_mailing_list  \\\n",
              "0                    1.398139e+09                         1   \n",
              "1                    1.396238e+09                         0   \n",
              "2                    1.363735e+09                         0   \n",
              "3                    1.369210e+09                         0   \n",
              "4                    1.358850e+09                         0   \n",
              "...                           ...                       ...   \n",
              "11995                1.378448e+09                         0   \n",
              "11996                1.358275e+09                         0   \n",
              "11997                1.398603e+09                         1   \n",
              "11998                1.338638e+09                         0   \n",
              "11999                1.390727e+09                         0   \n",
              "\n",
              "       enabled_for_marketing_drip  org_id  invited_by_user_id  \n",
              "0                               0      11             10803.0  \n",
              "1                               0       1               316.0  \n",
              "2                               0      94              1525.0  \n",
              "3                               0       1              5151.0  \n",
              "4                               0     193              5240.0  \n",
              "...                           ...     ...                 ...  \n",
              "11995                           0      89              8263.0  \n",
              "11996                           0     200                 NaN  \n",
              "11997                           1      83              8074.0  \n",
              "11998                           0       6                 NaN  \n",
              "11999                           1       0                 NaN  \n",
              "\n",
              "[12000 rows x 10 columns]"
            ]
          },
          "metadata": {},
          "execution_count": 39
        }
      ]
    },
    {
      "cell_type": "code",
      "source": [
        "plt.figure(figsize=(10,5))\n",
        "sns.countplot(df[\"creation_source\"])"
      ],
      "metadata": {
        "colab": {
          "base_uri": "https://localhost:8080/",
          "height": 408
        },
        "id": "Di3fpOliAJVa",
        "outputId": "0d10a97b-7c55-4ba5-9a3d-0208614ff12d"
      },
      "execution_count": null,
      "outputs": [
        {
          "output_type": "stream",
          "name": "stderr",
          "text": [
            "/usr/local/lib/python3.7/dist-packages/seaborn/_decorators.py:43: FutureWarning: Pass the following variable as a keyword arg: x. From version 0.12, the only valid positional argument will be `data`, and passing other arguments without an explicit keyword will result in an error or misinterpretation.\n",
            "  FutureWarning\n"
          ]
        },
        {
          "output_type": "execute_result",
          "data": {
            "text/plain": [
              "<matplotlib.axes._subplots.AxesSubplot at 0x7fc72b647a90>"
            ]
          },
          "metadata": {},
          "execution_count": 43
        },
        {
          "output_type": "display_data",
          "data": {
            "image/png": "[encoded data removed]",
            "text/plain": [
              "<Figure size 720x360 with 1 Axes>"
            ]
          },
          "metadata": {
            "needs_background": "light"
          }
        }
      ]
    },
    {
      "cell_type": "code",
      "source": [
        "sns.countplot(df[\"opted_in_to_mailing_list\"])"
      ],
      "metadata": {
        "colab": {
          "base_uri": "https://localhost:8080/",
          "height": 352
        },
        "id": "KRNBjH7qAqW2",
        "outputId": "d5a9bf51-5ded-4c19-d4cc-434abc7d0dfd"
      },
      "execution_count": null,
      "outputs": [
        {
          "output_type": "stream",
          "name": "stderr",
          "text": [
            "/usr/local/lib/python3.7/dist-packages/seaborn/_decorators.py:43: FutureWarning: Pass the following variable as a keyword arg: x. From version 0.12, the only valid positional argument will be `data`, and passing other arguments without an explicit keyword will result in an error or misinterpretation.\n",
            "  FutureWarning\n"
          ]
        },
        {
          "output_type": "execute_result",
          "data": {
            "text/plain": [
              "<matplotlib.axes._subplots.AxesSubplot at 0x7fc72932afd0>"
            ]
          },
          "metadata": {},
          "execution_count": 44
        },
        {
          "output_type": "display_data",
          "data": {
            "image/png": "[encoded data removed]",
            "text/plain": [
              "<Figure size 432x288 with 1 Axes>"
            ]
          },
          "metadata": {
            "needs_background": "light"
          }
        }
      ]
    },
    {
      "cell_type": "code",
      "source": [
        "sns.countplot(df[\"enabled_for_marketing_drip\"])"
      ],
      "metadata": {
        "colab": {
          "base_uri": "https://localhost:8080/",
          "height": 352
        },
        "id": "LBAMRooLAxXD",
        "outputId": "0421866c-74b5-4526-8fad-711789a0a3a3"
      },
      "execution_count": null,
      "outputs": [
        {
          "output_type": "stream",
          "name": "stderr",
          "text": [
            "/usr/local/lib/python3.7/dist-packages/seaborn/_decorators.py:43: FutureWarning: Pass the following variable as a keyword arg: x. From version 0.12, the only valid positional argument will be `data`, and passing other arguments without an explicit keyword will result in an error or misinterpretation.\n",
            "  FutureWarning\n"
          ]
        },
        {
          "output_type": "execute_result",
          "data": {
            "text/plain": [
              "<matplotlib.axes._subplots.AxesSubplot at 0x7fc7292f9050>"
            ]
          },
          "metadata": {},
          "execution_count": 45
        },
        {
          "output_type": "display_data",
          "data": {
            "image/png": "[encoded data removed]",
            "text/plain": [
              "<Figure size 432x288 with 1 Axes>"
            ]
          },
          "metadata": {
            "needs_background": "light"
          }
        }
      ]
    },
    {
      "cell_type": "markdown",
      "source": [
        "From the above observation,\n",
        "\n",
        "\n",
        "*Most people visited in the year of 2019\n",
        "\n",
        "\n",
        "*There are less visitors in the year of 2012\n",
        "\n",
        "\n",
        "*More visitors are found in the month of April and may than the others.May be the marketing team has done lot of marketing through email or some other invitions.\n",
        "\n",
        "\n",
        "*Almost 660 visitors have visited more than 100 times,i think most of the visitors have come at different times because their unique id's are not countinuous like 1,2,3 instead id's be like 1,7,4,etc.\n",
        "\n",
        "*Most visitors came here through the organizational invitations than the others.\n",
        "\n",
        "*Most of the visitors not opted for mailing as well as marketing drip.\n",
        "\n",
        "\n",
        "\n",
        "\n",
        "\n"
      ],
      "metadata": {
        "id": "XZzcfGKGCqyz"
      }
    }
  ]
}