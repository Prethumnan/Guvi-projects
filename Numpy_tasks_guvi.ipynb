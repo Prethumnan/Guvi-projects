{
  "cells": [
    {
      "cell_type": "markdown",
      "metadata": {
        "id": "view-in-github",
        "colab_type": "text"
      },
      "source": [
        "<a href=\"https://colab.research.google.com/github/Prethumnan/Guvi-projects/blob/main/Numpy_tasks_guvi.ipynb\" target=\"_parent\"><img src=\"https://colab.research.google.com/assets/colab-badge.svg\" alt=\"Open In Colab\"/></a>"
      ]
    },
    {
      "cell_type": "markdown",
      "metadata": {
        "id": "3fX1EOC6lOvV"
      },
      "source": [
        "# Numpy\n",
        "\n"
      ]
    },
    {
      "cell_type": "markdown",
      "metadata": {
        "id": "77I-dH7nlOvY"
      },
      "source": [
        "#### 1. Import the numpy package under the name `np` (★☆☆) \n",
        "(**hint**: import … as …)"
      ]
    },
    {
      "cell_type": "code",
      "execution_count": 1,
      "metadata": {
        "collapsed": true,
        "id": "AgvaS8p4lOvZ"
      },
      "outputs": [],
      "source": [
        "import numpy as np"
      ]
    },
    {
      "cell_type": "markdown",
      "metadata": {
        "id": "Y5biitKqlOva"
      },
      "source": [
        "#### 2. Print the numpy version and the configuration (★☆☆) \n",
        "(**hint**: np.\\_\\_version\\_\\_, np.show\\_config)"
      ]
    },
    {
      "cell_type": "code",
      "execution_count": 2,
      "metadata": {
        "id": "ukPXcllclOva",
        "colab": {
          "base_uri": "https://localhost:8080/",
          "height": 35
        },
        "outputId": "e1c6981f-b164-4c5e-f01c-bec57ed33f17"
      },
      "outputs": [
        {
          "output_type": "execute_result",
          "data": {
            "text/plain": [
              "'1.21.5'"
            ],
            "application/vnd.google.colaboratory.intrinsic+json": {
              "type": "string"
            }
          },
          "metadata": {},
          "execution_count": 2
        }
      ],
      "source": [
        "np.__version__\n"
      ]
    },
    {
      "cell_type": "code",
      "source": [
        "np.show_config"
      ],
      "metadata": {
        "id": "IhW_wokul4ld",
        "colab": {
          "base_uri": "https://localhost:8080/"
        },
        "outputId": "b580f1eb-f847-4331-a22e-b83f81114ae7"
      },
      "execution_count": 3,
      "outputs": [
        {
          "output_type": "execute_result",
          "data": {
            "text/plain": [
              "<function numpy.__config__.show>"
            ]
          },
          "metadata": {},
          "execution_count": 3
        }
      ]
    },
    {
      "cell_type": "markdown",
      "metadata": {
        "id": "jRtKUEDVlOva"
      },
      "source": [
        "#### 3. Create a null vector of size 10 (★☆☆) \n",
        "(**hint**: np.zeros)"
      ]
    },
    {
      "cell_type": "code",
      "execution_count": 4,
      "metadata": {
        "id": "KSYhZYkTlOvb",
        "colab": {
          "base_uri": "https://localhost:8080/"
        },
        "outputId": "96e56444-5f4c-4afc-91d7-44d356fc75ab"
      },
      "outputs": [
        {
          "output_type": "execute_result",
          "data": {
            "text/plain": [
              "array([0., 0., 0., 0., 0., 0., 0., 0., 0., 0.])"
            ]
          },
          "metadata": {},
          "execution_count": 4
        }
      ],
      "source": [
        "z=np.zeros(10)\n",
        "z"
      ]
    },
    {
      "cell_type": "markdown",
      "metadata": {
        "id": "q-sLMhvulOvc"
      },
      "source": [
        "#### 4.  How to find the memory size of any array (★☆☆) \n",
        "(**hint**: size, itemsize)"
      ]
    },
    {
      "cell_type": "code",
      "execution_count": 5,
      "metadata": {
        "id": "MQmxdLPclOvc",
        "colab": {
          "base_uri": "https://localhost:8080/"
        },
        "outputId": "2f808a17-76c4-4f09-9f00-54b5686ccd25"
      },
      "outputs": [
        {
          "output_type": "execute_result",
          "data": {
            "text/plain": [
              "10"
            ]
          },
          "metadata": {},
          "execution_count": 5
        }
      ],
      "source": [
        "z.size"
      ]
    },
    {
      "cell_type": "markdown",
      "metadata": {
        "id": "w9nBsHoSlOvd"
      },
      "source": [
        "#### 5.  How to get the documentation of the numpy add function from the command line? (★☆☆) \n",
        "(**hint**: np.info)"
      ]
    },
    {
      "cell_type": "code",
      "execution_count": 6,
      "metadata": {
        "collapsed": true,
        "id": "2AP9_H51lOvd",
        "colab": {
          "base_uri": "https://localhost:8080/"
        },
        "outputId": "cb4c0997-6538-4a99-af36-5b4c42cf81d1"
      },
      "outputs": [
        {
          "output_type": "execute_result",
          "data": {
            "text/plain": [
              "<function numpy.info>"
            ]
          },
          "metadata": {},
          "execution_count": 6
        }
      ],
      "source": [
        "np.info"
      ]
    },
    {
      "cell_type": "markdown",
      "metadata": {
        "id": "mFlbt8f-lOvd"
      },
      "source": [
        "#### 6.  Create a null vector of size 10 but the fifth value which is 1 (★☆☆) \n",
        "(**hint**: array\\[4\\])"
      ]
    },
    {
      "cell_type": "code",
      "execution_count": 7,
      "metadata": {
        "id": "QFFUutWRlOve",
        "colab": {
          "base_uri": "https://localhost:8080/"
        },
        "outputId": "e95c06bc-a620-4ed7-c731-94596ec51843"
      },
      "outputs": [
        {
          "output_type": "execute_result",
          "data": {
            "text/plain": [
              "array([0., 0., 0., 0., 1., 0., 0., 0., 0., 0.])"
            ]
          },
          "metadata": {},
          "execution_count": 7
        }
      ],
      "source": [
        "a=np.zeros(10)\n",
        "a[4]=1\n",
        "a"
      ]
    },
    {
      "cell_type": "markdown",
      "metadata": {
        "id": "JwFhb-6KlOvf"
      },
      "source": [
        "#### 7.  Create a vector with values ranging from 10 to 49 (★☆☆) \n",
        "(**hint**: np.arange)"
      ]
    },
    {
      "cell_type": "code",
      "execution_count": 8,
      "metadata": {
        "id": "9b_F6eCQlOvg",
        "colab": {
          "base_uri": "https://localhost:8080/"
        },
        "outputId": "8e4e72bc-dfb8-443b-edaf-2bcbd9e30316"
      },
      "outputs": [
        {
          "output_type": "execute_result",
          "data": {
            "text/plain": [
              "array([10, 11, 12, 13, 14, 15, 16, 17, 18, 19, 20, 21, 22, 23, 24, 25, 26,\n",
              "       27, 28, 29, 30, 31, 32, 33, 34, 35, 36, 37, 38, 39, 40, 41, 42, 43,\n",
              "       44, 45, 46, 47, 48, 49])"
            ]
          },
          "metadata": {},
          "execution_count": 8
        }
      ],
      "source": [
        "b=np.arange(10,50)\n",
        "b"
      ]
    },
    {
      "cell_type": "markdown",
      "metadata": {
        "id": "lQ-Tdm-GlOvg"
      },
      "source": [
        "#### 8.  Reverse a vector (first element becomes last) (★☆☆) \n",
        "(**hint**: array\\[::-1\\])"
      ]
    },
    {
      "cell_type": "code",
      "execution_count": 9,
      "metadata": {
        "id": "zM0BN_WXlOvg",
        "colab": {
          "base_uri": "https://localhost:8080/"
        },
        "outputId": "159d4cc9-ce4c-47f5-d2d3-1f7c3273a622"
      },
      "outputs": [
        {
          "output_type": "execute_result",
          "data": {
            "text/plain": [
              "array([10,  9,  8,  7,  6,  5,  4,  3,  2,  1])"
            ]
          },
          "metadata": {},
          "execution_count": 9
        }
      ],
      "source": [
        "a=np.arange(1,11)\n",
        "b=a[::-1]\n",
        "b"
      ]
    },
    {
      "cell_type": "markdown",
      "metadata": {
        "id": "uchnqlT0lOvg"
      },
      "source": [
        "#### 9.  Create a 3x3 matrix with values ranging from 0 to 8 (★☆☆) \n",
        "(**hint**: reshape)"
      ]
    },
    {
      "cell_type": "code",
      "execution_count": 10,
      "metadata": {
        "id": "3aPK7yMflOvh",
        "colab": {
          "base_uri": "https://localhost:8080/"
        },
        "outputId": "6954b9ad-ac81-4795-c622-f2c29b24eae5"
      },
      "outputs": [
        {
          "output_type": "execute_result",
          "data": {
            "text/plain": [
              "array([[0, 1, 2],\n",
              "       [3, 4, 5],\n",
              "       [6, 7, 8]])"
            ]
          },
          "metadata": {},
          "execution_count": 10
        }
      ],
      "source": [
        "m=np.arange(0,9)\n",
        "n=m.reshape(3,3)\n",
        "n"
      ]
    },
    {
      "cell_type": "markdown",
      "metadata": {
        "id": "un2JtKhVlOvh"
      },
      "source": [
        "#### 10. Find indices of non-zero elements from \\[1,2,0,0,4,0\\] (★☆☆) \n",
        "(**hint**: np.nonzero)"
      ]
    },
    {
      "cell_type": "code",
      "execution_count": 11,
      "metadata": {
        "id": "SLhGqf1FlOvh",
        "colab": {
          "base_uri": "https://localhost:8080/"
        },
        "outputId": "e0630677-c6af-499a-bf9e-72a02621bbd7"
      },
      "outputs": [
        {
          "output_type": "execute_result",
          "data": {
            "text/plain": [
              "(array([0, 1, 4]),)"
            ]
          },
          "metadata": {},
          "execution_count": 11
        }
      ],
      "source": [
        "m=np.array([1,2,0,0,4,0])\n",
        "n=np.nonzero(m)\n",
        "n"
      ]
    },
    {
      "cell_type": "markdown",
      "metadata": {
        "id": "K4mGresZlOvh"
      },
      "source": [
        "#### 11. Create a 3x3 identity matrix (★☆☆) \n",
        "(**hint**: np.eye)"
      ]
    },
    {
      "cell_type": "code",
      "execution_count": 12,
      "metadata": {
        "id": "Ksi_LK2slOvi",
        "colab": {
          "base_uri": "https://localhost:8080/"
        },
        "outputId": "dcbf6f06-7788-492b-a17f-851b868c9ea0"
      },
      "outputs": [
        {
          "output_type": "execute_result",
          "data": {
            "text/plain": [
              "array([[1., 0., 0.],\n",
              "       [0., 1., 0.],\n",
              "       [0., 0., 1.]])"
            ]
          },
          "metadata": {},
          "execution_count": 12
        }
      ],
      "source": [
        "n=np.eye(3,3)\n",
        "n"
      ]
    },
    {
      "cell_type": "markdown",
      "metadata": {
        "id": "_YoAFlQKlOvi"
      },
      "source": [
        "#### 12. Create a 3x3x3 array with random values (★☆☆) \n",
        "(**hint**: np.random.random)"
      ]
    },
    {
      "cell_type": "code",
      "execution_count": 13,
      "metadata": {
        "collapsed": true,
        "id": "XzXJHn4xlOvi",
        "colab": {
          "base_uri": "https://localhost:8080/"
        },
        "outputId": "b5cd3885-dccc-483a-b178-a2686c065708"
      },
      "outputs": [
        {
          "output_type": "execute_result",
          "data": {
            "text/plain": [
              "array([[[0.57136799, 0.92766705, 0.36595995],\n",
              "        [0.56457855, 0.756516  , 0.33503672],\n",
              "        [0.89980408, 0.6330006 , 0.6548537 ]],\n",
              "\n",
              "       [[0.71395519, 0.39694895, 0.48108908],\n",
              "        [0.99660439, 0.4379662 , 0.29280884],\n",
              "        [0.50185544, 0.30020284, 0.70352334]],\n",
              "\n",
              "       [[0.18501975, 0.82864732, 0.8127769 ],\n",
              "        [0.8820934 , 0.30601818, 0.15659858],\n",
              "        [0.5372025 , 0.36294703, 0.88222377]]])"
            ]
          },
          "metadata": {},
          "execution_count": 13
        }
      ],
      "source": [
        "n=np.random.random([3,3,3])\n",
        "n"
      ]
    },
    {
      "cell_type": "markdown",
      "metadata": {
        "id": "aWStAro4lOvi"
      },
      "source": [
        "#### 13. Create a 10x10 array with random values and find the minimum and maximum values (★☆☆) \n",
        "(**hint**: min, max)"
      ]
    },
    {
      "cell_type": "code",
      "execution_count": 14,
      "metadata": {
        "id": "ic97FgdZlOvi",
        "colab": {
          "base_uri": "https://localhost:8080/"
        },
        "outputId": "f560ab35-6579-451e-dbb0-b8a8758befbf"
      },
      "outputs": [
        {
          "output_type": "execute_result",
          "data": {
            "text/plain": [
              "0.994183814669723"
            ]
          },
          "metadata": {},
          "execution_count": 14
        }
      ],
      "source": [
        "n=np.random.random([10,10])\n",
        "np.max(n)\n"
      ]
    },
    {
      "cell_type": "code",
      "source": [
        "np.min(n)"
      ],
      "metadata": {
        "id": "ouMt4XyHsXEk",
        "colab": {
          "base_uri": "https://localhost:8080/"
        },
        "outputId": "4e0a78fc-603c-4494-f468-e101b44d51fb"
      },
      "execution_count": 15,
      "outputs": [
        {
          "output_type": "execute_result",
          "data": {
            "text/plain": [
              "0.011634433127232002"
            ]
          },
          "metadata": {},
          "execution_count": 15
        }
      ]
    },
    {
      "cell_type": "markdown",
      "metadata": {
        "id": "naHFgvmSlOvj"
      },
      "source": [
        "#### 14. Create a random vector of size 30 and find the mean value (★☆☆) \n",
        "(**hint**: mean)"
      ]
    },
    {
      "cell_type": "code",
      "execution_count": 16,
      "metadata": {
        "id": "6Hc7UEUTlOvj",
        "colab": {
          "base_uri": "https://localhost:8080/"
        },
        "outputId": "ee82f91a-6cbb-4f48-a2a5-20e8744f7415"
      },
      "outputs": [
        {
          "output_type": "execute_result",
          "data": {
            "text/plain": [
              "15.0"
            ]
          },
          "metadata": {},
          "execution_count": 16
        }
      ],
      "source": [
        "n=np.arange(31)\n",
        "np.mean(n)"
      ]
    },
    {
      "cell_type": "markdown",
      "metadata": {
        "id": "AZMp2Ui-lOvj"
      },
      "source": [
        "#### 15. Create a 2d array with 1 on the border and 0 inside (★☆☆) \n",
        "(**hint**: array\\[1:-1, 1:-1\\])"
      ]
    },
    {
      "cell_type": "code",
      "execution_count": 17,
      "metadata": {
        "id": "VBp0tbtalOvj",
        "colab": {
          "base_uri": "https://localhost:8080/"
        },
        "outputId": "45cbc868-5a9b-4f5c-daea-a676610b7306"
      },
      "outputs": [
        {
          "output_type": "execute_result",
          "data": {
            "text/plain": [
              "array([[1., 1., 1., 1., 1.],\n",
              "       [1., 0., 0., 0., 1.],\n",
              "       [1., 0., 0., 0., 1.],\n",
              "       [1., 0., 0., 0., 1.],\n",
              "       [1., 1., 1., 1., 1.]])"
            ]
          },
          "metadata": {},
          "execution_count": 17
        }
      ],
      "source": [
        "n=np.ones((5,5))\n",
        "n[1:-1,1:-1]=0\n",
        "n"
      ]
    },
    {
      "cell_type": "markdown",
      "metadata": {
        "id": "wth13PN6lOvj"
      },
      "source": [
        "#### 16. How to add a border (filled with 0's) around an existing array? (★☆☆) \n",
        "(**hint**: np.pad)"
      ]
    },
    {
      "cell_type": "code",
      "execution_count": 18,
      "metadata": {
        "id": "5vxM5gm8lOvj",
        "colab": {
          "base_uri": "https://localhost:8080/"
        },
        "outputId": "8dca091e-8158-406f-fd3f-64007544ef0a"
      },
      "outputs": [
        {
          "output_type": "execute_result",
          "data": {
            "text/plain": [
              "array([[0., 0., 0., 0., 0., 0., 0.],\n",
              "       [0., 1., 1., 1., 1., 1., 0.],\n",
              "       [0., 1., 1., 1., 1., 1., 0.],\n",
              "       [0., 1., 1., 1., 1., 1., 0.],\n",
              "       [0., 1., 1., 1., 1., 1., 0.],\n",
              "       [0., 1., 1., 1., 1., 1., 0.],\n",
              "       [0., 0., 0., 0., 0., 0., 0.]])"
            ]
          },
          "metadata": {},
          "execution_count": 18
        }
      ],
      "source": [
        "n=np.ones((5,5))\n",
        "np.pad(n,pad_width=1,mode=\"constant\",constant_values=0)"
      ]
    },
    {
      "cell_type": "markdown",
      "metadata": {
        "id": "STuVfBk0lOvk"
      },
      "source": [
        "#### 17. What is the result of the following expression? (★☆☆) \n",
        "(**hint**: NaN = not a number, inf = infinity)"
      ]
    },
    {
      "cell_type": "markdown",
      "metadata": {
        "id": "FT6wsNmhlOvk"
      },
      "source": [
        "```python\n",
        "0 * np.nan\n",
        "np.nan == np.nan\n",
        "np.inf > np.nan\n",
        "np.nan - np.nan\n",
        "0.3 == 3 * 0.1\n",
        "```"
      ]
    },
    {
      "cell_type": "code",
      "source": [
        "0.3 == 3 * 0.1"
      ],
      "metadata": {
        "id": "jbLjcTlw2Jp4",
        "colab": {
          "base_uri": "https://localhost:8080/"
        },
        "outputId": "01ec64a4-493f-4219-a46c-f24152678d8e"
      },
      "execution_count": 19,
      "outputs": [
        {
          "output_type": "execute_result",
          "data": {
            "text/plain": [
              "False"
            ]
          },
          "metadata": {},
          "execution_count": 19
        }
      ]
    },
    {
      "cell_type": "code",
      "execution_count": 20,
      "metadata": {
        "id": "DRJppmGJlOvk",
        "colab": {
          "base_uri": "https://localhost:8080/"
        },
        "outputId": "db005125-2281-4ac0-ab8c-268b5e61f181"
      },
      "outputs": [
        {
          "output_type": "execute_result",
          "data": {
            "text/plain": [
              "nan"
            ]
          },
          "metadata": {},
          "execution_count": 20
        }
      ],
      "source": [
        "0 * np.nan"
      ]
    },
    {
      "cell_type": "code",
      "source": [
        "np.nan == np.nan"
      ],
      "metadata": {
        "id": "ji3fAJHj1-Mj",
        "colab": {
          "base_uri": "https://localhost:8080/"
        },
        "outputId": "2a25fc50-1284-49df-c1be-b2a09b9ac082"
      },
      "execution_count": 21,
      "outputs": [
        {
          "output_type": "execute_result",
          "data": {
            "text/plain": [
              "False"
            ]
          },
          "metadata": {},
          "execution_count": 21
        }
      ]
    },
    {
      "cell_type": "code",
      "source": [
        "np.inf > np.nan"
      ],
      "metadata": {
        "id": "IBXekfau2CX5",
        "colab": {
          "base_uri": "https://localhost:8080/"
        },
        "outputId": "454b9693-49d4-4169-c625-96286475ac4d"
      },
      "execution_count": 22,
      "outputs": [
        {
          "output_type": "execute_result",
          "data": {
            "text/plain": [
              "False"
            ]
          },
          "metadata": {},
          "execution_count": 22
        }
      ]
    },
    {
      "cell_type": "code",
      "source": [
        "np.nan - np.nan"
      ],
      "metadata": {
        "id": "iBej6NOn2F2B",
        "colab": {
          "base_uri": "https://localhost:8080/"
        },
        "outputId": "fc44dd20-03e1-43c9-e62c-e8d00ebed147"
      },
      "execution_count": 23,
      "outputs": [
        {
          "output_type": "execute_result",
          "data": {
            "text/plain": [
              "nan"
            ]
          },
          "metadata": {},
          "execution_count": 23
        }
      ]
    },
    {
      "cell_type": "markdown",
      "metadata": {
        "id": "jIJ5GRm9lOvk"
      },
      "source": [
        "#### 18. Create a 5x5 matrix with values 1,2,3,4 just below the diagonal (★☆☆) \n",
        "(**hint**: np.diag)"
      ]
    },
    {
      "cell_type": "code",
      "execution_count": 24,
      "metadata": {
        "id": "M8ZB7X38lOvl",
        "colab": {
          "base_uri": "https://localhost:8080/"
        },
        "outputId": "6c654954-ee82-4576-9a28-02fef173db5d"
      },
      "outputs": [
        {
          "output_type": "execute_result",
          "data": {
            "text/plain": [
              "array([[1, 0, 0, 0],\n",
              "       [0, 2, 0, 0],\n",
              "       [0, 0, 3, 0],\n",
              "       [0, 0, 0, 4]])"
            ]
          },
          "metadata": {},
          "execution_count": 24
        }
      ],
      "source": [
        "n=np.ones((5,5))\n",
        "np.diag([1,2,3,4])\n"
      ]
    },
    {
      "cell_type": "markdown",
      "metadata": {
        "id": "GgBKX9t1lOvl"
      },
      "source": [
        "#### 19. Create a 8x8 matrix and fill it with a checkerboard pattern (★☆☆) \n",
        "(**hint**: array\\[::2\\])"
      ]
    },
    {
      "cell_type": "code",
      "execution_count": 25,
      "metadata": {
        "id": "AKLhTsUMlOvl",
        "colab": {
          "base_uri": "https://localhost:8080/"
        },
        "outputId": "eff1122e-c9de-4ad7-deb4-3ba87ce65016"
      },
      "outputs": [
        {
          "output_type": "stream",
          "name": "stdout",
          "text": [
            "[[0 1 0 1 0 1 0 1]\n",
            " [1 0 1 0 1 0 1 0]\n",
            " [0 1 0 1 0 1 0 1]\n",
            " [1 0 1 0 1 0 1 0]\n",
            " [0 1 0 1 0 1 0 1]\n",
            " [1 0 1 0 1 0 1 0]\n",
            " [0 1 0 1 0 1 0 1]\n",
            " [1 0 1 0 1 0 1 0]]\n"
          ]
        }
      ],
      "source": [
        "x = np.ones((3,3))\n",
        "x = np.zeros((8,8),dtype=int)\n",
        "x[1::2,::2] = 1\n",
        "x[::2,1::2] = 1\n",
        "print(x)"
      ]
    },
    {
      "cell_type": "markdown",
      "metadata": {
        "id": "bPmMwVmYlOvl"
      },
      "source": [
        "#### 20. Consider a (6,7,8) shape array, what is the index (x,y,z) of the 100th element? \n",
        "(**hint**: np.unravel_index)"
      ]
    },
    {
      "cell_type": "code",
      "execution_count": 26,
      "metadata": {
        "id": "UWXcGR0ClOvl",
        "colab": {
          "base_uri": "https://localhost:8080/"
        },
        "outputId": "fba8f29b-db0b-4764-d9b9-958b1ca5e742"
      },
      "outputs": [
        {
          "output_type": "stream",
          "name": "stdout",
          "text": [
            "(1, 5, 3)\n"
          ]
        }
      ],
      "source": [
        "print(np.unravel_index(99,(6,7,8)))"
      ]
    },
    {
      "cell_type": "markdown",
      "metadata": {
        "id": "NaCb7fK0lOvl"
      },
      "source": [
        "#### 21. Create a checkerboard 8x8 matrix using the tile function (★☆☆) \n",
        "(**hint**: np.tile)"
      ]
    },
    {
      "cell_type": "code",
      "execution_count": 27,
      "metadata": {
        "id": "NDKb_JhSlOvm",
        "colab": {
          "base_uri": "https://localhost:8080/"
        },
        "outputId": "bfae4b37-28f7-46e1-cd74-49e1ca3f6583"
      },
      "outputs": [
        {
          "output_type": "stream",
          "name": "stdout",
          "text": [
            "[[0 1 0 1 0 1 0 1]\n",
            " [1 0 1 0 1 0 1 0]\n",
            " [0 1 0 1 0 1 0 1]\n",
            " [1 0 1 0 1 0 1 0]\n",
            " [0 1 0 1 0 1 0 1]\n",
            " [1 0 1 0 1 0 1 0]\n",
            " [0 1 0 1 0 1 0 1]\n",
            " [1 0 1 0 1 0 1 0]]\n"
          ]
        }
      ],
      "source": [
        "Z = np.tile( np.array([[0,1],[1,0]]), (4,4))\n",
        "print(Z)"
      ]
    },
    {
      "cell_type": "markdown",
      "metadata": {
        "id": "sSsAyGV7lOvm"
      },
      "source": [
        "#### 22. Normalize a 5x5 random matrix (★☆☆) \n",
        "(**hint**: (x - min) / (max - min))"
      ]
    },
    {
      "cell_type": "code",
      "execution_count": 28,
      "metadata": {
        "id": "h4j_LUw9lOvm",
        "colab": {
          "base_uri": "https://localhost:8080/"
        },
        "outputId": "36ef9458-02a5-4240-e41c-8d8a414ce46b"
      },
      "outputs": [
        {
          "output_type": "execute_result",
          "data": {
            "text/plain": [
              "array([[1.        , 0.80235645, 0.46580849, 0.3206694 , 0.03418757],\n",
              "       [0.61040511, 0.79079732, 0.26720499, 0.49449511, 0.3055142 ],\n",
              "       [0.30523525, 0.26669423, 0.39694637, 0.88272943, 0.85588541],\n",
              "       [0.10735844, 0.74120674, 0.52080735, 0.55812331, 0.32300786],\n",
              "       [0.32852727, 0.89132916, 0.34003064, 0.        , 0.05449716]])"
            ]
          },
          "metadata": {},
          "execution_count": 28
        }
      ],
      "source": [
        "a=np.random.random([5,5])\n",
        "max=np.max(a)\n",
        "min=np.min(a)\n",
        "m=[]\n",
        "for i in a:\n",
        "  for j in i:\n",
        "    n=(j-min)/(max-min)\n",
        "    m.append(n)\n",
        "new=np.array(m)\n",
        "normalized_matrix=new.reshape(5,5)\n",
        "normalized_matrix\n"
      ]
    },
    {
      "cell_type": "markdown",
      "metadata": {
        "id": "WFY3krsglOvm"
      },
      "source": [
        "#### 23. Create a custom dtype that describes a color as four unsigned bytes (RGBA) (★☆☆) \n",
        "(**hint**: np.dtype)"
      ]
    },
    {
      "cell_type": "code",
      "execution_count": 29,
      "metadata": {
        "collapsed": true,
        "id": "LJ7nSZdrlOvm"
      },
      "outputs": [],
      "source": [
        "color = np.dtype([(\"r\", np.ubyte),\n",
        "                  (\"g\", np.ubyte),\n",
        "                  (\"b\", np.ubyte),\n",
        "                  (\"a\", np.ubyte)])"
      ]
    },
    {
      "cell_type": "markdown",
      "metadata": {
        "id": "l0T2BWt3lOvm"
      },
      "source": [
        "#### 24. Multiply a 5x3 matrix by a 3x2 matrix (real matrix product) (★☆☆) \n",
        "(**hint**: np.dot | @)"
      ]
    },
    {
      "cell_type": "code",
      "execution_count": 30,
      "metadata": {
        "id": "JMLl03nZlOvm",
        "colab": {
          "base_uri": "https://localhost:8080/"
        },
        "outputId": "1b6eed03-e291-488f-e25d-52f5f365df52"
      },
      "outputs": [
        {
          "output_type": "stream",
          "name": "stdout",
          "text": [
            "[[0.22998375 0.24721983]\n",
            " [0.64057381 0.82782766]\n",
            " [0.54594893 0.57134583]\n",
            " [0.59845646 0.67675526]\n",
            " [0.70899925 0.83194673]]\n"
          ]
        }
      ],
      "source": [
        "a=np.random.random([5,3])\n",
        "b=np.random.random([3,2])\n",
        "mul=np.dot(a,b)\n",
        "print(mul)"
      ]
    },
    {
      "cell_type": "markdown",
      "metadata": {
        "id": "lJjuNPJ6lOvn"
      },
      "source": [
        "#### 25. Given a 1D array, negate all elements which are between 3 and 8, in place. (★☆☆) \n",
        "(**hint**: >, <=)"
      ]
    },
    {
      "cell_type": "code",
      "execution_count": 31,
      "metadata": {
        "id": "aQyTN5UBlOvn",
        "colab": {
          "base_uri": "https://localhost:8080/"
        },
        "outputId": "3d658bc3-4756-4b34-e129-9475131d01a9"
      },
      "outputs": [
        {
          "output_type": "stream",
          "name": "stdout",
          "text": [
            "[ 0  1  2  9 10 11 12 13 14 15 16 17 18 19]\n"
          ]
        }
      ],
      "source": [
        "a=np.arange(20)\n",
        "b=list(a)\n",
        "c=[]\n",
        "for i in b:\n",
        "  if b.index(i)>=3 and b.index(i)<=8:\n",
        "    pass\n",
        "  else:\n",
        "    c.append(i)\n",
        "print(np.array(c))"
      ]
    },
    {
      "cell_type": "markdown",
      "metadata": {
        "id": "SRhQE4EFlOvn"
      },
      "source": [
        "#### 26. What is the output of the following script? (★☆☆) \n",
        "(**hint**: np.sum)"
      ]
    },
    {
      "cell_type": "markdown",
      "metadata": {
        "id": "QBc_XzmblOvn"
      },
      "source": [
        "```python\n",
        "# Author: Jake VanderPlas\n",
        "\n",
        "print(sum(range(5),-1))\n",
        "from numpy import *\n",
        "print(sum(range(5),-1))\n",
        "```"
      ]
    },
    {
      "cell_type": "code",
      "source": [
        ""
      ],
      "metadata": {
        "id": "ZK_Ym4qPOMHM"
      },
      "execution_count": 31,
      "outputs": []
    },
    {
      "cell_type": "code",
      "execution_count": 32,
      "metadata": {
        "id": "jyAgkK7wlOvn",
        "colab": {
          "base_uri": "https://localhost:8080/"
        },
        "outputId": "002759ee-fb6f-4330-9e1a-8a1b249a2ca4"
      },
      "outputs": [
        {
          "output_type": "stream",
          "name": "stdout",
          "text": [
            "9\n",
            "10\n"
          ]
        }
      ],
      "source": [
        "print(sum(range(5),-1))\n",
        "from numpy import *\n",
        "print(sum(range(5),-1))\n"
      ]
    },
    {
      "cell_type": "markdown",
      "metadata": {
        "id": "Td82MVoLlOvn"
      },
      "source": [
        "#### 27. Consider an integer vector Z, which of these expressions are legal? (★☆☆)"
      ]
    },
    {
      "cell_type": "markdown",
      "metadata": {
        "id": "tua4qc3wlOvo"
      },
      "source": [
        "```python\n",
        "Z**Z\n",
        "2 << Z >> 2\n",
        "Z <- Z\n",
        "1j*Z\n",
        "Z/1/1\n",
        "Z<Z>Z\n",
        "```"
      ]
    },
    {
      "cell_type": "code",
      "execution_count": 33,
      "metadata": {
        "id": "IZN0tSctlOvo",
        "colab": {
          "base_uri": "https://localhost:8080/"
        },
        "outputId": "19c25882-8b12-449e-a70e-bccdc91d8826"
      },
      "outputs": [
        {
          "output_type": "stream",
          "name": "stdout",
          "text": [
            "[  1   4  27 256]\n",
            "[1 2 4 8]\n",
            "[False False False False]\n",
            "[0.+1.j 0.+2.j 0.+3.j 0.+4.j]\n",
            "[1. 2. 3. 4.]\n"
          ]
        }
      ],
      "source": [
        "Z=np.arange(1,5)\n",
        "print(Z**Z)\n",
        "print(2 << Z >> 2)\n",
        "print(Z <- Z)\n",
        "print(1j*Z)\n",
        "print(Z/1/1)\n"
      ]
    },
    {
      "cell_type": "markdown",
      "metadata": {
        "id": "1xvk_0wSlOvo"
      },
      "source": [
        "#### 28. What are the result of the following expressions?"
      ]
    },
    {
      "cell_type": "markdown",
      "metadata": {
        "id": "6LMByaTdlOvo"
      },
      "source": [
        "```python\n",
        "np.array(0) / np.array(0)\n",
        "np.array(0) // np.array(0)\n",
        "np.array([np.nan]).astype(int).astype(float)\n",
        "```"
      ]
    },
    {
      "cell_type": "code",
      "execution_count": 34,
      "metadata": {
        "id": "vgsq4u7olOvo",
        "colab": {
          "base_uri": "https://localhost:8080/"
        },
        "outputId": "0dbe41c7-582b-475c-f586-331d8fccabc9"
      },
      "outputs": [
        {
          "output_type": "stream",
          "name": "stdout",
          "text": [
            "nan\n"
          ]
        },
        {
          "output_type": "stream",
          "name": "stderr",
          "text": [
            "/usr/local/lib/python3.7/dist-packages/ipykernel_launcher.py:1: RuntimeWarning: invalid value encountered in true_divide\n",
            "  \"\"\"Entry point for launching an IPython kernel.\n"
          ]
        }
      ],
      "source": [
        "print(np.array(0) / np.array(0))"
      ]
    },
    {
      "cell_type": "code",
      "source": [
        "np.array(0) // np.array(0)"
      ],
      "metadata": {
        "id": "JD6PB28DVHFd",
        "colab": {
          "base_uri": "https://localhost:8080/"
        },
        "outputId": "313671b9-7b5b-4619-c934-419779895dca"
      },
      "execution_count": 35,
      "outputs": [
        {
          "output_type": "stream",
          "name": "stderr",
          "text": [
            "/usr/local/lib/python3.7/dist-packages/ipykernel_launcher.py:1: RuntimeWarning: divide by zero encountered in floor_divide\n",
            "  \"\"\"Entry point for launching an IPython kernel.\n"
          ]
        },
        {
          "output_type": "execute_result",
          "data": {
            "text/plain": [
              "0"
            ]
          },
          "metadata": {},
          "execution_count": 35
        }
      ]
    },
    {
      "cell_type": "code",
      "source": [
        "np.array([np.nan]).astype(int).astype(float)"
      ],
      "metadata": {
        "id": "EA6kNY8HVJyG",
        "colab": {
          "base_uri": "https://localhost:8080/"
        },
        "outputId": "3a96c525-22ee-4a40-cd36-20b099aeef79"
      },
      "execution_count": 36,
      "outputs": [
        {
          "output_type": "execute_result",
          "data": {
            "text/plain": [
              "array([-9.22337204e+18])"
            ]
          },
          "metadata": {},
          "execution_count": 36
        }
      ]
    },
    {
      "cell_type": "markdown",
      "metadata": {
        "id": "8Ou9XDWelOvo"
      },
      "source": [
        "#### 29. How to round away from zero a float array ? (★☆☆) \n",
        "(**hint**: np.uniform, np.copysign, np.ceil, np.abs)"
      ]
    },
    {
      "cell_type": "code",
      "execution_count": 37,
      "metadata": {
        "id": "rXpE2JlflOvo",
        "colab": {
          "base_uri": "https://localhost:8080/"
        },
        "outputId": "a9a08220-4715-4348-dcf7-31fd6ffefced"
      },
      "outputs": [
        {
          "output_type": "stream",
          "name": "stdout",
          "text": [
            "[ 2.  7. -6.  4. -8.  9. -4.  8.  3.  9.]\n"
          ]
        }
      ],
      "source": [
        "Z = np.random.uniform(-10,+10,10)\n",
        "print(np.copysign(np.ceil(np.abs(Z)), Z))"
      ]
    },
    {
      "cell_type": "markdown",
      "metadata": {
        "id": "kHUjslZVlOvo"
      },
      "source": [
        "#### 30. How to find common values between two arrays? (★☆☆) \n",
        "(**hint**: np.intersect1d)"
      ]
    },
    {
      "cell_type": "code",
      "execution_count": 38,
      "metadata": {
        "id": "zTstSwzelOvp",
        "colab": {
          "base_uri": "https://localhost:8080/"
        },
        "outputId": "caf9c10e-7a1e-4f18-92d4-60211eb3fe61"
      },
      "outputs": [
        {
          "output_type": "stream",
          "name": "stdout",
          "text": [
            "[4]\n"
          ]
        }
      ],
      "source": [
        "import numpy as np\n",
        "a=np.array([1,2,3,4])\n",
        "b=np.array([4,5,6,7])\n",
        "print(np.intersect1d(a,b))"
      ]
    },
    {
      "cell_type": "markdown",
      "metadata": {
        "id": "GhhdMMsalOvp"
      },
      "source": [
        "#### 31. How to ignore all numpy warnings (not recommended)? (★☆☆) \n",
        "(**hint**: np.seterr, np.errstate)"
      ]
    },
    {
      "cell_type": "code",
      "execution_count": 39,
      "metadata": {
        "id": "sXYvPx5LlOvp"
      },
      "outputs": [],
      "source": [
        "defaults = np.seterr(all=\"ignore\")\n",
        "Z = np.ones(1) / 0\n",
        "_ = np.seterr(**defaults)\n",
        "with np.errstate(all=\"ignore\"):\n",
        "    np.arange(3) / 0"
      ]
    },
    {
      "cell_type": "markdown",
      "metadata": {
        "id": "LSX1JZUvlOvp"
      },
      "source": [
        "#### 32. Is the following expressions true? (★☆☆) \n",
        "(**hint**: imaginary number)"
      ]
    },
    {
      "cell_type": "markdown",
      "metadata": {
        "id": "rXq6LMdklOvp"
      },
      "source": [
        "```python\n",
        "np.sqrt(-1) == np.emath.sqrt(-1)\n",
        "```"
      ]
    },
    {
      "cell_type": "code",
      "execution_count": 40,
      "metadata": {
        "id": "ualPFfV7lOvp",
        "colab": {
          "base_uri": "https://localhost:8080/"
        },
        "outputId": "adfc43dc-b9b1-433a-fe44-bc97fd9b61ea"
      },
      "outputs": [
        {
          "output_type": "stream",
          "name": "stderr",
          "text": [
            "/usr/local/lib/python3.7/dist-packages/ipykernel_launcher.py:1: RuntimeWarning: invalid value encountered in sqrt\n",
            "  \"\"\"Entry point for launching an IPython kernel.\n"
          ]
        },
        {
          "output_type": "execute_result",
          "data": {
            "text/plain": [
              "False"
            ]
          },
          "metadata": {},
          "execution_count": 40
        }
      ],
      "source": [
        "np.sqrt(-1) == np.emath.sqrt(-1)"
      ]
    },
    {
      "cell_type": "markdown",
      "metadata": {
        "id": "4sFnuQJDlOvp"
      },
      "source": [
        "#### 33. How to get the dates of yesterday, today and tomorrow? (★☆☆) \n",
        "(**hint**: np.datetime64, np.timedelta64)"
      ]
    },
    {
      "cell_type": "code",
      "execution_count": 41,
      "metadata": {
        "collapsed": true,
        "id": "ixuQfI6LlOvp",
        "colab": {
          "base_uri": "https://localhost:8080/"
        },
        "outputId": "2cc65b92-f19f-4fdc-ab3b-1184eea3b83b"
      },
      "outputs": [
        {
          "output_type": "stream",
          "name": "stdout",
          "text": [
            "2022-03-24\n",
            "2022-03-25\n",
            "2022-03-26\n"
          ]
        }
      ],
      "source": [
        "yesterday = np.datetime64('today', 'D')- np.timedelta64(1, 'D')\n",
        "today=np.datetime64(\"today\",\"D\")\n",
        "tomorrow=np.datetime64(\"today\",\"D\")+np.timedelta64(1,\"D\")\n",
        "print(yesterday)\n",
        "print(today)\n",
        "print(tomorrow)\n"
      ]
    },
    {
      "cell_type": "markdown",
      "metadata": {
        "id": "Zs3PorxOlOvq"
      },
      "source": [
        "#### 34. How to get all the dates corresponding to the month of July 2016? (★★☆) \n",
        "(**hint**: np.arange(dtype=datetime64\\['D'\\]))"
      ]
    },
    {
      "cell_type": "code",
      "execution_count": 42,
      "metadata": {
        "id": "AaPFs9CilOvq",
        "colab": {
          "base_uri": "https://localhost:8080/"
        },
        "outputId": "50d5c608-cfb6-447e-ed02-7b927b22ad37"
      },
      "outputs": [
        {
          "output_type": "execute_result",
          "data": {
            "text/plain": [
              "array(['2016-07-01', '2016-07-02', '2016-07-03', '2016-07-04',\n",
              "       '2016-07-05', '2016-07-06', '2016-07-07', '2016-07-08',\n",
              "       '2016-07-09', '2016-07-10', '2016-07-11', '2016-07-12',\n",
              "       '2016-07-13', '2016-07-14', '2016-07-15', '2016-07-16',\n",
              "       '2016-07-17', '2016-07-18', '2016-07-19', '2016-07-20',\n",
              "       '2016-07-21', '2016-07-22', '2016-07-23', '2016-07-24',\n",
              "       '2016-07-25', '2016-07-26', '2016-07-27', '2016-07-28',\n",
              "       '2016-07-29', '2016-07-30', '2016-07-31'], dtype='datetime64[D]')"
            ]
          },
          "metadata": {},
          "execution_count": 42
        }
      ],
      "source": [
        "np.arange(\"2016-07-01\",\"2016-08-01\",dtype=\"datetime64[D]\")"
      ]
    },
    {
      "cell_type": "markdown",
      "metadata": {
        "id": "UiXPoUMilOvq"
      },
      "source": [
        "#### 35. How to compute ((A+B)\\*(-A/2)) in place (without copy)? (★★☆) \n",
        "(**hint**: np.add(out=), np.negative(out=), np.multiply(out=), np.divide(out=))"
      ]
    },
    {
      "cell_type": "code",
      "execution_count": 43,
      "metadata": {
        "id": "RPR7S7Q2lOvq",
        "colab": {
          "base_uri": "https://localhost:8080/"
        },
        "outputId": "d694e548-349d-44d5-dfdf-6c484024a439"
      },
      "outputs": [
        {
          "output_type": "execute_result",
          "data": {
            "text/plain": [
              "-27.5"
            ]
          },
          "metadata": {},
          "execution_count": 43
        }
      ],
      "source": [
        "a=5\n",
        "b=6\n",
        "np.multiply((np.add(a,b)),(np.divide(np.negative(a),2)))"
      ]
    },
    {
      "cell_type": "markdown",
      "metadata": {
        "id": "XiY7rsXVlOvq"
      },
      "source": [
        "#### 36. Extract the integer part of a random array using 5 different methods (★★☆) \n",
        "(**hint**: %, np.floor, np.ceil, astype, np.trunc)"
      ]
    },
    {
      "cell_type": "code",
      "execution_count": 44,
      "metadata": {
        "id": "TdQArKXblOvq",
        "colab": {
          "base_uri": "https://localhost:8080/"
        },
        "outputId": "cf44403b-7e0c-4586-ef42-062285d7eda9"
      },
      "outputs": [
        {
          "output_type": "stream",
          "name": "stdout",
          "text": [
            "[9. 8. 7. 3. 1. 1. 7. 1. 1. 3.]\n",
            "[9. 8. 7. 3. 1. 1. 7. 1. 1. 3.]\n",
            "[9. 8. 7. 3. 1. 1. 7. 1. 1. 3.]\n",
            "[9 8 7 3 1 1 7 1 1 3]\n",
            "[9. 8. 7. 3. 1. 1. 7. 1. 1. 3.]\n"
          ]
        }
      ],
      "source": [
        "Z = np.random.uniform(0,10,10)\n",
        "\n",
        "print(Z - Z%1)\n",
        "print(Z // 1)\n",
        "print(np.floor(Z))\n",
        "print(Z.astype(int))\n",
        "print(np.trunc(Z))"
      ]
    },
    {
      "cell_type": "markdown",
      "metadata": {
        "id": "XjzhJmoGlOvq"
      },
      "source": [
        "#### 37. Create a 5x5 matrix with row values ranging from 0 to 4 (★★☆) \n",
        "(**hint**: np.arange)"
      ]
    },
    {
      "cell_type": "code",
      "execution_count": 45,
      "metadata": {
        "id": "awNVY3m7lOvq",
        "colab": {
          "base_uri": "https://localhost:8080/"
        },
        "outputId": "d6c5e865-b216-4d52-f594-2dc46a61a319"
      },
      "outputs": [
        {
          "output_type": "stream",
          "name": "stdout",
          "text": [
            "[[0 1 2 3 4]\n",
            " [0 1 2 3 4]\n",
            " [0 1 2 3 4]\n",
            " [0 1 2 3 4]\n",
            " [0 1 2 3 4]]\n"
          ]
        }
      ],
      "source": [
        "m=[]\n",
        "for i in range(5):\n",
        "  n=np.arange(0,5)\n",
        "  m.append(n)\n",
        "print(np.array(m).reshape(5,5))\n"
      ]
    },
    {
      "cell_type": "markdown",
      "metadata": {
        "id": "tUFChIhilOvr"
      },
      "source": [
        "#### 38. Consider a generator function that generates 10 integers and use it to build an array (★☆☆) \n",
        "(**hint**: np.fromiter)"
      ]
    },
    {
      "cell_type": "code",
      "execution_count": 46,
      "metadata": {
        "id": "DbtJPmF2lOvr",
        "colab": {
          "base_uri": "https://localhost:8080/"
        },
        "outputId": "0dcccd62-2b9d-4200-99b0-336d80d228a4"
      },
      "outputs": [
        {
          "output_type": "execute_result",
          "data": {
            "text/plain": [
              "array([7, 2, 1, 1, 8, 6, 4, 3, 5, 2])"
            ]
          },
          "metadata": {},
          "execution_count": 46
        }
      ],
      "source": [
        "import random\n",
        "a=[random.randint(1,10) for i in range(10)]\n",
        "np.fromiter(a,dtype=int)"
      ]
    },
    {
      "cell_type": "markdown",
      "metadata": {
        "id": "1JbRHbholOvr"
      },
      "source": [
        "#### 39. Create a vector of size 10 with values ranging from 0 to 1, both excluded (★★☆) \n",
        "(**hint**: np.linspace)"
      ]
    },
    {
      "cell_type": "code",
      "execution_count": 47,
      "metadata": {
        "id": "ZhtJVjTilOvr",
        "colab": {
          "base_uri": "https://localhost:8080/"
        },
        "outputId": "94730b3f-afd6-4485-d0ac-f387e0169341"
      },
      "outputs": [
        {
          "output_type": "execute_result",
          "data": {
            "text/plain": [
              "array([0.09090909, 0.18181818, 0.27272727, 0.36363636, 0.45454545,\n",
              "       0.54545455, 0.63636364, 0.72727273, 0.81818182, 0.90909091])"
            ]
          },
          "metadata": {},
          "execution_count": 47
        }
      ],
      "source": [
        "m=np.linspace(0,1,num=12)\n",
        "np.delete(m,[0,-1])"
      ]
    },
    {
      "cell_type": "markdown",
      "metadata": {
        "id": "cCxf7bmBlOvr"
      },
      "source": [
        "#### 40. Create a random vector of size 10 and sort it (★★☆) \n",
        "(**hint**: sort)"
      ]
    },
    {
      "cell_type": "code",
      "execution_count": 48,
      "metadata": {
        "id": "2KBuECLZlOvr",
        "colab": {
          "base_uri": "https://localhost:8080/"
        },
        "outputId": "a6654910-de54-49cb-fa59-500f7098f181"
      },
      "outputs": [
        {
          "output_type": "execute_result",
          "data": {
            "text/plain": [
              "array([0.11148115, 0.37618006, 0.39814285, 0.48679904, 0.49652588,\n",
              "       0.62954513, 0.66696538, 0.79892726, 0.86357943, 0.89285581])"
            ]
          },
          "metadata": {},
          "execution_count": 48
        }
      ],
      "source": [
        "m=np.random.random(10)\n",
        "m.sort()\n",
        "m"
      ]
    },
    {
      "cell_type": "markdown",
      "metadata": {
        "id": "An_k9o4NlOvr"
      },
      "source": [
        "#### 41. How to sum a small array faster than np.sum? (★★☆) \n",
        "(**hint**: np.add.reduce)"
      ]
    },
    {
      "cell_type": "code",
      "execution_count": 49,
      "metadata": {
        "id": "6zU89IIblOvs",
        "colab": {
          "base_uri": "https://localhost:8080/"
        },
        "outputId": "74a32cbb-0c8b-407c-ab38-9a9bf1d44143"
      },
      "outputs": [
        {
          "output_type": "stream",
          "name": "stdout",
          "text": [
            "1.5891204610756167\n"
          ]
        }
      ],
      "source": [
        "m=np.random.random(5)\n",
        "print(np.add.reduce(m))"
      ]
    },
    {
      "cell_type": "markdown",
      "metadata": {
        "id": "CKJudSIBlOvs"
      },
      "source": [
        "#### 42. Consider two random array A and B, check if they are equal (★★☆) \n",
        "(**hint**: np.allclose, np.array\\_equal)"
      ]
    },
    {
      "cell_type": "code",
      "execution_count": 50,
      "metadata": {
        "id": "7Y6T5WJVlOvs",
        "colab": {
          "base_uri": "https://localhost:8080/"
        },
        "outputId": "c31e8cc5-90d6-47a6-bd6f-efbcbc261cb9"
      },
      "outputs": [
        {
          "output_type": "stream",
          "name": "stdout",
          "text": [
            "False\n",
            "False\n"
          ]
        }
      ],
      "source": [
        "A = np.random.randint(0,2,5)\n",
        "B = np.random.randint(0,2,5)\n",
        "\n",
        "equal = np.allclose(A,B)\n",
        "print(equal)\n",
        "\n",
        "equal = np.array_equal(A,B)\n",
        "print(equal)"
      ]
    },
    {
      "cell_type": "markdown",
      "metadata": {
        "id": "B9zHEO_klOvs"
      },
      "source": [
        "#### 43. Make an array immutable (read-only) (★★☆) \n",
        "(**hint**: flags.writeable)"
      ]
    },
    {
      "cell_type": "code",
      "execution_count": 51,
      "metadata": {
        "id": "U5SdEHvTlOvs"
      },
      "outputs": [],
      "source": [
        "m=np.linspace(1,5,num=10)\n",
        "m.flags.writeable=False"
      ]
    },
    {
      "cell_type": "markdown",
      "metadata": {
        "id": "KCthPzIllOvs"
      },
      "source": [
        "#### 44. Consider a random 10x2 matrix representing cartesian coordinates, convert them to polar coordinates (★★☆) \n",
        "(**hint**: np.sqrt, np.arctan2)"
      ]
    },
    {
      "cell_type": "code",
      "execution_count": 52,
      "metadata": {
        "id": "1ZkcyazRlOvs",
        "colab": {
          "base_uri": "https://localhost:8080/"
        },
        "outputId": "20902dab-a2ee-4bba-fe3a-cb86ac47305e"
      },
      "outputs": [
        {
          "output_type": "stream",
          "name": "stdout",
          "text": [
            "[ 1.          3.60555128  6.40312424  9.21954446 12.04159458 14.86606875\n",
            " 17.69180601 20.51828453 23.34523506 26.17250466]\n"
          ]
        }
      ],
      "source": [
        "a=[i for i in range(20)]\n",
        "b=np.array(a)\n",
        "m=b.reshape(10,2)\n",
        "x=m[:,0]\n",
        "y=m[:,1]\n",
        "r = np.sqrt(x**2+y**2)\n",
        "t = np.arctan2(y,x)\n",
        "print(r)"
      ]
    },
    {
      "cell_type": "markdown",
      "metadata": {
        "id": "-19Jdy0rlOvs"
      },
      "source": [
        "#### 45. Create random vector of size 10 and replace the maximum value by 0 (★★☆) \n",
        "(**hint**: argmax)"
      ]
    },
    {
      "cell_type": "code",
      "execution_count": 53,
      "metadata": {
        "id": "Te3UsAiTlOvt",
        "colab": {
          "base_uri": "https://localhost:8080/"
        },
        "outputId": "ad9cf353-663a-4e24-b0e7-c9657d036639"
      },
      "outputs": [
        {
          "output_type": "stream",
          "name": "stdout",
          "text": [
            "[0.         0.91587473 0.47986299 0.31728357 0.10294921 0.14522196\n",
            " 0.02425224 0.7089427  0.5778603  0.66952404]\n"
          ]
        }
      ],
      "source": [
        "v=np.random.random(10)\n",
        "v[np.argmax(v)]=0\n",
        "print(v)"
      ]
    },
    {
      "cell_type": "markdown",
      "metadata": {
        "id": "V2pBzLyTlOvt"
      },
      "source": [
        "#### 46. Create a structured array with `x` and `y` coordinates covering the \\[0,1\\]x\\[0,1\\] area (★★☆) \n",
        "(**hint**: np.meshgrid)"
      ]
    },
    {
      "cell_type": "code",
      "execution_count": 54,
      "metadata": {
        "id": "0KVStzzllOvt",
        "colab": {
          "base_uri": "https://localhost:8080/"
        },
        "outputId": "10a39d42-9ad8-4918-8a99-b1332de431dd"
      },
      "outputs": [
        {
          "output_type": "stream",
          "name": "stdout",
          "text": [
            "[[(0.  , 0.  ) (0.25, 0.  ) (0.5 , 0.  ) (0.75, 0.  ) (1.  , 0.  )]\n",
            " [(0.  , 0.25) (0.25, 0.25) (0.5 , 0.25) (0.75, 0.25) (1.  , 0.25)]\n",
            " [(0.  , 0.5 ) (0.25, 0.5 ) (0.5 , 0.5 ) (0.75, 0.5 ) (1.  , 0.5 )]\n",
            " [(0.  , 0.75) (0.25, 0.75) (0.5 , 0.75) (0.75, 0.75) (1.  , 0.75)]\n",
            " [(0.  , 1.  ) (0.25, 1.  ) (0.5 , 1.  ) (0.75, 1.  ) (1.  , 1.  )]]\n"
          ]
        }
      ],
      "source": [
        "Z = np.zeros((5,5), [('x',float),('y',float)])\n",
        "Z['x'], Z['y'] = np.meshgrid(np.linspace(0,1,5),\n",
        "                             np.linspace(0,1,5))\n",
        "print(Z)"
      ]
    },
    {
      "cell_type": "markdown",
      "metadata": {
        "id": "AXgCkbrYlOvt"
      },
      "source": [
        "####  47. Given two arrays, X and Y, construct the Cauchy matrix C (Cij =1/(xi - yj)) \n",
        "(**hint**: np.subtract.outer)"
      ]
    },
    {
      "cell_type": "code",
      "execution_count": 55,
      "metadata": {
        "id": "f8DUDJMUlOvt",
        "colab": {
          "base_uri": "https://localhost:8080/"
        },
        "outputId": "b768ca68-b1a5-4d3d-f581-1ec7d08e8813"
      },
      "outputs": [
        {
          "output_type": "stream",
          "name": "stdout",
          "text": [
            "3638.163637117973\n"
          ]
        }
      ],
      "source": [
        "X = np.arange(8)\n",
        "Y = X + 0.5\n",
        "C = 1.0 / np.subtract.outer(X, Y)\n",
        "print(np.linalg.det(C))"
      ]
    },
    {
      "cell_type": "markdown",
      "metadata": {
        "id": "81P59rBElOvt"
      },
      "source": [
        "#### 48. Print the minimum and maximum representable value for each numpy scalar type (★★☆) \n",
        "(**hint**: np.iinfo, np.finfo, eps)"
      ]
    },
    {
      "cell_type": "code",
      "execution_count": 56,
      "metadata": {
        "id": "4w8hUnO7lOvt",
        "colab": {
          "base_uri": "https://localhost:8080/"
        },
        "outputId": "08169845-1acf-4df8-c57a-a11f2dee646d"
      },
      "outputs": [
        {
          "output_type": "stream",
          "name": "stdout",
          "text": [
            "-128\n",
            "127\n",
            "-2147483648\n",
            "2147483647\n",
            "-9223372036854775808\n",
            "9223372036854775807\n",
            "-3.4028235e+38\n",
            "3.4028235e+38\n",
            "1.1920929e-07\n",
            "-1.7976931348623157e+308\n",
            "1.7976931348623157e+308\n",
            "2.220446049250313e-16\n"
          ]
        }
      ],
      "source": [
        "for dtype in [np.int8, np.int32, np.int64]:\n",
        "   print(np.iinfo(dtype).min)\n",
        "   print(np.iinfo(dtype).max)\n",
        "for dtype in [np.float32, np.float64]:\n",
        "   print(np.finfo(dtype).min)\n",
        "   print(np.finfo(dtype).max)\n",
        "   print(np.finfo(dtype).eps)"
      ]
    },
    {
      "cell_type": "markdown",
      "metadata": {
        "id": "YVDtJqzulOvt"
      },
      "source": [
        "#### 49. How to print all the values of an array? (★★☆) \n",
        "(**hint**: np.set\\_printoptions)"
      ]
    },
    {
      "cell_type": "code",
      "execution_count": 57,
      "metadata": {
        "id": "WiPVeUjRlOvt",
        "colab": {
          "base_uri": "https://localhost:8080/"
        },
        "outputId": "50a79467-9371-4aa2-ef14-e92c81ad6492"
      },
      "outputs": [
        {
          "output_type": "execute_result",
          "data": {
            "text/plain": [
              "array([1, 2])"
            ]
          },
          "metadata": {},
          "execution_count": 57
        }
      ],
      "source": [
        "np.set_printoptions(threshold=5)\n",
        "np.array([1,2])\n",
        "\n"
      ]
    },
    {
      "cell_type": "markdown",
      "metadata": {
        "id": "qMt7a9irlOvu"
      },
      "source": [
        "#### 50. How to find the closest value (to a given scalar) in a vector? (★★☆) \n",
        "(**hint**: argmin)"
      ]
    },
    {
      "cell_type": "code",
      "execution_count": 58,
      "metadata": {
        "id": "AA4tryZVlOvu",
        "colab": {
          "base_uri": "https://localhost:8080/"
        },
        "outputId": "881ffa01-ffdf-431a-e5dc-affe548b2589"
      },
      "outputs": [
        {
          "output_type": "stream",
          "name": "stdout",
          "text": [
            "The minimu value is located in the index of 0\n"
          ]
        }
      ],
      "source": [
        "print(\"The minimu value is located in the index of {0}\".format(np.argmin(np.linspace(1,20,num=10))))"
      ]
    },
    {
      "cell_type": "markdown",
      "metadata": {
        "id": "s0W67LjxlOvu"
      },
      "source": [
        "#### 51. Create a structured array representing a position (x,y) and a color (r,g,b) (★★☆) \n",
        "(**hint**: dtype)"
      ]
    },
    {
      "cell_type": "code",
      "execution_count": 59,
      "metadata": {
        "id": "cLAz8AW-lOvu",
        "colab": {
          "base_uri": "https://localhost:8080/"
        },
        "outputId": "342fb619-f61c-40ea-e0f8-d5100d573cae"
      },
      "outputs": [
        {
          "output_type": "stream",
          "name": "stdout",
          "text": [
            "[((0., 0.), (0., 0., 0.)) ((0., 0.), (0., 0., 0.))\n",
            " ((0., 0.), (0., 0., 0.)) ... ((0., 0.), (0., 0., 0.))\n",
            " ((0., 0.), (0., 0., 0.)) ((0., 0.), (0., 0., 0.))]\n"
          ]
        },
        {
          "output_type": "stream",
          "name": "stderr",
          "text": [
            "/usr/local/lib/python3.7/dist-packages/ipykernel_launcher.py:5: FutureWarning: Passing (type, 1) or '1type' as a synonym of type is deprecated; in a future version of numpy, it will be understood as (type, (1,)) / '(1,)type'.\n",
            "  \"\"\"\n"
          ]
        }
      ],
      "source": [
        "Z = np.zeros(10, [ ('position', [ ('x', float, 1),\n",
        "                                  ('y', float, 1)]),\n",
        "                   ('color',    [ ('r', float, 1),\n",
        "                                  ('g', float, 1),\n",
        "                                  ('b', float, 1)])])\n",
        "print(Z)"
      ]
    },
    {
      "cell_type": "markdown",
      "metadata": {
        "id": "8w1Jzo9YlOvu"
      },
      "source": [
        "#### 52. Consider a random vector with shape (100,2) representing coordinates, find point by point distances (★★☆) \n",
        "(**hint**: np.atleast\\_2d, T, np.sqrt)"
      ]
    },
    {
      "cell_type": "code",
      "execution_count": 60,
      "metadata": {
        "id": "xeXqGndMlOvu",
        "colab": {
          "base_uri": "https://localhost:8080/"
        },
        "outputId": "ba28a893-56e6-4258-ce79-aaa4695e31f0"
      },
      "outputs": [
        {
          "output_type": "stream",
          "name": "stdout",
          "text": [
            "[[0.         0.25994723 0.19014061 ... 0.44239141 0.72101843 0.76594909]\n",
            " [0.25994723 0.         0.10288603 ... 0.19496435 0.66650586 0.60865017]\n",
            " [0.19014061 0.10288603 0.         ... 0.29660558 0.61027172 0.5989898 ]\n",
            " ...\n",
            " [0.44239141 0.19496435 0.29660558 ... 0.         0.77185033 0.63655606]\n",
            " [0.72101843 0.66650586 0.61027172 ... 0.77185033 0.         0.29961185]\n",
            " [0.76594909 0.60865017 0.5989898  ... 0.63655606 0.29961185 0.        ]]\n"
          ]
        }
      ],
      "source": [
        "Z = np.random.random((10,2))\n",
        "X,Y = np.atleast_2d(Z[:,0], Z[:,1])\n",
        "D = np.sqrt( (X-X.T)**2 + (Y-Y.T)**2)\n",
        "print(D)"
      ]
    },
    {
      "cell_type": "markdown",
      "metadata": {
        "id": "A7S1jL9ylOvu"
      },
      "source": [
        "#### 53. How to convert a float (32 bits) array into an integer (32 bits) in place? \n",
        "(**hint**: astype(copy=False))"
      ]
    },
    {
      "cell_type": "code",
      "execution_count": 61,
      "metadata": {
        "id": "NF8WFiKrlOvv",
        "colab": {
          "base_uri": "https://localhost:8080/"
        },
        "outputId": "638b2a99-0568-45e5-c7bf-4b0e69ab2793"
      },
      "outputs": [
        {
          "output_type": "stream",
          "name": "stdout",
          "text": [
            "[75  0 30 ... 27 31 44]\n"
          ]
        }
      ],
      "source": [
        "Z = (np.random.rand(10)*100).astype(np.float32)\n",
        "Y = Z.view(np.int32)\n",
        "Y[:] = Z\n",
        "print(Y)"
      ]
    },
    {
      "cell_type": "markdown",
      "metadata": {
        "id": "OidHqOXYlOvv"
      },
      "source": [
        "#### 54. How to read the following file? (★★☆) \n",
        "(**hint**: np.genfromtxt)"
      ]
    },
    {
      "cell_type": "markdown",
      "metadata": {
        "id": "kfqe0WUglOvv"
      },
      "source": [
        "```\n",
        "1, 2, 3, 4, 5\n",
        "6,  ,  , 7, 8\n",
        " ,  , 9,10,11\n",
        "```"
      ]
    },
    {
      "cell_type": "code",
      "execution_count": 62,
      "metadata": {
        "id": "Rjrs7X6elOvv",
        "colab": {
          "base_uri": "https://localhost:8080/"
        },
        "outputId": "f8f4dca0-1561-40e4-9eb0-80d420c58660"
      },
      "outputs": [
        {
          "output_type": "stream",
          "name": "stdout",
          "text": [
            "[[ 1  2  3  4  5]\n",
            " [ 6 -1 -1  7  8]\n",
            " [-1 -1  9 10 11]]\n"
          ]
        },
        {
          "output_type": "stream",
          "name": "stderr",
          "text": [
            "/usr/local/lib/python3.7/dist-packages/ipykernel_launcher.py:10: DeprecationWarning: `np.int` is a deprecated alias for the builtin `int`. To silence this warning, use `int` by itself. Doing this will not modify any behavior and is safe. When replacing `np.int`, you may wish to use e.g. `np.int64` or `np.int32` to specify the precision. If you wish to review your current use, check the release note link for additional information.\n",
            "Deprecated in NumPy 1.20; for more details and guidance: https://numpy.org/devdocs/release/1.20.0-notes.html#deprecations\n",
            "  # Remove the CWD from sys.path while we load stuff.\n"
          ]
        }
      ],
      "source": [
        "from io import StringIO\n",
        "\n",
        "# file\n",
        "s = StringIO('''1, 2, 3, 4, 5\n",
        "\n",
        "                6,  ,  , 7, 8\n",
        "\n",
        "                 ,  , 9,10,11\n",
        "''')\n",
        "Z = np.genfromtxt(s, delimiter=\",\", dtype=np.int)\n",
        "print(Z)"
      ]
    },
    {
      "cell_type": "markdown",
      "metadata": {
        "id": "yhQi5MlGlOvv"
      },
      "source": [
        "#### 55. What is the equivalent of enumerate for numpy arrays? (★★☆) \n",
        "(**hint**: np.ndenumerate, np.ndindex)"
      ]
    },
    {
      "cell_type": "code",
      "execution_count": 63,
      "metadata": {
        "id": "vzCGq13RlOvv",
        "colab": {
          "base_uri": "https://localhost:8080/"
        },
        "outputId": "484c70b3-ea0f-4f60-9f89-3d1298bb4d6b"
      },
      "outputs": [
        {
          "output_type": "stream",
          "name": "stdout",
          "text": [
            "(0,) 0\n",
            "(1,) 1\n",
            "(2,) 2\n",
            "(3,) 3\n",
            "(4,) 4\n",
            "(5,) 5\n",
            "(6,) 6\n",
            "(7,) 7\n",
            "(8,) 8\n",
            "(9,) 9\n",
            "(0,) 0\n",
            "(1,) 1\n",
            "(2,) 2\n",
            "(3,) 3\n",
            "(4,) 4\n",
            "(5,) 5\n",
            "(6,) 6\n",
            "(7,) 7\n",
            "(8,) 8\n",
            "(9,) 9\n"
          ]
        }
      ],
      "source": [
        "a=np.arange(10)\n",
        "for i,j in np.ndenumerate(a):\n",
        "  print(i,j)\n",
        "for i in np.ndindex(a.shape):\n",
        "    print(i, a[i])"
      ]
    },
    {
      "cell_type": "markdown",
      "metadata": {
        "id": "e70ULJ2rlOvv"
      },
      "source": [
        "#### 56. Generate a generic 2D Gaussian-like array (★★☆) \n",
        "(**hint**: np.meshgrid, np.exp)"
      ]
    },
    {
      "cell_type": "code",
      "execution_count": 64,
      "metadata": {
        "id": "QgjHZZlFlOvw",
        "colab": {
          "base_uri": "https://localhost:8080/"
        },
        "outputId": "1b71ad9a-d988-4f27-f418-41f8f46dbba6"
      },
      "outputs": [
        {
          "output_type": "execute_result",
          "data": {
            "text/plain": [
              "array([[0.36787944, 0.44822088, 0.51979489, ..., 0.51979489, 0.44822088,\n",
              "        0.36787944],\n",
              "       [0.44822088, 0.54610814, 0.63331324, ..., 0.63331324, 0.54610814,\n",
              "        0.44822088],\n",
              "       [0.51979489, 0.63331324, 0.73444367, ..., 0.73444367, 0.63331324,\n",
              "        0.51979489],\n",
              "       ...,\n",
              "       [0.51979489, 0.63331324, 0.73444367, ..., 0.73444367, 0.63331324,\n",
              "        0.51979489],\n",
              "       [0.44822088, 0.54610814, 0.63331324, ..., 0.63331324, 0.54610814,\n",
              "        0.44822088],\n",
              "       [0.36787944, 0.44822088, 0.51979489, ..., 0.51979489, 0.44822088,\n",
              "        0.36787944]])"
            ]
          },
          "metadata": {},
          "execution_count": 64
        }
      ],
      "source": [
        "x, y = np.meshgrid(np.linspace(-1,1,10), np.linspace(-1,1,10))\n",
        "d = np.sqrt(x*x+y*y)\n",
        "sigma, mu = 1.0, 0.0\n",
        "g = np.exp(-( (d-mu)**2 / ( 2.0 * sigma**2 ) ) )\n",
        "g"
      ]
    },
    {
      "cell_type": "markdown",
      "metadata": {
        "id": "Hd63GmLDlOvw"
      },
      "source": [
        "#### 57. How to randomly place p elements in a 2D array? (★★☆) \n",
        "(**hint**: np.put, np.random.choice)"
      ]
    },
    {
      "cell_type": "code",
      "execution_count": 65,
      "metadata": {
        "id": "MGG--tnYlOvw",
        "colab": {
          "base_uri": "https://localhost:8080/"
        },
        "outputId": "4e06ce02-e373-4352-a5f2-090ad6551552"
      },
      "outputs": [
        {
          "output_type": "stream",
          "name": "stdout",
          "text": [
            "[[0. 0. 0. ... 0. 0. 0.]\n",
            " [0. 0. 0. ... 1. 0. 1.]\n",
            " [0. 0. 0. ... 0. 0. 0.]\n",
            " ...\n",
            " [0. 0. 0. ... 0. 0. 0.]\n",
            " [0. 0. 0. ... 0. 0. 0.]\n",
            " [0. 0. 0. ... 0. 0. 0.]]\n"
          ]
        }
      ],
      "source": [
        "n = 10\n",
        "p = 3\n",
        "Z = np.zeros((n,n))\n",
        "np.put(Z, np.random.choice(range(n*n), p, replace=False),1)\n",
        "print(Z)"
      ]
    },
    {
      "cell_type": "markdown",
      "metadata": {
        "id": "Hv9-qbTElOvw"
      },
      "source": [
        "#### 58. Subtract the mean of each row of a matrix (★★☆) \n",
        "(**hint**: mean(axis=,keepdims=))"
      ]
    },
    {
      "cell_type": "code",
      "execution_count": 66,
      "metadata": {
        "id": "VUfCgCs7lOvw",
        "colab": {
          "base_uri": "https://localhost:8080/"
        },
        "outputId": "7ffecd96-83c5-4176-f779-d9e1ee1353dc"
      },
      "outputs": [
        {
          "output_type": "stream",
          "name": "stdout",
          "text": [
            "[[-0.13198035 -0.1922618  -0.23894508 ... -0.13308703  0.36448018\n",
            "   0.0208639 ]\n",
            " [ 0.36769345 -0.30599498 -0.23877192 ...  0.33682961 -0.20355574\n",
            "   0.38640807]\n",
            " [-0.02283528  0.1520867  -0.14597695 ...  0.62747182 -0.06700113\n",
            "  -0.043285  ]\n",
            " [ 0.10830137  0.34903    -0.17112075 ...  0.29407203 -0.01815705\n",
            "  -0.34939942]\n",
            " [ 0.22557287 -0.22908318 -0.31400315 ... -0.35706676 -0.35051029\n",
            "   0.3765047 ]]\n"
          ]
        }
      ],
      "source": [
        "X = np.random.rand(5, 10)\n",
        "Y = X - X.mean(axis=1, keepdims=True)\n",
        "print(Y)\n"
      ]
    },
    {
      "cell_type": "markdown",
      "metadata": {
        "id": "bIm8sjm1lOvw"
      },
      "source": [
        "#### 59. How to sort an array by the nth column? (★★☆) \n",
        "(**hint**: argsort)"
      ]
    },
    {
      "cell_type": "code",
      "execution_count": 67,
      "metadata": {
        "id": "pFXhFt5IlOvw",
        "colab": {
          "base_uri": "https://localhost:8080/"
        },
        "outputId": "08792c34-6bc8-4590-bf87-b3bfdbe904b9"
      },
      "outputs": [
        {
          "output_type": "execute_result",
          "data": {
            "text/plain": [
              "array([0, 2, 1, 3])"
            ]
          },
          "metadata": {},
          "execution_count": 67
        }
      ],
      "source": [
        "a=np.array([1,3,2,7])\n",
        "m=np.argsort(a)\n",
        "m"
      ]
    },
    {
      "cell_type": "markdown",
      "metadata": {
        "id": "zEVbL4YnlOvw"
      },
      "source": [
        "#### 60. How to tell if a given 2D array has null columns? (★★☆) \n",
        "(**hint**: any, ~)"
      ]
    },
    {
      "cell_type": "code",
      "execution_count": 68,
      "metadata": {
        "id": "vke1EeUalOvx",
        "colab": {
          "base_uri": "https://localhost:8080/"
        },
        "outputId": "1bd692dc-22f4-40c8-d353-a42102521b83"
      },
      "outputs": [
        {
          "output_type": "stream",
          "name": "stdout",
          "text": [
            "[[1 0]\n",
            " [2 0]]\n",
            "True\n"
          ]
        }
      ],
      "source": [
        "a=np.array([1,0,2,0])\n",
        "b=a.reshape(2,2)\n",
        "print(b)\n",
        "print((~b.any(axis=0)).any())"
      ]
    },
    {
      "cell_type": "markdown",
      "metadata": {
        "id": "Tf3kbqr3lOvx"
      },
      "source": [
        "#### 61. Find the nearest value from a given value in an array (★★☆) \n",
        "(**hint**: np.abs, argmin, flat)"
      ]
    },
    {
      "cell_type": "code",
      "execution_count": 69,
      "metadata": {
        "id": "X_sFMaKMlOvx",
        "colab": {
          "base_uri": "https://localhost:8080/"
        },
        "outputId": "24871764-730e-4e7b-b66f-c973a966a410"
      },
      "outputs": [
        {
          "output_type": "stream",
          "name": "stdout",
          "text": [
            "Array is :  [8 7 1 5 3 4]\n",
            "Nearest element to the given values is :  1\n",
            "Index of nearest value is :  2\n"
          ]
        }
      ],
      "source": [
        "arr = np.array([8, 7, 1, 5, 3, 4])\n",
        "print(\"Array is : \", arr)\n",
        "x = 2\n",
        "new = np.absolute(arr-x)\n",
        "index = new.argmin()\n",
        "print(\"Nearest element to the given values is : \", arr[index])\n",
        "print(\"Index of nearest value is : \", index)"
      ]
    },
    {
      "cell_type": "markdown",
      "metadata": {
        "id": "VAn1_j2GlOvx"
      },
      "source": [
        "#### 62. Considering two arrays with shape (1,3) and (3,1), how to compute their sum using an iterator? (★★☆) \n",
        "(**hint**: np.nditer)"
      ]
    },
    {
      "cell_type": "code",
      "execution_count": 70,
      "metadata": {
        "id": "n3FYUOnllOvx",
        "colab": {
          "base_uri": "https://localhost:8080/"
        },
        "outputId": "f93091c3-e034-415c-bca5-6d4bcd504807"
      },
      "outputs": [
        {
          "output_type": "stream",
          "name": "stdout",
          "text": [
            "[[0 1 2]\n",
            " [1 2 3]\n",
            " [2 3 4]]\n"
          ]
        }
      ],
      "source": [
        "A = np.arange(3).reshape(3,1)\n",
        "B = np.arange(3).reshape(1,3)\n",
        "it = np.nditer([A,B,None])\n",
        "for x,y,z in it: z[...] = x + y\n",
        "print(it.operands[2])"
      ]
    },
    {
      "cell_type": "markdown",
      "metadata": {
        "id": "5DdL2mtllOvx"
      },
      "source": [
        "#### 63. Create an array class that has a name attribute (★★☆) \n",
        "(**hint**: class method)"
      ]
    },
    {
      "cell_type": "code",
      "execution_count": 71,
      "metadata": {
        "id": "b8SF2DkLlOvx",
        "colab": {
          "base_uri": "https://localhost:8080/"
        },
        "outputId": "1634ac23-5cfe-4ce2-8e91-599a0761ca97"
      },
      "outputs": [
        {
          "output_type": "stream",
          "name": "stdout",
          "text": [
            "range_10\n"
          ]
        }
      ],
      "source": [
        "class NamedArray(np.ndarray):\n",
        "    def __new__(cls, array, name=\"no name\"):\n",
        "        obj = np.asarray(array).view(cls)\n",
        "        obj.name = name\n",
        "        return obj\n",
        "    def __array_finalize__(self, obj):\n",
        "        if obj is None: return\n",
        "        self.info = getattr(obj, 'name', \"no name\")\n",
        "\n",
        "Z = NamedArray(np.arange(10), \"range_10\")\n",
        "print (Z.name)"
      ]
    },
    {
      "cell_type": "markdown",
      "metadata": {
        "id": "OIoaLjGplOvx"
      },
      "source": [
        "#### 64. Consider a given vector, how to add 1 to each element indexed by a second vector (be careful with repeated indices)? (★★★) \n",
        "(**hint**: np.bincount | np.add.at)"
      ]
    },
    {
      "cell_type": "code",
      "execution_count": 72,
      "metadata": {
        "id": "eAyORnX5lOvy",
        "colab": {
          "base_uri": "https://localhost:8080/"
        },
        "outputId": "7faf55ef-412c-4ab9-eac1-7634ca63a142"
      },
      "outputs": [
        {
          "output_type": "stream",
          "name": "stdout",
          "text": [
            "[2. 3. 4. ... 3. 5. 4.]\n"
          ]
        }
      ],
      "source": [
        "Z = np.ones(10)\n",
        "I = np.random.randint(0,len(Z),20)\n",
        "Z += np.bincount(I, minlength=len(Z))\n",
        "print(Z)"
      ]
    },
    {
      "cell_type": "markdown",
      "metadata": {
        "id": "SPig2jBJlOvy"
      },
      "source": [
        "#### 65. How to accumulate elements of a vector (X) to an array (F) based on an index list (I)? (★★★) \n",
        "(**hint**: np.bincount)"
      ]
    },
    {
      "cell_type": "code",
      "execution_count": 73,
      "metadata": {
        "id": "TXDdiFX3lOvy",
        "colab": {
          "base_uri": "https://localhost:8080/"
        },
        "outputId": "67694c9e-e967-40ce-cda1-66570e4890e7"
      },
      "outputs": [
        {
          "output_type": "stream",
          "name": "stdout",
          "text": [
            "[0. 7. 0. ... 0. 0. 3.]\n"
          ]
        }
      ],
      "source": [
        "X = [1,2,3,4,5,6]\n",
        "I = [1,3,9,3,4,1]\n",
        "F = np.bincount(I,X)\n",
        "print(F)"
      ]
    },
    {
      "cell_type": "markdown",
      "metadata": {
        "id": "CnPsgc-vlOvy"
      },
      "source": [
        "#### 66. Considering a (w,h,3) image of (dtype=ubyte), compute the number of unique colors (★★★) \n",
        "(**hint**: np.unique)"
      ]
    },
    {
      "cell_type": "code",
      "execution_count": 74,
      "metadata": {
        "id": "ook88SXdlOvy",
        "colab": {
          "base_uri": "https://localhost:8080/"
        },
        "outputId": "4edb3dc4-9752-4edf-fdab-71e2487e81ff"
      },
      "outputs": [
        {
          "output_type": "stream",
          "name": "stdout",
          "text": [
            "64\n"
          ]
        }
      ],
      "source": [
        "w, h = 256, 256\n",
        "I = np.random.randint(0, 4, (h, w, 3)).astype(np.ubyte)\n",
        "colors = np.unique(I.reshape(-1, 3), axis=0)\n",
        "n = len(colors)\n",
        "print(n)"
      ]
    },
    {
      "cell_type": "markdown",
      "metadata": {
        "id": "J3hynrY7lOvy"
      },
      "source": [
        "#### 67. Considering a four dimensions array, how to get sum over the last two axis at once? (★★★) \n",
        "(**hint**: sum(axis=(-2,-1)))"
      ]
    },
    {
      "cell_type": "code",
      "execution_count": 75,
      "metadata": {
        "id": "fLVSCms1lOvy",
        "colab": {
          "base_uri": "https://localhost:8080/"
        },
        "outputId": "1c57ad60-41a4-4342-d9e0-9cc3c94c7720"
      },
      "outputs": [
        {
          "output_type": "stream",
          "name": "stdout",
          "text": [
            "[[61 72 63 47]\n",
            " [44 55 48 57]\n",
            " [44 59 62 62]]\n",
            "[[61 72 63 47]\n",
            " [44 55 48 57]\n",
            " [44 59 62 62]]\n"
          ]
        }
      ],
      "source": [
        "A = np.random.randint(0,10,(3,4,3,4))\n",
        "sum = A.sum(axis=(-2,-1))\n",
        "print(sum)\n",
        "sum = A.reshape(A.shape[:-2] + (-1,)).sum(axis=-1)\n",
        "print(sum)"
      ]
    },
    {
      "cell_type": "markdown",
      "metadata": {
        "id": "-XHN_A70lOvy"
      },
      "source": [
        "#### 68. Considering a one-dimensional vector D, how to compute means of subsets of D using a vector S of same size describing subset  indices? (★★★) \n",
        "(**hint**: np.bincount)"
      ]
    },
    {
      "cell_type": "code",
      "execution_count": 76,
      "metadata": {
        "id": "UlOPQWCmlOvz",
        "colab": {
          "base_uri": "https://localhost:8080/"
        },
        "outputId": "74169b5e-24de-4bb8-a836-a52240cf8ee1"
      },
      "outputs": [
        {
          "output_type": "stream",
          "name": "stdout",
          "text": [
            "[0.51184005 0.53745816 0.50914301 ... 0.57201559 0.44490513 0.38408565]\n",
            "0    0.511840\n",
            "1    0.537458\n",
            "2    0.509143\n",
            "3    0.626263\n",
            "4    0.458150\n",
            "5    0.411327\n",
            "6    0.527071\n",
            "7    0.572016\n",
            "8    0.444905\n",
            "9    0.384086\n",
            "dtype: float64\n"
          ]
        }
      ],
      "source": [
        "D = np.random.uniform(0,1,100)\n",
        "S = np.random.randint(0,10,100)\n",
        "D_sums = np.bincount(S, weights=D)\n",
        "D_counts = np.bincount(S)\n",
        "D_means = D_sums / D_counts\n",
        "print(D_means)\n",
        "\n",
        "import pandas as pd\n",
        "print(pd.Series(D).groupby(S).mean())"
      ]
    },
    {
      "cell_type": "markdown",
      "metadata": {
        "id": "IwffXwVklOvz"
      },
      "source": [
        "#### 69. How to get the diagonal of a dot product? (★★★) \n",
        "(**hint**: np.diag)"
      ]
    },
    {
      "cell_type": "code",
      "execution_count": 77,
      "metadata": {
        "id": "64UxyysGlOvz",
        "colab": {
          "base_uri": "https://localhost:8080/"
        },
        "outputId": "75ecd900-ee0d-4e25-b98a-b0816cc8b373"
      },
      "outputs": [
        {
          "output_type": "execute_result",
          "data": {
            "text/plain": [
              "array([1.09138701, 0.90815883, 1.26054714, 1.20092684, 1.52327839])"
            ]
          },
          "metadata": {},
          "execution_count": 77
        }
      ],
      "source": [
        "A = np.random.uniform(0,1,(5,5))\n",
        "B = np.random.uniform(0,1,(5,5))\n",
        "\n",
        "np.diag(np.dot(A, B))"
      ]
    },
    {
      "cell_type": "markdown",
      "metadata": {
        "id": "MSjjVFbZlOvz"
      },
      "source": [
        "#### 70. Consider the vector \\[1, 2, 3, 4, 5\\], how to build a new vector with 3 consecutive zeros interleaved between each value? (★★★) \n",
        "(**hint**: array\\[::4\\])"
      ]
    },
    {
      "cell_type": "code",
      "execution_count": 78,
      "metadata": {
        "id": "KqjwOi5YlOvz",
        "colab": {
          "base_uri": "https://localhost:8080/"
        },
        "outputId": "91241637-3fb6-4c4e-b799-228daa9c932c"
      },
      "outputs": [
        {
          "output_type": "stream",
          "name": "stdout",
          "text": [
            "[1. 0. 0. ... 0. 0. 5.]\n"
          ]
        }
      ],
      "source": [
        "Z = np.array([1,2,3,4,5])\n",
        "nz = 3\n",
        "Z0 = np.zeros(len(Z) + (len(Z)-1)*(nz))\n",
        "Z0[::nz+1] = Z\n",
        "print(Z0)"
      ]
    },
    {
      "cell_type": "markdown",
      "metadata": {
        "id": "ukRN-SsrlOvz"
      },
      "source": [
        "#### 71. Consider an array of dimension (5,5,3), how to mulitply it by an array with dimensions (5,5)? (★★★) \n",
        "(**hint**: array\\[:, :, None\\])"
      ]
    },
    {
      "cell_type": "code",
      "execution_count": 79,
      "metadata": {
        "collapsed": true,
        "id": "EvX8uyNRlOvz",
        "colab": {
          "base_uri": "https://localhost:8080/"
        },
        "outputId": "576cd878-2b76-4280-84e4-b6145c9fcd01"
      },
      "outputs": [
        {
          "output_type": "stream",
          "name": "stdout",
          "text": [
            "[[[2. 2. 2.]\n",
            "  [2. 2. 2.]\n",
            "  [2. 2. 2.]\n",
            "  [2. 2. 2.]\n",
            "  [2. 2. 2.]]\n",
            "\n",
            " [[2. 2. 2.]\n",
            "  [2. 2. 2.]\n",
            "  [2. 2. 2.]\n",
            "  [2. 2. 2.]\n",
            "  [2. 2. 2.]]\n",
            "\n",
            " [[2. 2. 2.]\n",
            "  [2. 2. 2.]\n",
            "  [2. 2. 2.]\n",
            "  [2. 2. 2.]\n",
            "  [2. 2. 2.]]\n",
            "\n",
            " [[2. 2. 2.]\n",
            "  [2. 2. 2.]\n",
            "  [2. 2. 2.]\n",
            "  [2. 2. 2.]\n",
            "  [2. 2. 2.]]\n",
            "\n",
            " [[2. 2. 2.]\n",
            "  [2. 2. 2.]\n",
            "  [2. 2. 2.]\n",
            "  [2. 2. 2.]\n",
            "  [2. 2. 2.]]]\n"
          ]
        }
      ],
      "source": [
        "A = np.ones((5,5,3))\n",
        "B = 2*np.ones((5,5))\n",
        "print(A * B[:,:,None])"
      ]
    },
    {
      "cell_type": "markdown",
      "metadata": {
        "id": "dPlS1sHHlOvz"
      },
      "source": [
        "#### 72. How to swap two rows of an array? (★★★) \n",
        "(**hint**: array\\[\\[\\]\\] = array\\[\\[\\]\\])"
      ]
    },
    {
      "cell_type": "code",
      "execution_count": 80,
      "metadata": {
        "id": "p6fmMss2lOv0",
        "colab": {
          "base_uri": "https://localhost:8080/"
        },
        "outputId": "02513530-6b2b-4d0a-f795-8efd2e3209f8"
      },
      "outputs": [
        {
          "output_type": "stream",
          "name": "stdout",
          "text": [
            "[[ 5  6  7  8  9]\n",
            " [ 0  1  2  3  4]\n",
            " [10 11 12 13 14]\n",
            " [15 16 17 18 19]\n",
            " [20 21 22 23 24]]\n"
          ]
        }
      ],
      "source": [
        "A = np.arange(25).reshape(5,5)\n",
        "A[[0,1]] = A[[1,0]]\n",
        "print(A)"
      ]
    },
    {
      "cell_type": "markdown",
      "metadata": {
        "id": "j-dn3Y2IlOv0"
      },
      "source": [
        "#### 73. Consider a set of 10 triplets describing 10 triangles (with shared vertices), find the set of unique line segments composing all the  triangles (★★★) \n",
        "(**hint**: repeat, np.roll, np.sort, view, np.unique)"
      ]
    },
    {
      "cell_type": "code",
      "execution_count": 81,
      "metadata": {
        "id": "2MWLE_RzlOv0",
        "colab": {
          "base_uri": "https://localhost:8080/"
        },
        "outputId": "e44274e7-e204-462c-ef38-3e8edf6077dc"
      },
      "outputs": [
        {
          "output_type": "stream",
          "name": "stdout",
          "text": [
            "[( 6, 64) ( 8, 63) ( 8, 72) ... (65, 84) (73, 96) (86, 96)]\n"
          ]
        }
      ],
      "source": [
        "faces = np.random.randint(0,100,(10,3))\n",
        "F = np.roll(faces.repeat(2,axis=1),-1,axis=1)\n",
        "F = F.reshape(len(F)*3,2)\n",
        "F = np.sort(F,axis=1)\n",
        "G = F.view( dtype=[('p0',F.dtype),('p1',F.dtype)] )\n",
        "G = np.unique(G)\n",
        "print(G)"
      ]
    },
    {
      "cell_type": "markdown",
      "metadata": {
        "id": "MSJOCGB4lOv0"
      },
      "source": [
        "#### 74. Given an array C that is a bincount, how to produce an array A such that np.bincount(A) == C? (★★★) \n",
        "(**hint**: np.repeat)"
      ]
    },
    {
      "cell_type": "code",
      "execution_count": 82,
      "metadata": {
        "id": "vD1M4X04lOv0",
        "colab": {
          "base_uri": "https://localhost:8080/"
        },
        "outputId": "2f0171d9-cef1-425f-8682-155009fef962"
      },
      "outputs": [
        {
          "output_type": "stream",
          "name": "stdout",
          "text": [
            "[1 1 2 ... 4 4 6]\n"
          ]
        }
      ],
      "source": [
        "C = np.bincount([1,1,2,3,4,4,6])\n",
        "A = np.repeat(np.arange(len(C)), C)\n",
        "print(A)"
      ]
    },
    {
      "cell_type": "markdown",
      "metadata": {
        "id": "HEgs8_UclOv0"
      },
      "source": [
        "#### 75. How to compute averages using a sliding window over an array? (★★★) \n",
        "(**hint**: np.cumsum)"
      ]
    },
    {
      "cell_type": "code",
      "execution_count": 83,
      "metadata": {
        "id": "dQ1URALalOv0",
        "colab": {
          "base_uri": "https://localhost:8080/"
        },
        "outputId": "aa3f874d-e7cb-4e31-8a24-575452ca7b0c"
      },
      "outputs": [
        {
          "output_type": "stream",
          "name": "stdout",
          "text": [
            "[ 1.  2.  3. ... 16. 17. 18.]\n"
          ]
        }
      ],
      "source": [
        "def moving_average(a, n=3) :\n",
        "    ret = np.cumsum(a, dtype=float)\n",
        "    ret[n:] = ret[n:] - ret[:-n]\n",
        "    return ret[n - 1:] / n\n",
        "Z = np.arange(20)\n",
        "print(moving_average(Z, n=3))"
      ]
    },
    {
      "cell_type": "markdown",
      "metadata": {
        "id": "9qI-EoXDlOv0"
      },
      "source": [
        "#### 76. Consider a one-dimensional array Z, build a two-dimensional array whose first row is (Z\\[0\\],Z\\[1\\],Z\\[2\\]) and each subsequent row is  shifted by 1 (last row should be (Z\\[-3\\],Z\\[-2\\],Z\\[-1\\]) (★★★) \n",
        "(**hint**: from numpy.lib import stride_tricks)"
      ]
    },
    {
      "cell_type": "code",
      "execution_count": 84,
      "metadata": {
        "id": "FgRKN5t4lOv1",
        "colab": {
          "base_uri": "https://localhost:8080/"
        },
        "outputId": "a7c5d9c1-1438-477d-f093-4a3f3c65dc3e"
      },
      "outputs": [
        {
          "output_type": "stream",
          "name": "stdout",
          "text": [
            "[[0 1 2]\n",
            " [1 2 3]\n",
            " [2 3 4]\n",
            " ...\n",
            " [5 6 7]\n",
            " [6 7 8]\n",
            " [7 8 9]]\n"
          ]
        }
      ],
      "source": [
        "from numpy.lib import stride_tricks\n",
        "\n",
        "def rolling(a, window):\n",
        "    shape = (a.size - window + 1, window)\n",
        "    strides = (a.strides[0], a.strides[0])\n",
        "    return stride_tricks.as_strided(a, shape=shape, strides=strides)\n",
        "Z = rolling(np.arange(10), 3)\n",
        "print(Z)"
      ]
    },
    {
      "cell_type": "markdown",
      "metadata": {
        "id": "PejhLotSlOv1"
      },
      "source": [
        "#### 77. How to negate a boolean, or to change the sign of a float inplace? (★★★) \n",
        "(**hint**: np.logical_not, np.negative)"
      ]
    },
    {
      "cell_type": "code",
      "execution_count": 85,
      "metadata": {
        "id": "UkLcC2QUlOv1",
        "colab": {
          "base_uri": "https://localhost:8080/"
        },
        "outputId": "711dc371-0ee2-458d-8d28-3bc358b696eb"
      },
      "outputs": [
        {
          "output_type": "execute_result",
          "data": {
            "text/plain": [
              "array([ 0.86905188, -0.83921942, -0.95203796, ...,  0.79303653,\n",
              "       -0.54093636, -0.20234735])"
            ]
          },
          "metadata": {},
          "execution_count": 85
        }
      ],
      "source": [
        "Z = np.random.randint(0,2,100)\n",
        "np.logical_not(Z, out=Z)\n",
        "\n",
        "Z = np.random.uniform(-1.0,1.0,100)\n",
        "np.negative(Z, out=Z)"
      ]
    },
    {
      "cell_type": "markdown",
      "metadata": {
        "id": "LewRh56HlOv1"
      },
      "source": [
        "#### 78. Consider 2 sets of points P0,P1 describing lines (2d) and a point p, how to compute distance from p to each line i  (P0\\[i\\],P1\\[i\\])? (★★★)"
      ]
    },
    {
      "cell_type": "code",
      "execution_count": 86,
      "metadata": {
        "id": "xssKQ3WulOv1",
        "colab": {
          "base_uri": "https://localhost:8080/"
        },
        "outputId": "2bc66b54-298e-443a-d5e3-7ef3751ba251"
      },
      "outputs": [
        {
          "output_type": "stream",
          "name": "stdout",
          "text": [
            "[ 2.7836033  11.848669    8.91971032 ... 14.21247004 14.17946962\n",
            " 14.2841945 ]\n"
          ]
        }
      ],
      "source": [
        "def distance(P0, P1, p):\n",
        "    T = P1 - P0\n",
        "    L = (T**2).sum(axis=1)\n",
        "    U = -((P0[:,0]-p[...,0])*T[:,0] + (P0[:,1]-p[...,1])*T[:,1]) / L\n",
        "    U = U.reshape(len(U),1)\n",
        "    D = P0 + U*T - p\n",
        "    return np.sqrt((D**2).sum(axis=1))\n",
        "\n",
        "P0 = np.random.uniform(-10,10,(10,2))\n",
        "P1 = np.random.uniform(-10,10,(10,2))\n",
        "p  = np.random.uniform(-10,10,( 1,2))\n",
        "print(distance(P0, P1, p))"
      ]
    },
    {
      "cell_type": "markdown",
      "metadata": {
        "id": "P1CNkbT0lOv1"
      },
      "source": [
        "#### 79. Consider 2 sets of points P0,P1 describing lines (2d) and a set of points P, how to compute distance from each point j (P\\[j\\]) to each line i (P0\\[i\\],P1\\[i\\])? (★★★)"
      ]
    },
    {
      "cell_type": "code",
      "execution_count": 87,
      "metadata": {
        "id": "_VOD-sEGlOv1",
        "colab": {
          "base_uri": "https://localhost:8080/"
        },
        "outputId": "bccaae05-4b42-4980-cdb1-90f9fdb73019"
      },
      "outputs": [
        {
          "output_type": "stream",
          "name": "stdout",
          "text": [
            "[[11.76342682  4.90663675  1.05163099 ...  5.45959724  3.88640813\n",
            "   6.25027259]\n",
            " [ 4.15910909  7.36433977 13.75929552 ...  1.92937076  7.35297676\n",
            "   1.30772302]\n",
            " [ 6.32082546  1.06311572  0.19463336 ...  0.2291383   0.20677204\n",
            "   8.66776443]\n",
            " ...\n",
            " [ 2.28412755  0.33409351 14.23984524 ...  9.55191535 13.43848284\n",
            "   5.94751881]\n",
            " [ 5.8473503  10.11948715 11.88504584 ...  1.74060118  3.73620279\n",
            "   1.98694316]\n",
            " [ 8.85196498  5.17741998  7.6134131  ... 10.51333102 11.41042813\n",
            "   2.21503535]]\n"
          ]
        }
      ],
      "source": [
        "P0 = np.random.uniform(-10, 10, (10,2))\n",
        "P1 = np.random.uniform(-10,10,(10,2))\n",
        "p = np.random.uniform(-10, 10, (10,2))\n",
        "print(np.array([distance(P0,P1,p_i) for p_i in p]))"
      ]
    },
    {
      "cell_type": "markdown",
      "metadata": {
        "id": "bh0IP2SPlOv2"
      },
      "source": [
        "#### 80. Consider an arbitrary array, write a function that extract a subpart with a fixed shape and centered on a given element (pad with a `fill` value when necessary) (★★★) \n",
        "(**hint**: minimum, maximum)"
      ]
    },
    {
      "cell_type": "code",
      "execution_count": 88,
      "metadata": {
        "id": "b38c2VDzlOv2",
        "colab": {
          "base_uri": "https://localhost:8080/"
        },
        "outputId": "3531bb47-735f-4de7-8b66-558042d0bbe0"
      },
      "outputs": [
        {
          "output_type": "stream",
          "name": "stdout",
          "text": [
            "[[4 9 8 ... 8 0 5]\n",
            " [5 6 3 ... 6 7 5]\n",
            " [7 9 8 ... 4 8 1]\n",
            " ...\n",
            " [0 1 7 ... 8 4 6]\n",
            " [0 9 7 ... 2 7 8]\n",
            " [6 4 4 ... 1 0 6]]\n",
            "[[0 0 0 0 0]\n",
            " [0 4 9 8 3]\n",
            " [0 5 6 3 7]\n",
            " [0 7 9 8 9]\n",
            " [0 9 1 5 0]]\n"
          ]
        },
        {
          "output_type": "stream",
          "name": "stderr",
          "text": [
            "/usr/local/lib/python3.7/dist-packages/ipykernel_launcher.py:23: FutureWarning: Using a non-tuple sequence for multidimensional indexing is deprecated; use `arr[tuple(seq)]` instead of `arr[seq]`. In the future this will be interpreted as an array index, `arr[np.array(seq)]`, which will result either in an error or a different result.\n"
          ]
        }
      ],
      "source": [
        "Z = np.random.randint(0,10,(10,10))\n",
        "shape = (5,5)\n",
        "fill  = 0\n",
        "position = (1,1)\n",
        "\n",
        "R = np.ones(shape, dtype=Z.dtype)*fill\n",
        "P  = np.array(list(position)).astype(int)\n",
        "Rs = np.array(list(R.shape)).astype(int)\n",
        "Zs = np.array(list(Z.shape)).astype(int)\n",
        "\n",
        "R_start = np.zeros((len(shape),)).astype(int)\n",
        "R_stop  = np.array(list(shape)).astype(int)\n",
        "Z_start = (P-Rs//2)\n",
        "Z_stop  = (P+Rs//2)+Rs%2\n",
        "\n",
        "R_start = (R_start - np.minimum(Z_start,0)).tolist()\n",
        "Z_start = (np.maximum(Z_start,0)).tolist()\n",
        "R_stop = np.maximum(R_start, (R_stop - np.maximum(Z_stop-Zs,0))).tolist()\n",
        "Z_stop = (np.minimum(Z_stop,Zs)).tolist()\n",
        "\n",
        "r = [slice(start,stop) for start,stop in zip(R_start,R_stop)]\n",
        "z = [slice(start,stop) for start,stop in zip(Z_start,Z_stop)]\n",
        "R[r] = Z[z]\n",
        "print(Z)\n",
        "print(R)"
      ]
    },
    {
      "cell_type": "markdown",
      "metadata": {
        "id": "h0_wIapklOv2"
      },
      "source": [
        "#### 81. Consider an array Z = \\[1,2,3,4,5,6,7,8,9,10,11,12,13,14\\], how to generate an array R = \\[\\[1,2,3,4\\], \\[2,3,4,5\\], \\[3,4,5,6\\], ..., \\[11,12,13,14\\]\\]? (★★★) \n",
        "(**hint**: stride\\_tricks.as\\_strided)"
      ]
    },
    {
      "cell_type": "code",
      "execution_count": 89,
      "metadata": {
        "id": "vbg2uMDflOv2",
        "colab": {
          "base_uri": "https://localhost:8080/"
        },
        "outputId": "44d221b9-d01c-4f88-fcac-65a78010a7b1"
      },
      "outputs": [
        {
          "output_type": "stream",
          "name": "stdout",
          "text": [
            "[[ 1  2  3  4]\n",
            " [ 2  3  4  5]\n",
            " [ 3  4  5  6]\n",
            " ...\n",
            " [ 9 10 11 12]\n",
            " [10 11 12 13]\n",
            " [11 12 13 14]]\n"
          ]
        }
      ],
      "source": [
        "Z = np.arange(1,15,dtype=np.uint32)\n",
        "R = stride_tricks.as_strided(Z,(11,4),(4,4))\n",
        "print(R)"
      ]
    },
    {
      "cell_type": "markdown",
      "metadata": {
        "id": "sxcZgaQ3lOv2"
      },
      "source": [
        "#### 82. Compute a matrix rank (★★★) \n",
        "(**hint**: np.linalg.svd) (suggestion: np.linalg.svd)"
      ]
    },
    {
      "cell_type": "code",
      "execution_count": 90,
      "metadata": {
        "id": "0no74d1JlOv2",
        "colab": {
          "base_uri": "https://localhost:8080/"
        },
        "outputId": "8c60531f-0e30-4345-91b9-c31b375b946e"
      },
      "outputs": [
        {
          "output_type": "stream",
          "name": "stdout",
          "text": [
            "10\n"
          ]
        }
      ],
      "source": [
        "Z = np.random.uniform(0,1,(10,10))\n",
        "U, S, V = np.linalg.svd(Z) # Singular Value Decomposition\n",
        "rank = np.sum(S > 1e-10)\n",
        "print(rank)"
      ]
    },
    {
      "cell_type": "markdown",
      "metadata": {
        "id": "Beg2i3Z1lOv2"
      },
      "source": [
        "#### 83. How to find the most frequent value in an array? \n",
        "(**hint**: np.bincount, argmax)"
      ]
    },
    {
      "cell_type": "code",
      "execution_count": 91,
      "metadata": {
        "id": "O-Z5S2Q_lOv2",
        "colab": {
          "base_uri": "https://localhost:8080/"
        },
        "outputId": "3fc134c8-4c12-4dba-d65e-789087057a3a"
      },
      "outputs": [
        {
          "output_type": "stream",
          "name": "stdout",
          "text": [
            "0\n"
          ]
        }
      ],
      "source": [
        "Z = np.random.randint(0,10,50)\n",
        "print(np.bincount(Z).argmax())"
      ]
    },
    {
      "cell_type": "markdown",
      "metadata": {
        "id": "s4QgkXWelOv2"
      },
      "source": [
        "#### 84. Extract all the contiguous 3x3 blocks from a random 10x10 matrix (★★★) \n",
        "(**hint**: stride\\_tricks.as\\_strided)"
      ]
    },
    {
      "cell_type": "code",
      "execution_count": 92,
      "metadata": {
        "id": "LqNGmLwBlOv3",
        "colab": {
          "base_uri": "https://localhost:8080/"
        },
        "outputId": "b62af93d-348e-4ff7-b37f-1b16237a50a2"
      },
      "outputs": [
        {
          "output_type": "stream",
          "name": "stdout",
          "text": [
            "[[[[3 1 2]\n",
            "   [2 3 1]\n",
            "   [2 2 4]]\n",
            "\n",
            "  [[1 2 1]\n",
            "   [3 1 3]\n",
            "   [2 4 3]]\n",
            "\n",
            "  [[2 1 3]\n",
            "   [1 3 0]\n",
            "   [4 3 4]]\n",
            "\n",
            "  ...\n",
            "\n",
            "  [[4 4 4]\n",
            "   [0 3 4]\n",
            "   [4 0 3]]\n",
            "\n",
            "  [[4 4 0]\n",
            "   [3 4 0]\n",
            "   [0 3 3]]\n",
            "\n",
            "  [[4 0 2]\n",
            "   [4 0 1]\n",
            "   [3 3 1]]]\n",
            "\n",
            "\n",
            " [[[2 3 1]\n",
            "   [2 2 4]\n",
            "   [2 4 4]]\n",
            "\n",
            "  [[3 1 3]\n",
            "   [2 4 3]\n",
            "   [4 4 2]]\n",
            "\n",
            "  [[1 3 0]\n",
            "   [4 3 4]\n",
            "   [4 2 2]]\n",
            "\n",
            "  ...\n",
            "\n",
            "  [[0 3 4]\n",
            "   [4 0 3]\n",
            "   [1 3 0]]\n",
            "\n",
            "  [[3 4 0]\n",
            "   [0 3 3]\n",
            "   [3 0 3]]\n",
            "\n",
            "  [[4 0 1]\n",
            "   [3 3 1]\n",
            "   [0 3 3]]]\n",
            "\n",
            "\n",
            " [[[2 2 4]\n",
            "   [2 4 4]\n",
            "   [1 4 4]]\n",
            "\n",
            "  [[2 4 3]\n",
            "   [4 4 2]\n",
            "   [4 4 1]]\n",
            "\n",
            "  [[4 3 4]\n",
            "   [4 2 2]\n",
            "   [4 1 3]]\n",
            "\n",
            "  ...\n",
            "\n",
            "  [[4 0 3]\n",
            "   [1 3 0]\n",
            "   [1 1 3]]\n",
            "\n",
            "  [[0 3 3]\n",
            "   [3 0 3]\n",
            "   [1 3 3]]\n",
            "\n",
            "  [[3 3 1]\n",
            "   [0 3 3]\n",
            "   [3 3 1]]]\n",
            "\n",
            "\n",
            " ...\n",
            "\n",
            "\n",
            " [[[4 2 0]\n",
            "   [4 1 0]\n",
            "   [4 1 3]]\n",
            "\n",
            "  [[2 0 0]\n",
            "   [1 0 0]\n",
            "   [1 3 3]]\n",
            "\n",
            "  [[0 0 4]\n",
            "   [0 0 4]\n",
            "   [3 3 3]]\n",
            "\n",
            "  ...\n",
            "\n",
            "  [[4 3 4]\n",
            "   [3 0 2]\n",
            "   [4 2 0]]\n",
            "\n",
            "  [[3 4 4]\n",
            "   [0 2 0]\n",
            "   [2 0 4]]\n",
            "\n",
            "  [[4 4 4]\n",
            "   [2 0 0]\n",
            "   [0 4 0]]]\n",
            "\n",
            "\n",
            " [[[4 1 0]\n",
            "   [4 1 3]\n",
            "   [0 1 3]]\n",
            "\n",
            "  [[1 0 0]\n",
            "   [1 3 3]\n",
            "   [1 3 3]]\n",
            "\n",
            "  [[0 0 4]\n",
            "   [3 3 3]\n",
            "   [3 3 4]]\n",
            "\n",
            "  ...\n",
            "\n",
            "  [[3 0 2]\n",
            "   [4 2 0]\n",
            "   [1 3 4]]\n",
            "\n",
            "  [[0 2 0]\n",
            "   [2 0 4]\n",
            "   [3 4 4]]\n",
            "\n",
            "  [[2 0 0]\n",
            "   [0 4 0]\n",
            "   [4 4 4]]]\n",
            "\n",
            "\n",
            " [[[4 1 3]\n",
            "   [0 1 3]\n",
            "   [4 0 0]]\n",
            "\n",
            "  [[1 3 3]\n",
            "   [1 3 3]\n",
            "   [0 0 4]]\n",
            "\n",
            "  [[3 3 3]\n",
            "   [3 3 4]\n",
            "   [0 4 2]]\n",
            "\n",
            "  ...\n",
            "\n",
            "  [[4 2 0]\n",
            "   [1 3 4]\n",
            "   [2 2 2]]\n",
            "\n",
            "  [[2 0 4]\n",
            "   [3 4 4]\n",
            "   [2 2 2]]\n",
            "\n",
            "  [[0 4 0]\n",
            "   [4 4 4]\n",
            "   [2 2 1]]]]\n"
          ]
        }
      ],
      "source": [
        "Z = np.random.randint(0,5,(10,10))\n",
        "n = 3\n",
        "i = 1 + (Z.shape[0]-3)\n",
        "j = 1 + (Z.shape[1]-3)\n",
        "C = stride_tricks.as_strided(Z, shape=(i, j, n, n), strides=Z.strides + Z.strides)\n",
        "print(C)"
      ]
    },
    {
      "cell_type": "markdown",
      "metadata": {
        "id": "EiKPUETIlOv3"
      },
      "source": [
        "#### 85. Create a 2D array subclass such that Z\\[i,j\\] == Z\\[j,i\\] (★★★) \n",
        "(**hint**: class method)"
      ]
    },
    {
      "cell_type": "code",
      "execution_count": 93,
      "metadata": {
        "id": "i0DVvnZblOv3",
        "colab": {
          "base_uri": "https://localhost:8080/"
        },
        "outputId": "7498c8a9-2030-441a-a5f6-2bd3736ef6f8"
      },
      "outputs": [
        {
          "output_type": "stream",
          "name": "stdout",
          "text": [
            "[[ 9  3 13  7 15]\n",
            " [ 3  4  7  5  9]\n",
            " [13  7  7 42 10]\n",
            " [ 7  5 42  5  8]\n",
            " [15  9 10  8  7]]\n"
          ]
        }
      ],
      "source": [
        "class Symetric(np.ndarray):\n",
        "    def __setitem__(self, index, value):\n",
        "        i,j = index\n",
        "        super(Symetric, self).__setitem__((i,j), value)\n",
        "        super(Symetric, self).__setitem__((j,i), value)\n",
        "\n",
        "def symetric(Z):\n",
        "    return np.asarray(Z + Z.T - np.diag(Z.diagonal())).view(Symetric)\n",
        "\n",
        "S = symetric(np.random.randint(0,10,(5,5)))\n",
        "S[2,3] = 42\n",
        "print(S)"
      ]
    },
    {
      "cell_type": "markdown",
      "metadata": {
        "id": "4LM9IOUelOv3"
      },
      "source": [
        "#### 86. Consider a set of p matrices wich shape (n,n) and a set of p vectors with shape (n,1). How to compute the sum of of the p matrix products at once? (result has shape (n,1)) (★★★) \n",
        "(**hint**: np.tensordot)"
      ]
    },
    {
      "cell_type": "code",
      "execution_count": 94,
      "metadata": {
        "id": "_bcgkBtjlOv3",
        "colab": {
          "base_uri": "https://localhost:8080/"
        },
        "outputId": "1db2f2a6-a362-4bdd-ca59-9983c90416f9"
      },
      "outputs": [
        {
          "output_type": "stream",
          "name": "stdout",
          "text": [
            "[[200.]\n",
            " [200.]\n",
            " [200.]\n",
            " ...\n",
            " [200.]\n",
            " [200.]\n",
            " [200.]]\n"
          ]
        }
      ],
      "source": [
        "p, n = 10, 20\n",
        "M = np.ones((p,n,n))\n",
        "V = np.ones((p,n,1))\n",
        "S = np.tensordot(M, V, axes=[[0, 2], [0, 1]])\n",
        "print(S)"
      ]
    },
    {
      "cell_type": "markdown",
      "metadata": {
        "id": "yjPWIt5JlOv3"
      },
      "source": [
        "#### 87. Consider a 16x16 array, how to get the block-sum (block size is 4x4)? (★★★) \n",
        "(**hint**: np.add.reduceat)"
      ]
    },
    {
      "cell_type": "code",
      "execution_count": 95,
      "metadata": {
        "id": "08JIACoAlOv3",
        "colab": {
          "base_uri": "https://localhost:8080/"
        },
        "outputId": "c37831e2-bbf8-46c8-8a35-d2c359e2dc79"
      },
      "outputs": [
        {
          "output_type": "stream",
          "name": "stdout",
          "text": [
            "[[16. 16. 16. 16.]\n",
            " [16. 16. 16. 16.]\n",
            " [16. 16. 16. 16.]\n",
            " [16. 16. 16. 16.]]\n"
          ]
        }
      ],
      "source": [
        "Z = np.ones((16,16))\n",
        "k = 4\n",
        "S = np.add.reduceat(np.add.reduceat(Z, np.arange(0, Z.shape[0], k), axis=0),\n",
        "                                       np.arange(0, Z.shape[1], k), axis=1)\n",
        "print(S)\n"
      ]
    },
    {
      "cell_type": "markdown",
      "metadata": {
        "id": "m_Qg4pg5lOv3"
      },
      "source": [
        "#### 88. How to implement the Game of Life using numpy arrays? (★★★)"
      ]
    },
    {
      "cell_type": "code",
      "execution_count": 96,
      "metadata": {
        "id": "zkek_zDVlOv4",
        "colab": {
          "base_uri": "https://localhost:8080/"
        },
        "outputId": "3212bdef-2ff5-4c88-f2ce-512c7307779f"
      },
      "outputs": [
        {
          "output_type": "stream",
          "name": "stdout",
          "text": [
            "[[0 0 0 ... 0 0 0]\n",
            " [0 0 0 ... 0 0 0]\n",
            " [0 0 0 ... 0 0 0]\n",
            " ...\n",
            " [0 0 0 ... 0 0 0]\n",
            " [0 0 0 ... 0 0 0]\n",
            " [0 0 0 ... 0 0 0]]\n"
          ]
        }
      ],
      "source": [
        "def iterate(Z):\n",
        "    N = (Z[0:-2,0:-2] + Z[0:-2,1:-1] + Z[0:-2,2:] +\n",
        "         Z[1:-1,0:-2]                + Z[1:-1,2:] +\n",
        "         Z[2:  ,0:-2] + Z[2:  ,1:-1] + Z[2:  ,2:])\n",
        "\n",
        "    # Apply rules\n",
        "    birth = (N==3) & (Z[1:-1,1:-1]==0)\n",
        "    survive = ((N==2) | (N==3)) & (Z[1:-1,1:-1]==1)\n",
        "    Z[...] = 0\n",
        "    Z[1:-1,1:-1][birth | survive] = 1\n",
        "    return Z\n",
        "\n",
        "Z = np.random.randint(0,2,(50,50))\n",
        "for i in range(100): Z = iterate(Z)\n",
        "print(Z)"
      ]
    },
    {
      "cell_type": "markdown",
      "metadata": {
        "id": "-xmDlzGvlOv4"
      },
      "source": [
        "#### 89. How to get the n largest values of an array (★★★) \n",
        "(**hint**: np.argsort | np.argpartition)"
      ]
    },
    {
      "cell_type": "code",
      "execution_count": 97,
      "metadata": {
        "id": "t19f0L9QlOv4",
        "colab": {
          "base_uri": "https://localhost:8080/"
        },
        "outputId": "b8487884-623f-4487-ed8f-d287d38bf813"
      },
      "outputs": [
        {
          "output_type": "stream",
          "name": "stdout",
          "text": [
            "[9995 9996 9997 9998 9999]\n",
            "[9999 9998 9997 9996 9995]\n"
          ]
        }
      ],
      "source": [
        "Z = np.arange(10000)\n",
        "np.random.shuffle(Z)\n",
        "n = 5\n",
        "\n",
        "# Slow\n",
        "print (Z[np.argsort(Z)[-n:]])\n",
        "\n",
        "# Fast\n",
        "print (Z[np.argpartition(-Z,n)[:n]])\n"
      ]
    },
    {
      "cell_type": "markdown",
      "metadata": {
        "id": "8bAEyI_YlOv4"
      },
      "source": [
        "#### 90. Given an arbitrary number of vectors, build the cartesian product (every combinations of every item) (★★★) \n",
        "(**hint**: np.indices)"
      ]
    },
    {
      "cell_type": "code",
      "execution_count": 98,
      "metadata": {
        "scrolled": true,
        "id": "NuOjgX8glOv4",
        "colab": {
          "base_uri": "https://localhost:8080/"
        },
        "outputId": "cf3163ad-0b76-49af-9e36-8f17f1f3d914"
      },
      "outputs": [
        {
          "output_type": "stream",
          "name": "stdout",
          "text": [
            "[[1 4 6]\n",
            " [1 4 7]\n",
            " [1 5 6]\n",
            " ...\n",
            " [3 4 7]\n",
            " [3 5 6]\n",
            " [3 5 7]]\n"
          ]
        }
      ],
      "source": [
        "def cartesian(arrays):\n",
        "    arrays = [np.asarray(a) for a in arrays]\n",
        "    shape = (len(x) for x in arrays)\n",
        "\n",
        "    ix = np.indices(shape, dtype=int)\n",
        "    ix = ix.reshape(len(arrays), -1).T\n",
        "\n",
        "    for n, arr in enumerate(arrays):\n",
        "        ix[:, n] = arrays[n][ix[:, n]]\n",
        "\n",
        "    return ix\n",
        "\n",
        "print (cartesian(([1, 2, 3], [4, 5], [6, 7])))"
      ]
    },
    {
      "cell_type": "markdown",
      "metadata": {
        "id": "sRSEJJ4PlOv4"
      },
      "source": [
        "#### 91. How to create a record array from a regular array? (★★★) \n",
        "(**hint**: np.core.records.fromarrays)"
      ]
    },
    {
      "cell_type": "code",
      "execution_count": 99,
      "metadata": {
        "id": "le4jBekIlOv4",
        "colab": {
          "base_uri": "https://localhost:8080/"
        },
        "outputId": "e4d41ad5-2897-47f9-ba29-968e67d7a812"
      },
      "outputs": [
        {
          "output_type": "stream",
          "name": "stdout",
          "text": [
            "[(b'Hello', 2.5, 3) (b'World', 3.6, 2)]\n"
          ]
        }
      ],
      "source": [
        "Z = np.array([(\"Hello\", 2.5, 3),\n",
        "              (\"World\", 3.6, 2)])\n",
        "R = np.core.records.fromarrays(Z.T,\n",
        "                               names='col1, col2, col3',\n",
        "                               formats = 'S8, f8, i8')\n",
        "print(R)"
      ]
    },
    {
      "cell_type": "markdown",
      "metadata": {
        "id": "tk7ACmxSlOv4"
      },
      "source": [
        "#### 92. Consider a large vector Z, compute Z to the power of 3 using 3 different methods (★★★) \n",
        "(**hint**: np.power, \\*, np.einsum)"
      ]
    },
    {
      "cell_type": "code",
      "execution_count": 100,
      "metadata": {
        "id": "FPd4Gm2RlOv5",
        "colab": {
          "base_uri": "https://localhost:8080/"
        },
        "outputId": "a58e1fa1-68d7-4872-9b6d-f4d8c00b94d9"
      },
      "outputs": [
        {
          "output_type": "stream",
          "name": "stdout",
          "text": [
            "1 loop, best of 5: 3.67 s per loop\n",
            "10 loops, best of 5: 140 ms per loop\n",
            "10 loops, best of 5: 124 ms per loop\n"
          ]
        }
      ],
      "source": [
        "x = np.random.rand(int(5e7))\n",
        "\n",
        "%timeit np.power(x,3)\n",
        "%timeit x*x*x\n",
        "%timeit np.einsum('i,i,i->i',x,x,x)"
      ]
    },
    {
      "cell_type": "markdown",
      "metadata": {
        "id": "m5-tz3FUlOv5"
      },
      "source": [
        "#### 93. Consider two arrays A and B of shape (8,3) and (2,2). How to find rows of A that contain elements of each row of B regardless of the order of the elements in B? (★★★) \n",
        "(**hint**: np.where)"
      ]
    },
    {
      "cell_type": "code",
      "execution_count": 101,
      "metadata": {
        "id": "IAxgWVAjlOv5",
        "colab": {
          "base_uri": "https://localhost:8080/"
        },
        "outputId": "def26aec-3d8c-46a3-c689-0e7592c212b8"
      },
      "outputs": [
        {
          "output_type": "stream",
          "name": "stdout",
          "text": [
            "[0 2 3 ... 5 6 7]\n"
          ]
        }
      ],
      "source": [
        "A = np.random.randint(0,5,(8,3))\n",
        "B = np.random.randint(0,5,(2,2))\n",
        "\n",
        "C = (A[..., np.newaxis, np.newaxis] == B)\n",
        "rows = np.where(C.any((3,1)).all(1))[0]\n",
        "print(rows)"
      ]
    },
    {
      "cell_type": "markdown",
      "metadata": {
        "id": "kFN2UyoTlOv5"
      },
      "source": [
        "#### 94. Considering a 10x3 matrix, extract rows with unequal values (e.g. \\[2,2,3\\]) (★★★)"
      ]
    },
    {
      "cell_type": "code",
      "execution_count": 102,
      "metadata": {
        "id": "kiiDzTfqlOv5",
        "colab": {
          "base_uri": "https://localhost:8080/"
        },
        "outputId": "46ec7c2f-5655-43b8-822f-2e00df222b92"
      },
      "outputs": [
        {
          "output_type": "stream",
          "name": "stdout",
          "text": [
            "[[1 0 3]\n",
            " [1 3 3]\n",
            " [2 2 2]\n",
            " ...\n",
            " [4 4 3]\n",
            " [0 1 0]\n",
            " [0 1 2]]\n",
            "[[1 0 3]\n",
            " [1 3 3]\n",
            " [0 1 0]\n",
            " ...\n",
            " [4 4 3]\n",
            " [0 1 0]\n",
            " [0 1 2]]\n",
            "[[1 0 3]\n",
            " [1 3 3]\n",
            " [0 1 0]\n",
            " ...\n",
            " [4 4 3]\n",
            " [0 1 0]\n",
            " [0 1 2]]\n"
          ]
        }
      ],
      "source": [
        "Z = np.random.randint(0,5,(10,3))\n",
        "print(Z)\n",
        "E = np.all(Z[:,1:] == Z[:,:-1], axis=1)\n",
        "U = Z[~E]\n",
        "print(U)\n",
        "U = Z[Z.max(axis=1) != Z.min(axis=1),:]\n",
        "print(U)"
      ]
    },
    {
      "cell_type": "markdown",
      "metadata": {
        "id": "SlsTAPZglOv5"
      },
      "source": [
        "#### 95. Convert a vector of ints into a matrix binary representation (★★★) \n",
        "(**hint**: np.unpackbits)"
      ]
    },
    {
      "cell_type": "code",
      "execution_count": 103,
      "metadata": {
        "id": "Px2_OnjAlOv6",
        "colab": {
          "base_uri": "https://localhost:8080/"
        },
        "outputId": "e1f4b768-4bf5-4fe9-ef28-91e8666b1afe"
      },
      "outputs": [
        {
          "output_type": "stream",
          "name": "stdout",
          "text": [
            "[[0 0 0 ... 0 0 0]\n",
            " [0 0 0 ... 0 0 1]\n",
            " [0 0 0 ... 0 1 0]\n",
            " ...\n",
            " [0 0 1 ... 0 0 0]\n",
            " [0 1 0 ... 0 0 0]\n",
            " [1 0 0 ... 0 0 0]]\n",
            "[[0 0 0 ... 0 0 0]\n",
            " [0 0 0 ... 0 0 1]\n",
            " [0 0 0 ... 0 1 0]\n",
            " ...\n",
            " [0 0 1 ... 0 0 0]\n",
            " [0 1 0 ... 0 0 0]\n",
            " [1 0 0 ... 0 0 0]]\n"
          ]
        }
      ],
      "source": [
        "I = np.array([0, 1, 2, 3, 15, 16, 32, 64, 128])\n",
        "B = ((I.reshape(-1,1) & (2**np.arange(8))) != 0).astype(int)\n",
        "print(B[:,::-1])\n",
        "\n",
        "\n",
        "I = np.array([0, 1, 2, 3, 15, 16, 32, 64, 128], dtype=np.uint8)\n",
        "print(np.unpackbits(I[:, np.newaxis], axis=1))"
      ]
    },
    {
      "cell_type": "markdown",
      "metadata": {
        "id": "TgwmCliBlOv6"
      },
      "source": [
        "#### 96. Given a two dimensional array, how to extract unique rows? (★★★) \n",
        "(**hint**: np.ascontiguousarray)"
      ]
    },
    {
      "cell_type": "code",
      "execution_count": 104,
      "metadata": {
        "id": "WTQttAeclOv6",
        "colab": {
          "base_uri": "https://localhost:8080/"
        },
        "outputId": "7428d65e-8ce5-474c-feda-d998449e3213"
      },
      "outputs": [
        {
          "output_type": "stream",
          "name": "stdout",
          "text": [
            "[[0 0 0]\n",
            " [0 1 0]\n",
            " [1 0 1]\n",
            " [1 1 0]\n",
            " [1 1 1]]\n",
            "[[0 0 0]\n",
            " [0 1 0]\n",
            " [1 0 1]\n",
            " [1 1 0]\n",
            " [1 1 1]]\n"
          ]
        }
      ],
      "source": [
        "Z = np.random.randint(0,2,(6,3))\n",
        "T = np.ascontiguousarray(Z).view(np.dtype((np.void, Z.dtype.itemsize * Z.shape[1])))\n",
        "_, idx = np.unique(T, return_index=True)\n",
        "uZ = Z[idx]\n",
        "print(uZ)\n",
        "\n",
        "uZ = np.unique(Z, axis=0)\n",
        "print(uZ)"
      ]
    },
    {
      "cell_type": "markdown",
      "metadata": {
        "id": "dDT7-tdnlOv6"
      },
      "source": [
        "#### 97. Considering 2 vectors A & B, write the einsum equivalent of inner, outer, sum, and mul function (★★★) \n",
        "(**hint**: np.einsum)"
      ]
    },
    {
      "cell_type": "code",
      "execution_count": 105,
      "metadata": {
        "id": "vN7n5BzQlOv6",
        "colab": {
          "base_uri": "https://localhost:8080/"
        },
        "outputId": "6d9e52aa-53df-417e-8d7c-730bb0e9bb18"
      },
      "outputs": [
        {
          "output_type": "execute_result",
          "data": {
            "text/plain": [
              "array([[0.11625524, 0.14455503, 0.10150772, ..., 0.27746474, 0.08305821,\n",
              "        0.10087735],\n",
              "       [0.15235824, 0.1894465 , 0.13303088, ..., 0.36363125, 0.10885188,\n",
              "        0.13220474],\n",
              "       [0.22816074, 0.28370145, 0.19921748, ..., 0.544548  , 0.16300875,\n",
              "        0.19798031],\n",
              "       ...,\n",
              "       [0.17021191, 0.21164625, 0.14861972, ..., 0.40624234, 0.12160738,\n",
              "        0.14769678],\n",
              "       [0.04725774, 0.05876159, 0.04126287, ..., 0.11278937, 0.03376315,\n",
              "        0.04100662],\n",
              "       [0.27301998, 0.33948069, 0.23838611, ..., 0.65161292, 0.1950583 ,\n",
              "        0.23690571]])"
            ]
          },
          "metadata": {},
          "execution_count": 105
        }
      ],
      "source": [
        "A = np.random.uniform(0,1,10)\n",
        "B = np.random.uniform(0,1,10)\n",
        "\n",
        "np.einsum('i->', A)       # np.sum(A)\n",
        "np.einsum('i,i->i', A, B) # A * B\n",
        "np.einsum('i,i', A, B)    # np.inner(A, B)\n",
        "np.einsum('i,j->ij', A, B)    # np.outer(A, B)"
      ]
    },
    {
      "cell_type": "markdown",
      "metadata": {
        "id": "GpIyF7RHlOv6"
      },
      "source": [
        "#### 98. Considering a path described by two vectors (X,Y), how to sample it using equidistant samples (★★★)? \n",
        "(**hint**: np.cumsum, np.interp)"
      ]
    },
    {
      "cell_type": "code",
      "execution_count": 106,
      "metadata": {
        "collapsed": true,
        "id": "LvQfqOZ4lOv6"
      },
      "outputs": [],
      "source": [
        "phi = np.arange(0, 10*np.pi, 0.1)\n",
        "a = 1\n",
        "x = a*phi*np.cos(phi)\n",
        "y = a*phi*np.sin(phi)\n",
        "\n",
        "dr = (np.diff(x)**2 + np.diff(y)**2)**.5 \n",
        "r = np.zeros_like(x)\n",
        "r[1:] = np.cumsum(dr)               \n",
        "r_int = np.linspace(0, r.max(), 200) \n",
        "x_int = np.interp(r_int, r, x)       \n",
        "y_int = np.interp(r_int, r, y)"
      ]
    },
    {
      "cell_type": "markdown",
      "metadata": {
        "id": "a_hI2wdolOv6"
      },
      "source": [
        "#### 99. Given an integer n and a 2D array X, select from X the rows which can be interpreted as draws from a multinomial distribution with n degrees, i.e., the rows which only contain integers and which sum to n. (★★★) \n",
        "(**hint**: np.logical\\_and.reduce, np.mod)"
      ]
    },
    {
      "cell_type": "code",
      "execution_count": 107,
      "metadata": {
        "id": "evQ0qjUclOv6",
        "colab": {
          "base_uri": "https://localhost:8080/"
        },
        "outputId": "fe1d0d9f-6964-4d81-afe1-7128cf540c33"
      },
      "outputs": [
        {
          "output_type": "stream",
          "name": "stdout",
          "text": [
            "[[2. 0. 1. 1.]]\n"
          ]
        }
      ],
      "source": [
        "X = np.asarray([[1.0, 0.0, 3.0, 8.0],\n",
        "                [2.0, 0.0, 1.0, 1.0],\n",
        "                [1.5, 2.5, 1.0, 0.0]])\n",
        "n = 4\n",
        "M = np.logical_and.reduce(np.mod(X, 1) == 0, axis=-1)\n",
        "M &= (X.sum(axis=-1) == n)\n",
        "print(X[M])"
      ]
    },
    {
      "cell_type": "markdown",
      "metadata": {
        "id": "qr6Y5GkQlOv6"
      },
      "source": [
        "#### 100. Compute bootstrapped 95% confidence intervals for the mean of a 1D array X (i.e., resample the elements of an array with replacement N times, compute the mean of each sample, and then compute percentiles over the means). (★★★) \n",
        "(**hint**: np.percentile)"
      ]
    },
    {
      "cell_type": "code",
      "execution_count": 108,
      "metadata": {
        "id": "gJpf_OgJlOv7",
        "colab": {
          "base_uri": "https://localhost:8080/"
        },
        "outputId": "07154e1c-ea0f-4b7a-a3f1-e37395b4b348"
      },
      "outputs": [
        {
          "output_type": "stream",
          "name": "stdout",
          "text": [
            "[-0.16005475  0.2043962 ]\n"
          ]
        }
      ],
      "source": [
        "X = np.random.randn(100) # random 1D array\n",
        "N = 1000 # number of bootstrap samples\n",
        "idx = np.random.randint(0, X.size, (N, X.size))\n",
        "means = X[idx].mean(axis=1)\n",
        "confint = np.percentile(means, [2.5, 97.5])\n",
        "print(confint)"
      ]
    }
  ],
  "metadata": {
    "kernelspec": {
      "display_name": "Python 3",
      "language": "python",
      "name": "python3"
    },
    "language_info": {
      "codemirror_mode": {
        "name": "ipython",
        "version": 3
      },
      "file_extension": ".py",
      "mimetype": "text/x-python",
      "name": "python",
      "nbconvert_exporter": "python",
      "pygments_lexer": "ipython3",
      "version": "3.8.3"
    },
    "colab": {
      "name": "Numpy_tasks_guvi.ipynb",
      "provenance": [],
      "collapsed_sections": [],
      "include_colab_link": true
    }
  },
  "nbformat": 4,
  "nbformat_minor": 0
}